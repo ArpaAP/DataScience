{
    "cells": [
        {
            "cell_type": "markdown",
            "metadata": {
                "id": "MX3o_Mgry1S2"
            },
            "source": [
                "# 가설 검정\n",
                "\n",
                "데이터 과학자들은 종종 세상에 대한 예/아니오 질문에 직면합니다. 이 과정에서 이러한 질문의 몇 가지 예를 보았습니다:\n",
                "\n",
                "- 초콜릿이 몸에 좋은가?\n",
                "- Broad Street 펌프의 물이 콜레라를 유발했는가?\n",
                "- 지난 10년 동안 캘리포니아의 인구 통계가 변화했는가?\n",
                "\n",
                "이러한 질문에 답할 수 있는지 여부는 우리가 가진 데이터에 달려 있습니다. 캘리포니아에 대한 인구 조사 데이터는 답에 대한 불확실성이 거의 없이 인구 통계에 대한 질문을 해결할 수 있습니다. 우리는 Broad Street 펌프의 물이 콜레라 희생자의 배설물로 오염되었다는 것을 알고 있으므로, 그것이 콜레라를 유발했는지에 대해 꽤 정확한 추측을 할 수 있습니다.\n",
                "\n",
                "초콜릿이나 다른 치료법이 몸에 좋은지 여부는 거의 확실히 의료 전문가들에 의해 결정되어야 하지만, 초기 단계는 데이터 과학을 사용하여 연구와 무작위 실험의 데이터를 분석하는 것으로 구성됩니다.\n",
                "\n",
                "이 장에서는 무작위 표본과 경험적 분포를 기반으로 결론을 내리면서 이러한 예/아니오 질문에 답하려고 시도할 것입니다."
            ]
        }
    ],
    "metadata": {
        "anaconda-cloud": {},
        "kernelspec": {
            "display_name": "Python 3",
            "language": "python",
            "name": "python3"
        },
        "language_info": {
            "codemirror_mode": {
                "name": "ipython",
                "version": 3
            },
            "file_extension": ".py",
            "mimetype": "text/x-python",
            "name": "python",
            "nbconvert_exporter": "python",
            "pygments_lexer": "ipython3",
            "version": "3.7.8"
        },
        "colab": {
            "provenance": []
        }
    },
    "nbformat": 4,
    "nbformat_minor": 0
}