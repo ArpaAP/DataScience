{
 "cells": [
  {
   "cell_type": "code",
   "execution_count": 31,
   "metadata": {
    "colab": {
     "base_uri": "https://localhost:8080/"
    },
    "executionInfo": {
     "elapsed": 4831,
     "status": "ok",
     "timestamp": 1759191468973,
     "user": {
      "displayName": "김진욱 (토이젠)",
      "userId": "01411997590264032911"
     },
     "user_tz": -540
    },
    "id": "VzmrBXDpq29P",
    "outputId": "0c4bbc33-6f81-42b6-b126-8fde69e1c737"
   },
   "outputs": [
    {
     "name": "stdout",
     "output_type": "stream",
     "text": [
      "Requirement already satisfied: datascience in /usr/local/lib/python3.12/dist-packages (0.18.0)\n",
      "Requirement already satisfied: folium>=0.9.1 in /usr/local/lib/python3.12/dist-packages (from datascience) (0.20.0)\n",
      "Requirement already satisfied: setuptools in /usr/local/lib/python3.12/dist-packages (from datascience) (75.2.0)\n",
      "Requirement already satisfied: matplotlib>=3.0.0 in /usr/local/lib/python3.12/dist-packages (from datascience) (3.10.0)\n",
      "Requirement already satisfied: pandas in /usr/local/lib/python3.12/dist-packages (from datascience) (2.2.2)\n",
      "Requirement already satisfied: scipy in /usr/local/lib/python3.12/dist-packages (from datascience) (1.16.2)\n",
      "Requirement already satisfied: numpy in /usr/local/lib/python3.12/dist-packages (from datascience) (2.0.2)\n",
      "Requirement already satisfied: ipython in /usr/local/lib/python3.12/dist-packages (from datascience) (7.34.0)\n",
      "Requirement already satisfied: plotly in /usr/local/lib/python3.12/dist-packages (from datascience) (5.24.1)\n",
      "Requirement already satisfied: branca in /usr/local/lib/python3.12/dist-packages (from datascience) (0.8.1)\n",
      "Requirement already satisfied: jinja2>=2.9 in /usr/local/lib/python3.12/dist-packages (from folium>=0.9.1->datascience) (3.1.6)\n",
      "Requirement already satisfied: requests in /usr/local/lib/python3.12/dist-packages (from folium>=0.9.1->datascience) (2.32.4)\n",
      "Requirement already satisfied: xyzservices in /usr/local/lib/python3.12/dist-packages (from folium>=0.9.1->datascience) (2025.4.0)\n",
      "Requirement already satisfied: contourpy>=1.0.1 in /usr/local/lib/python3.12/dist-packages (from matplotlib>=3.0.0->datascience) (1.3.3)\n",
      "Requirement already satisfied: cycler>=0.10 in /usr/local/lib/python3.12/dist-packages (from matplotlib>=3.0.0->datascience) (0.12.1)\n",
      "Requirement already satisfied: fonttools>=4.22.0 in /usr/local/lib/python3.12/dist-packages (from matplotlib>=3.0.0->datascience) (4.60.0)\n",
      "Requirement already satisfied: kiwisolver>=1.3.1 in /usr/local/lib/python3.12/dist-packages (from matplotlib>=3.0.0->datascience) (1.4.9)\n",
      "Requirement already satisfied: packaging>=20.0 in /usr/local/lib/python3.12/dist-packages (from matplotlib>=3.0.0->datascience) (25.0)\n",
      "Requirement already satisfied: pillow>=8 in /usr/local/lib/python3.12/dist-packages (from matplotlib>=3.0.0->datascience) (11.3.0)\n",
      "Requirement already satisfied: pyparsing>=2.3.1 in /usr/local/lib/python3.12/dist-packages (from matplotlib>=3.0.0->datascience) (3.2.4)\n",
      "Requirement already satisfied: python-dateutil>=2.7 in /usr/local/lib/python3.12/dist-packages (from matplotlib>=3.0.0->datascience) (2.9.0.post0)\n",
      "Requirement already satisfied: jedi>=0.16 in /usr/local/lib/python3.12/dist-packages (from ipython->datascience) (0.19.2)\n",
      "Requirement already satisfied: decorator in /usr/local/lib/python3.12/dist-packages (from ipython->datascience) (4.4.2)\n",
      "Requirement already satisfied: pickleshare in /usr/local/lib/python3.12/dist-packages (from ipython->datascience) (0.7.5)\n",
      "Requirement already satisfied: traitlets>=4.2 in /usr/local/lib/python3.12/dist-packages (from ipython->datascience) (5.7.1)\n",
      "Requirement already satisfied: prompt-toolkit!=3.0.0,!=3.0.1,<3.1.0,>=2.0.0 in /usr/local/lib/python3.12/dist-packages (from ipython->datascience) (3.0.52)\n",
      "Requirement already satisfied: pygments in /usr/local/lib/python3.12/dist-packages (from ipython->datascience) (2.19.2)\n",
      "Requirement already satisfied: backcall in /usr/local/lib/python3.12/dist-packages (from ipython->datascience) (0.2.0)\n",
      "Requirement already satisfied: matplotlib-inline in /usr/local/lib/python3.12/dist-packages (from ipython->datascience) (0.1.7)\n",
      "Requirement already satisfied: pexpect>4.3 in /usr/local/lib/python3.12/dist-packages (from ipython->datascience) (4.9.0)\n",
      "Requirement already satisfied: pytz>=2020.1 in /usr/local/lib/python3.12/dist-packages (from pandas->datascience) (2025.2)\n",
      "Requirement already satisfied: tzdata>=2022.7 in /usr/local/lib/python3.12/dist-packages (from pandas->datascience) (2025.2)\n",
      "Requirement already satisfied: tenacity>=6.2.0 in /usr/local/lib/python3.12/dist-packages (from plotly->datascience) (8.5.0)\n",
      "Requirement already satisfied: parso<0.9.0,>=0.8.4 in /usr/local/lib/python3.12/dist-packages (from jedi>=0.16->ipython->datascience) (0.8.5)\n",
      "Requirement already satisfied: MarkupSafe>=2.0 in /usr/local/lib/python3.12/dist-packages (from jinja2>=2.9->folium>=0.9.1->datascience) (3.0.2)\n",
      "Requirement already satisfied: ptyprocess>=0.5 in /usr/local/lib/python3.12/dist-packages (from pexpect>4.3->ipython->datascience) (0.7.0)\n",
      "Requirement already satisfied: wcwidth in /usr/local/lib/python3.12/dist-packages (from prompt-toolkit!=3.0.0,!=3.0.1,<3.1.0,>=2.0.0->ipython->datascience) (0.2.13)\n",
      "Requirement already satisfied: six>=1.5 in /usr/local/lib/python3.12/dist-packages (from python-dateutil>=2.7->matplotlib>=3.0.0->datascience) (1.17.0)\n",
      "Requirement already satisfied: charset_normalizer<4,>=2 in /usr/local/lib/python3.12/dist-packages (from requests->folium>=0.9.1->datascience) (3.4.3)\n",
      "Requirement already satisfied: idna<4,>=2.5 in /usr/local/lib/python3.12/dist-packages (from requests->folium>=0.9.1->datascience) (3.10)\n",
      "Requirement already satisfied: urllib3<3,>=1.21.1 in /usr/local/lib/python3.12/dist-packages (from requests->folium>=0.9.1->datascience) (2.5.0)\n",
      "Requirement already satisfied: certifi>=2017.4.17 in /usr/local/lib/python3.12/dist-packages (from requests->folium>=0.9.1->datascience) (2025.8.3)\n"
     ]
    }
   ],
   "source": [
    "!pip install datascience"
   ]
  },
  {
   "cell_type": "code",
   "execution_count": null,
   "metadata": {
    "executionInfo": {
     "elapsed": 20,
     "status": "ok",
     "timestamp": 1759191470218,
     "user": {
      "displayName": "김진욱 (토이젠)",
      "userId": "01411997590264032911"
     },
     "user_tz": -540
    },
    "id": "lMhbl6YzT_op",
    "tags": [
     "remove-input"
    ]
   },
   "outputs": [],
   "source": [
    "from datascience import *\n",
    "#path_data = '../../../assets/data/'\n",
    "path_data = 'data/'\n",
    "import numpy as np\n",
    "\n",
    "import matplotlib\n",
    "matplotlib.use('Agg')\n",
    "%matplotlib inline\n",
    "import matplotlib.pyplot as plots\n",
    "plots.style.use('fivethirtyeight')"
   ]
  },
  {
   "cell_type": "markdown",
   "metadata": {
    "id": "W34Gsxa1T_ot"
   },
   "source": [
    "# A/B Testing\n",
    "현대 데이터 분석에서 두 개의 수치 표본이 동일한 기저 분포에서 나온 것인지 판단하는 것을 *A/B 검정*이라고 합니다. 이 이름은 두 표본의 라벨 A와 B에서 유래했습니다.\n",
    "\n",
    "예제를 통해 이 방법을 개발하겠습니다. 데이터는 대형 병원 시스템의 신생아 표본에서 나온 것입니다. 표본추출이 여러 단계로 이루어졌지만, 단순 무작위 표본으로 간주하겠습니다. [Stat Labs](https://www.stat.berkeley.edu/~statlabs/) by Deborah Nolan and Terry Speed has details about a larger dataset from which this set is drawn."
   ]
  },
  {
   "cell_type": "markdown",
   "metadata": {
    "id": "AsPg0_sQT_ow"
   },
   "source": [
    "## 흡연자와 비흡연자\n",
    "표 `births`에는 1,174쌍의 엄마-아기 쌍에 대한 다음 변수가 포함되어 있습니다: 아기의 출생 체중(온스), 임신 일수, 엄마의 완성된 나이, 엄마의 키(인치), 임신 체중(파운드), 그리고 엄마가 임신 중에 흡연했는지 여부입니다."
   ]
  },
  {
   "cell_type": "code",
   "execution_count": null,
   "metadata": {
    "colab": {
     "base_uri": "https://localhost:8080/",
     "height": 392
    },
    "executionInfo": {
     "elapsed": 2104,
     "status": "ok",
     "timestamp": 1759186279663,
     "user": {
      "displayName": "김진욱 (토이젠)",
      "userId": "01411997590264032911"
     },
     "user_tz": -540
    },
    "id": "5ObcVKoeT_ox",
    "outputId": "5e1916ba-4c8f-4fca-b928-c25986b7ca36"
   },
   "outputs": [
    {
     "data": {
      "text/html": [
       "<table border=\"1\" class=\"dataframe\">\n",
       "    <thead>\n",
       "        <tr>\n",
       "            <th>Birth Weight</th> <th>Gestational Days</th> <th>Maternal Age</th> <th>Maternal Height</th> <th>Maternal Pregnancy Weight</th> <th>Maternal Smoker</th>\n",
       "        </tr>\n",
       "    </thead>\n",
       "    <tbody>\n",
       "        <tr>\n",
       "            <td>120         </td> <td>284             </td> <td>27          </td> <td>62             </td> <td>100                      </td> <td>False          </td>\n",
       "        </tr>\n",
       "        <tr>\n",
       "            <td>113         </td> <td>282             </td> <td>33          </td> <td>64             </td> <td>135                      </td> <td>False          </td>\n",
       "        </tr>\n",
       "        <tr>\n",
       "            <td>128         </td> <td>279             </td> <td>28          </td> <td>64             </td> <td>115                      </td> <td>True           </td>\n",
       "        </tr>\n",
       "        <tr>\n",
       "            <td>108         </td> <td>282             </td> <td>23          </td> <td>67             </td> <td>125                      </td> <td>True           </td>\n",
       "        </tr>\n",
       "        <tr>\n",
       "            <td>136         </td> <td>286             </td> <td>25          </td> <td>62             </td> <td>93                       </td> <td>False          </td>\n",
       "        </tr>\n",
       "        <tr>\n",
       "            <td>138         </td> <td>244             </td> <td>33          </td> <td>62             </td> <td>178                      </td> <td>False          </td>\n",
       "        </tr>\n",
       "        <tr>\n",
       "            <td>132         </td> <td>245             </td> <td>23          </td> <td>65             </td> <td>140                      </td> <td>False          </td>\n",
       "        </tr>\n",
       "        <tr>\n",
       "            <td>120         </td> <td>289             </td> <td>25          </td> <td>62             </td> <td>125                      </td> <td>False          </td>\n",
       "        </tr>\n",
       "        <tr>\n",
       "            <td>143         </td> <td>299             </td> <td>30          </td> <td>66             </td> <td>136                      </td> <td>True           </td>\n",
       "        </tr>\n",
       "        <tr>\n",
       "            <td>140         </td> <td>351             </td> <td>27          </td> <td>68             </td> <td>120                      </td> <td>False          </td>\n",
       "        </tr>\n",
       "    </tbody>\n",
       "</table>\n",
       "<p>... (1164 rows omitted)</p>"
      ],
      "text/plain": [
       "Birth Weight | Gestational Days | Maternal Age | Maternal Height | Maternal Pregnancy Weight | Maternal Smoker\n",
       "120          | 284              | 27           | 62              | 100                       | False\n",
       "113          | 282              | 33           | 64              | 135                       | False\n",
       "128          | 279              | 28           | 64              | 115                       | True\n",
       "108          | 282              | 23           | 67              | 125                       | True\n",
       "136          | 286              | 25           | 62              | 93                        | False\n",
       "138          | 244              | 33           | 62              | 178                       | False\n",
       "132          | 245              | 23           | 65              | 140                       | False\n",
       "120          | 289              | 25           | 62              | 125                       | False\n",
       "143          | 299              | 30           | 66              | 136                       | True\n",
       "140          | 351              | 27           | 68              | 120                       | False\n",
       "... (1164 rows omitted)"
      ]
     },
     "execution_count": 4,
     "metadata": {},
     "output_type": "execute_result"
    }
   ],
   "source": [
    "births = Table.read_table(path_data+'baby.csv')\n",
    "births"
   ]
  },
  {
   "cell_type": "markdown",
   "metadata": {
    "id": "sY3o3wOvT_oz"
   },
   "source": [
    "이 연구의 목표 중 하나는 산모의 흡연이 출생 체중과 연관되어 있는지 확인하는 것이었습니다. 두 변수에 대해 무엇을 말할 수 있는지 살펴보겠습니다.\n",
    "\n",
    "`Birth Weight`와 `Maternal Smoker`만 선택하여 시작하겠습니다. 표본의 여성 중 715명이 비흡연자이고 459명이 흡연자입니다."
   ]
  },
  {
   "cell_type": "code",
   "execution_count": null,
   "metadata": {
    "colab": {
     "base_uri": "https://localhost:8080/",
     "height": 392
    },
    "executionInfo": {
     "elapsed": 23,
     "status": "ok",
     "timestamp": 1759186283103,
     "user": {
      "displayName": "김진욱 (토이젠)",
      "userId": "01411997590264032911"
     },
     "user_tz": -540
    },
    "id": "rcwc6EbbT_o0",
    "outputId": "2c9000f2-8a87-40b5-9897-6b81395ad660"
   },
   "outputs": [
    {
     "data": {
      "text/html": [
       "<table border=\"1\" class=\"dataframe\">\n",
       "    <thead>\n",
       "        <tr>\n",
       "            <th>Maternal Smoker</th> <th>Birth Weight</th>\n",
       "        </tr>\n",
       "    </thead>\n",
       "    <tbody>\n",
       "        <tr>\n",
       "            <td>False          </td> <td>120         </td>\n",
       "        </tr>\n",
       "        <tr>\n",
       "            <td>False          </td> <td>113         </td>\n",
       "        </tr>\n",
       "        <tr>\n",
       "            <td>True           </td> <td>128         </td>\n",
       "        </tr>\n",
       "        <tr>\n",
       "            <td>True           </td> <td>108         </td>\n",
       "        </tr>\n",
       "        <tr>\n",
       "            <td>False          </td> <td>136         </td>\n",
       "        </tr>\n",
       "        <tr>\n",
       "            <td>False          </td> <td>138         </td>\n",
       "        </tr>\n",
       "        <tr>\n",
       "            <td>False          </td> <td>132         </td>\n",
       "        </tr>\n",
       "        <tr>\n",
       "            <td>False          </td> <td>120         </td>\n",
       "        </tr>\n",
       "        <tr>\n",
       "            <td>True           </td> <td>143         </td>\n",
       "        </tr>\n",
       "        <tr>\n",
       "            <td>False          </td> <td>140         </td>\n",
       "        </tr>\n",
       "    </tbody>\n",
       "</table>\n",
       "<p>... (1164 rows omitted)</p>"
      ],
      "text/plain": [
       "Maternal Smoker | Birth Weight\n",
       "False           | 120\n",
       "False           | 113\n",
       "True            | 128\n",
       "True            | 108\n",
       "False           | 136\n",
       "False           | 138\n",
       "False           | 132\n",
       "False           | 120\n",
       "True            | 143\n",
       "False           | 140\n",
       "... (1164 rows omitted)"
      ]
     },
     "execution_count": 5,
     "metadata": {},
     "output_type": "execute_result"
    }
   ],
   "source": [
    "smoking_and_birthweight = births.select('Maternal Smoker', 'Birth Weight')\n",
    "smoking_and_birthweight"
   ]
  },
  {
   "cell_type": "code",
   "execution_count": null,
   "metadata": {
    "colab": {
     "base_uri": "https://localhost:8080/",
     "height": 112
    },
    "executionInfo": {
     "elapsed": 19,
     "status": "ok",
     "timestamp": 1759186287580,
     "user": {
      "displayName": "김진욱 (토이젠)",
      "userId": "01411997590264032911"
     },
     "user_tz": -540
    },
    "id": "DVTvgwLHT_o1",
    "outputId": "dfaa9991-f391-4138-c53c-51d82c634ded"
   },
   "outputs": [
    {
     "data": {
      "text/html": [
       "<table border=\"1\" class=\"dataframe\">\n",
       "    <thead>\n",
       "        <tr>\n",
       "            <th>Maternal Smoker</th> <th>count</th>\n",
       "        </tr>\n",
       "    </thead>\n",
       "    <tbody>\n",
       "        <tr>\n",
       "            <td>False          </td> <td>715  </td>\n",
       "        </tr>\n",
       "        <tr>\n",
       "            <td>True           </td> <td>459  </td>\n",
       "        </tr>\n",
       "    </tbody>\n",
       "</table>"
      ],
      "text/plain": [
       "Maternal Smoker | count\n",
       "False           | 715\n",
       "True            | 459"
      ]
     },
     "execution_count": 6,
     "metadata": {},
     "output_type": "execute_result"
    }
   ],
   "source": [
    "smoking_and_birthweight.group('Maternal Smoker')"
   ]
  },
  {
   "cell_type": "markdown",
   "metadata": {
    "id": "yKZ7AImGT_o3"
   },
   "source": [
    "비흡연 산모의 아기들의 출생 체중 분포를 흡연 산모의 아기들과 비교해 보겠습니다. 두 개의 겹쳐진 히스토그램을 생성하기 위해 열 라벨이나 인덱스인 선택적 `group` 인수와 함께 `hist`를 사용할 것입니다. 테이블의 행들이 먼저 이 열로 그룹화되고 각각에 대해 히스토그램이 그려집니다."
   ]
  },
  {
   "cell_type": "code",
   "execution_count": null,
   "metadata": {
    "colab": {
     "base_uri": "https://localhost:8080/",
     "height": 410
    },
    "executionInfo": {
     "elapsed": 357,
     "status": "ok",
     "timestamp": 1759186338255,
     "user": {
      "displayName": "김진욱 (토이젠)",
      "userId": "01411997590264032911"
     },
     "user_tz": -540
    },
    "id": "W7FNVCNpT_o4",
    "outputId": "52049720-cd61-4441-b84a-caa820f8874a"
   },
   "outputs": [
    {
     "data": {
      "image/png": "[encoded data removed]",
      "text/plain": [
       "<Figure size 600x400 with 1 Axes>"
      ]
     },
     "metadata": {},
     "output_type": "display_data"
    }
   ],
   "source": [
    "smoking_and_birthweight.hist('Birth Weight', group = 'Maternal Smoker')"
   ]
  },
  {
   "cell_type": "markdown",
   "metadata": {
    "id": "MmcowpEsT_o6"
   },
   "source": [
    "흡연한 산모에게서 태어난 아기들의 체중 분포는 비흡연 산모에 해당하는 분포보다 약간 왼쪽으로 치우쳐 있는 것으로 보입니다. 흡연한 산모의 아기들의 체중이 비흡연자의 아기들의 체중보다 평균적으로 더 낮은 것으로 보입니다.\n",
    "\n",
    "이는 그 차이가 단순히 우연한 변동을 반영하는 것인지, 아니면 더 큰 모집단의 분포 차이를 반영하는 것인지에 대한 질문을 제기합니다. 모집단에서는 두 분포 사이에 차이가 없지만, 우연히 선택된 산모들 때문에 표본에서 차이를 보는 것일 수 있을까요?"
   ]
  },
  {
   "cell_type": "markdown",
   "metadata": {
    "id": "hhic8DE2T_o7"
   },
   "source": [
    "## 가설\n",
    "가설 검정을 통해 이 질문에 답할 수 있습니다. 우리가 검정할 우연 모델은 모집단에 기저 차이가 없다고 말합니다. 표본의 분포가 다른 것은 단지 우연 때문입니다.\n",
    "\n",
    "형식적으로 이것이 귀무가설입니다. 이 가설 하에서 유용한 통계량을 시뮬레이션하는 방법을 알아내야 합니다. 하지만 시작으로, 두 가지 자연스러운 가설을 진술하겠습니다.\n",
    "\n",
    "**귀무가설:** 모집단에서 아기의 출생 체중 분포는 흡연하지 않는 산모와 흡연하는 산모가 동일합니다. 표본의 차이는 우연 때문입니다.\n",
    "\n",
    "**대립가설:** 모집단에서 흡연하는 산모의 아기들은 평균적으로 비흡연자의 아기들보다 낮은 출생 체중을 가집니다."
   ]
  },
  {
   "cell_type": "markdown",
   "metadata": {
    "id": "48AxrtGAT_o7"
   },
   "source": [
    "## Test Statistic\n",
    "대립가설은 두 그룹의 평균 출생 체중을 비교하고 흡연하는 산모의 평균이 더 작다고 말합니다. 따라서 두 그룹 평균 간의 차이를 우리의 통계량으로 사용하는 것이 합리적입니다.\n",
    "\n",
    "\"흡연 그룹의 평균 체중 $-$ 비흡연 그룹의 평균 체중\" 순서로 뺄셈을 수행할 것입니다. 이 통계량의 작은 값(즉, 큰 음수 값)은 대립가설을 지지할 것입니다.\n",
    "\n",
    "검정통계량의 관측값은 약 $-9.27$ 온스입니다."
   ]
  },
  {
   "cell_type": "code",
   "execution_count": null,
   "metadata": {
    "colab": {
     "base_uri": "https://localhost:8080/",
     "height": 112
    },
    "executionInfo": {
     "elapsed": 44,
     "status": "ok",
     "timestamp": 1759186450638,
     "user": {
      "displayName": "김진욱 (토이젠)",
      "userId": "01411997590264032911"
     },
     "user_tz": -540
    },
    "id": "SfcwThk7T_o8",
    "outputId": "32d2caf7-2674-4629-fe8b-8ce9d5a9709e"
   },
   "outputs": [
    {
     "data": {
      "text/html": [
       "<table border=\"1\" class=\"dataframe\">\n",
       "    <thead>\n",
       "        <tr>\n",
       "            <th>Maternal Smoker</th> <th>Birth Weight average</th>\n",
       "        </tr>\n",
       "    </thead>\n",
       "    <tbody>\n",
       "        <tr>\n",
       "            <td>False          </td> <td>123.085             </td>\n",
       "        </tr>\n",
       "        <tr>\n",
       "            <td>True           </td> <td>113.819             </td>\n",
       "        </tr>\n",
       "    </tbody>\n",
       "</table>"
      ],
      "text/plain": [
       "Maternal Smoker | Birth Weight average\n",
       "False           | 123.085\n",
       "True            | 113.819"
      ]
     },
     "execution_count": 8,
     "metadata": {},
     "output_type": "execute_result"
    }
   ],
   "source": [
    "means_table = smoking_and_birthweight.group('Maternal Smoker', np.average)\n",
    "means_table"
   ]
  },
  {
   "cell_type": "code",
   "execution_count": null,
   "metadata": {
    "colab": {
     "base_uri": "https://localhost:8080/"
    },
    "executionInfo": {
     "elapsed": 16,
     "status": "ok",
     "timestamp": 1759186458026,
     "user": {
      "displayName": "김진욱 (토이젠)",
      "userId": "01411997590264032911"
     },
     "user_tz": -540
    },
    "id": "MkBdTKlTT_o9",
    "outputId": "aa722cc2-6e2b-4317-fbdc-96c1e1f560df"
   },
   "outputs": [
    {
     "data": {
      "text/plain": [
       "-9.266142572024918"
      ]
     },
     "execution_count": 9,
     "metadata": {},
     "output_type": "execute_result"
    }
   ],
   "source": [
    "means = means_table.column(1)\n",
    "observed_difference = means.item(1) - means.item(0)\n",
    "observed_difference"
   ]
  },
  {
   "cell_type": "markdown",
   "metadata": {
    "id": "G3jYe6zAT_o-"
   },
   "source": [
    "아래 시뮬레이션에서 이러한 차이를 반복적으로 계산할 것이므로, 이 작업을 수행할 함수를 정의하겠습니다. 이 함수는 두 개의 인수를 받습니다:\n",
    "\n",
    "- 데이터 테이블의 이름\n",
    "- 그룹화를 위한 부울 변수가 포함된 열의 라벨\n",
    "\n",
    "`True` 그룹과 `False` 그룹의 평균 간 차이를 반환합니다.\n",
    "\n",
    "곧 왜 두 개의 인수를 지정하는지 알게 될 것입니다. 지금은 함수가 예상대로 반환하는지 확인하기만 하면 됩니다."
   ]
  },
  {
   "cell_type": "code",
   "execution_count": null,
   "metadata": {
    "id": "mQX8VYxQT_o-"
   },
   "outputs": [],
   "source": [
    "def difference_of_means(table, group_label):\n",
    "    \"\"\"Takes: name of table,\n",
    "    column label that indicates the group to which the row belongs\n",
    "    Returns: Difference of mean birth weights of the two groups\"\"\"\n",
    "    reduced = table.select('Birth Weight', group_label)\n",
    "    means_table = reduced.group(group_label, np.average)\n",
    "    means = means_table.column(1)\n",
    "    return means.item(1) - means.item(0)"
   ]
  },
  {
   "cell_type": "markdown",
   "metadata": {
    "id": "nTvNpEOJT_o-"
   },
   "source": [
    "함수가 작동하는지 확인하기 위해, 표본의 두 그룹 간 평균 출생 체중의 관측된 차이를 계산하는 데 사용하겠습니다."
   ]
  },
  {
   "cell_type": "code",
   "execution_count": null,
   "metadata": {
    "colab": {
     "base_uri": "https://localhost:8080/"
    },
    "executionInfo": {
     "elapsed": 32,
     "status": "ok",
     "timestamp": 1759186495209,
     "user": {
      "displayName": "김진욱 (토이젠)",
      "userId": "01411997590264032911"
     },
     "user_tz": -540
    },
    "id": "TDHILszHT_o_",
    "outputId": "de312b2a-5c8f-4b7e-9154-8badccfd1901"
   },
   "outputs": [
    {
     "data": {
      "text/plain": [
       "-9.266142572024918"
      ]
     },
     "execution_count": 11,
     "metadata": {},
     "output_type": "execute_result"
    }
   ],
   "source": [
    "difference_of_means(births, 'Maternal Smoker')"
   ]
  },
  {
   "cell_type": "markdown",
   "metadata": {
    "id": "z5tDA96BT_o_"
   },
   "source": [
    "이는 앞서 계산한 `observed_difference` 값과 동일합니다."
   ]
  },
  {
   "cell_type": "markdown",
   "metadata": {
    "id": "uS7QpEnUT_pA"
   },
   "source": [
    "## 귀무가설 하에서 통계량 예측하기\n",
    "\n",
    "귀무가설 하에서 통계량이 어떻게 변동해야 하는지 보기 위해, 그 가설 하에서 통계량을 시뮬레이션하는 방법을 알아내야 합니다. *무작위 순열*에 기반한 영리한 방법이 바로 그것을 수행합니다.\n",
    "\n",
    "기저 모집단에서 두 분포 사이에 차이가 없다면, 출생 체중이 산모 흡연과 관련하여 `True` 또는 `False` 라벨을 가지는지는 평균에 차이를 만들지 않아야 합니다. 그러면 아이디어는 모든 라벨을 산모들 사이에서 무작위로 섞는 것입니다. 이를 *무작위 순열*이라고 합니다.\n",
    "\n",
    "섞기는 `True` 라벨의 개수가 변하지 않고 `False` 라벨의 개수도 변하지 않도록 보장합니다. 이는 시뮬레이션된 평균 차이와 원래 평균 차이의 비교 가능성을 위해 중요합니다. 나중에 이 과정에서 표본 크기가 표본 평균의 변동성에 영향을 미친다는 것을 보게 될 것입니다.\n",
    "\n",
    "두 개의 새로운 그룹 평균의 차이를 구합니다: 무작위로 흡연자 라벨이 지정된 산모의 아기들의 평균 체중과 무작위로 비흡연자 라벨이 지정된 나머지 산모의 아기들의 평균 체중입니다. 이것은 귀무가설 하에서의 검정통계량의 시뮬레이션된 값입니다.\n",
    "\n",
    "이를 수행하는 방법을 살펴보겠습니다. 데이터로 시작하는 것이 항상 좋은 생각입니다. 필요한 열만 포함하도록 테이블을 축소했습니다."
   ]
  },
  {
   "cell_type": "code",
   "execution_count": null,
   "metadata": {
    "colab": {
     "base_uri": "https://localhost:8080/",
     "height": 392
    },
    "executionInfo": {
     "elapsed": 45,
     "status": "ok",
     "timestamp": 1759186501323,
     "user": {
      "displayName": "김진욱 (토이젠)",
      "userId": "01411997590264032911"
     },
     "user_tz": -540
    },
    "id": "NWCrlTppT_pA",
    "outputId": "9f368acc-4408-4ada-9f5a-a26aaea8bcc5"
   },
   "outputs": [
    {
     "data": {
      "text/html": [
       "<table border=\"1\" class=\"dataframe\">\n",
       "    <thead>\n",
       "        <tr>\n",
       "            <th>Maternal Smoker</th> <th>Birth Weight</th>\n",
       "        </tr>\n",
       "    </thead>\n",
       "    <tbody>\n",
       "        <tr>\n",
       "            <td>False          </td> <td>120         </td>\n",
       "        </tr>\n",
       "        <tr>\n",
       "            <td>False          </td> <td>113         </td>\n",
       "        </tr>\n",
       "        <tr>\n",
       "            <td>True           </td> <td>128         </td>\n",
       "        </tr>\n",
       "        <tr>\n",
       "            <td>True           </td> <td>108         </td>\n",
       "        </tr>\n",
       "        <tr>\n",
       "            <td>False          </td> <td>136         </td>\n",
       "        </tr>\n",
       "        <tr>\n",
       "            <td>False          </td> <td>138         </td>\n",
       "        </tr>\n",
       "        <tr>\n",
       "            <td>False          </td> <td>132         </td>\n",
       "        </tr>\n",
       "        <tr>\n",
       "            <td>False          </td> <td>120         </td>\n",
       "        </tr>\n",
       "        <tr>\n",
       "            <td>True           </td> <td>143         </td>\n",
       "        </tr>\n",
       "        <tr>\n",
       "            <td>False          </td> <td>140         </td>\n",
       "        </tr>\n",
       "    </tbody>\n",
       "</table>\n",
       "<p>... (1164 rows omitted)</p>"
      ],
      "text/plain": [
       "Maternal Smoker | Birth Weight\n",
       "False           | 120\n",
       "False           | 113\n",
       "True            | 128\n",
       "True            | 108\n",
       "False           | 136\n",
       "False           | 138\n",
       "False           | 132\n",
       "False           | 120\n",
       "True            | 143\n",
       "False           | 140\n",
       "... (1164 rows omitted)"
      ]
     },
     "execution_count": 12,
     "metadata": {},
     "output_type": "execute_result"
    }
   ],
   "source": [
    "smoking_and_birthweight"
   ]
  },
  {
   "cell_type": "markdown",
   "metadata": {
    "id": "lkJPFtWWT_pB"
   },
   "source": [
    "테이블에는 1,174개의 행이 있습니다. 모든 라벨을 섞으려면 비복원으로 1,174개의 행의 무작위 표본을 추출할 것입니다. 그러면 표본은 무작위 순서로 테이블의 모든 행을 포함할 것입니다.\n",
    "\n",
    "선택적 `with_replacement=False` 인수와 함께 Table 메서드 `sample`을 사용할 수 있습니다. 기본적으로 `sample`은 테이블의 행 수만큼 추출하므로 표본 크기를 지정할 필요가 없습니다."
   ]
  },
  {
   "cell_type": "code",
   "execution_count": null,
   "metadata": {
    "id": "ZDHEdKBuT_pC"
   },
   "outputs": [],
   "source": [
    "shuffled_labels = smoking_and_birthweight.sample(with_replacement = False).column(0)\n",
    "original_and_shuffled = smoking_and_birthweight.with_column('Shuffled Label', shuffled_labels)"
   ]
  },
  {
   "cell_type": "code",
   "execution_count": null,
   "metadata": {
    "colab": {
     "base_uri": "https://localhost:8080/",
     "height": 392
    },
    "executionInfo": {
     "elapsed": 65,
     "status": "ok",
     "timestamp": 1759186748326,
     "user": {
      "displayName": "김진욱 (토이젠)",
      "userId": "01411997590264032911"
     },
     "user_tz": -540
    },
    "id": "V8Sy3iddT_pC",
    "outputId": "f2af81f0-c455-4196-c0c6-80f41f6d68d3"
   },
   "outputs": [
    {
     "data": {
      "text/html": [
       "<table border=\"1\" class=\"dataframe\">\n",
       "    <thead>\n",
       "        <tr>\n",
       "            <th>Maternal Smoker</th> <th>Birth Weight</th> <th>Shuffled Label</th>\n",
       "        </tr>\n",
       "    </thead>\n",
       "    <tbody>\n",
       "        <tr>\n",
       "            <td>False          </td> <td>120         </td> <td>False         </td>\n",
       "        </tr>\n",
       "        <tr>\n",
       "            <td>False          </td> <td>113         </td> <td>True          </td>\n",
       "        </tr>\n",
       "        <tr>\n",
       "            <td>True           </td> <td>128         </td> <td>True          </td>\n",
       "        </tr>\n",
       "        <tr>\n",
       "            <td>True           </td> <td>108         </td> <td>False         </td>\n",
       "        </tr>\n",
       "        <tr>\n",
       "            <td>False          </td> <td>136         </td> <td>True          </td>\n",
       "        </tr>\n",
       "        <tr>\n",
       "            <td>False          </td> <td>138         </td> <td>False         </td>\n",
       "        </tr>\n",
       "        <tr>\n",
       "            <td>False          </td> <td>132         </td> <td>True          </td>\n",
       "        </tr>\n",
       "        <tr>\n",
       "            <td>False          </td> <td>120         </td> <td>False         </td>\n",
       "        </tr>\n",
       "        <tr>\n",
       "            <td>True           </td> <td>143         </td> <td>False         </td>\n",
       "        </tr>\n",
       "        <tr>\n",
       "            <td>False          </td> <td>140         </td> <td>False         </td>\n",
       "        </tr>\n",
       "    </tbody>\n",
       "</table>\n",
       "<p>... (1164 rows omitted)</p>"
      ],
      "text/plain": [
       "Maternal Smoker | Birth Weight | Shuffled Label\n",
       "False           | 120          | False\n",
       "False           | 113          | True\n",
       "True            | 128          | True\n",
       "True            | 108          | False\n",
       "False           | 136          | True\n",
       "False           | 138          | False\n",
       "False           | 132          | True\n",
       "False           | 120          | False\n",
       "True            | 143          | False\n",
       "False           | 140          | False\n",
       "... (1164 rows omitted)"
      ]
     },
     "execution_count": 14,
     "metadata": {},
     "output_type": "execute_result"
    }
   ],
   "source": [
    "original_and_shuffled"
   ]
  },
  {
   "cell_type": "markdown",
   "metadata": {
    "id": "b-7N2bJkT_pC"
   },
   "source": [
    "이제 각 아기의 산모는 `Shuffled Label` 열에 무작위 흡연자/비흡연자 라벨을 가지고 있으며, 원래 라벨은 `Maternal Smoker`에 있습니다. 귀무가설이 참이면, 라벨의 모든 무작위 재배열은 동등하게 가능해야 합니다.\n",
    "\n",
    "무작위로 라벨이 지정된 두 그룹에서 평균 체중이 얼마나 다른지 살펴보겠습니다."
   ]
  },
  {
   "cell_type": "code",
   "execution_count": null,
   "metadata": {
    "colab": {
     "base_uri": "https://localhost:8080/",
     "height": 112
    },
    "executionInfo": {
     "elapsed": 7,
     "status": "ok",
     "timestamp": 1759186750762,
     "user": {
      "displayName": "김진욱 (토이젠)",
      "userId": "01411997590264032911"
     },
     "user_tz": -540
    },
    "id": "cpCsX5lZT_pD",
    "outputId": "5be22e5d-5e86-46c3-bad6-a1c072b1900a"
   },
   "outputs": [
    {
     "data": {
      "text/html": [
       "<table border=\"1\" class=\"dataframe\">\n",
       "    <thead>\n",
       "        <tr>\n",
       "            <th>Shuffled Label</th> <th>Birth Weight average</th>\n",
       "        </tr>\n",
       "    </thead>\n",
       "    <tbody>\n",
       "        <tr>\n",
       "            <td>False         </td> <td>118.972             </td>\n",
       "        </tr>\n",
       "        <tr>\n",
       "            <td>True          </td> <td>120.227             </td>\n",
       "        </tr>\n",
       "    </tbody>\n",
       "</table>"
      ],
      "text/plain": [
       "Shuffled Label | Birth Weight average\n",
       "False          | 118.972\n",
       "True           | 120.227"
      ]
     },
     "execution_count": 15,
     "metadata": {},
     "output_type": "execute_result"
    }
   ],
   "source": [
    "shuffled_only = original_and_shuffled.select('Birth Weight','Shuffled Label')\n",
    "shuffled_group_means = shuffled_only.group('Shuffled Label', np.average)\n",
    "shuffled_group_means"
   ]
  },
  {
   "cell_type": "markdown",
   "metadata": {
    "id": "2Z4AlIYlT_pD"
   },
   "source": [
    "무작위로 선택된 두 그룹의 평균은 원래 두 그룹의 평균보다 훨씬 더 가깝습니다. 우리의 함수 `difference_of_means`를 사용하여 두 차이를 찾을 수 있습니다."
   ]
  },
  {
   "cell_type": "code",
   "execution_count": null,
   "metadata": {
    "colab": {
     "base_uri": "https://localhost:8080/"
    },
    "executionInfo": {
     "elapsed": 7,
     "status": "ok",
     "timestamp": 1759186752860,
     "user": {
      "displayName": "김진욱 (토이젠)",
      "userId": "01411997590264032911"
     },
     "user_tz": -540
    },
    "id": "o433BMrkT_pD",
    "outputId": "ace0339a-60d1-4ef4-a2da-0bed9285fb74"
   },
   "outputs": [
    {
     "data": {
      "text/plain": [
       "1.2545515486691983"
      ]
     },
     "execution_count": 16,
     "metadata": {},
     "output_type": "execute_result"
    }
   ],
   "source": [
    "difference_of_means(original_and_shuffled, 'Shuffled Label')"
   ]
  },
  {
   "cell_type": "code",
   "execution_count": null,
   "metadata": {
    "colab": {
     "base_uri": "https://localhost:8080/"
    },
    "executionInfo": {
     "elapsed": 30,
     "status": "ok",
     "timestamp": 1759186756641,
     "user": {
      "displayName": "김진욱 (토이젠)",
      "userId": "01411997590264032911"
     },
     "user_tz": -540
    },
    "id": "F1bMhud8T_pD",
    "outputId": "c63d4718-1273-45ea-d69a-37ff091acfd9"
   },
   "outputs": [
    {
     "data": {
      "text/plain": [
       "-9.266142572024918"
      ]
     },
     "execution_count": 17,
     "metadata": {},
     "output_type": "execute_result"
    }
   ],
   "source": [
    "difference_of_means(original_and_shuffled, 'Maternal Smoker')"
   ]
  },
  {
   "cell_type": "markdown",
   "metadata": {
    "id": "AfB47X1IT_pE"
   },
   "source": [
    "하지만 다른 섞기가 그룹 평균 간의 더 큰 차이를 초래할 수 있을까요? 변동성을 파악하기 위해 차이를 여러 번 시뮬레이션해야 합니다.\n",
    "\n",
    "항상 그렇듯이, 귀무가설 하에서 검정통계량의 한 값을 시뮬레이션하는 함수를 정의하는 것으로 시작할 것입니다. 이것은 위에서 작성한 코드를 수집하는 문제일 뿐입니다.\n",
    "\n",
    "함수는 `one_simulated_difference_of_means`라고 합니다. 인수를 받지 않으며, 모든 라벨을 무작위로 섞어 형성된 두 그룹의 평균 출생 체중 간의 차이를 반환합니다."
   ]
  },
  {
   "cell_type": "code",
   "execution_count": null,
   "metadata": {
    "id": "NEJsu5F0T_pE"
   },
   "outputs": [],
   "source": [
    "def one_simulated_difference_of_means():\n",
    "    \"\"\"Returns: Difference between mean birthweights\n",
    "    of babies of smokers and non-smokers after shuffling labels\"\"\"\n",
    "\n",
    "    # 섞인 라벨의 배열\n",
    "    shuffled_labels = births.sample(with_replacement=False).column('Maternal Smoker')\n",
    "\n",
    "    # 출생 체중과 섞인 라벨의 테이블\n",
    "    shuffled_table = births.select('Birth Weight').with_column(\n",
    "        'Shuffled Label', shuffled_labels)\n",
    "\n",
    "    return difference_of_means(shuffled_table, 'Shuffled Label')"
   ]
  },
  {
   "cell_type": "markdown",
   "metadata": {
    "id": "uoe7L6f5T_pE"
   },
   "source": [
    "아래 셀을 여러 번 실행하여 출력이 어떻게 변하는지 확인하세요."
   ]
  },
  {
   "cell_type": "code",
   "execution_count": null,
   "metadata": {
    "colab": {
     "base_uri": "https://localhost:8080/"
    },
    "executionInfo": {
     "elapsed": 37,
     "status": "ok",
     "timestamp": 1759186809129,
     "user": {
      "displayName": "김진욱 (토이젠)",
      "userId": "01411997590264032911"
     },
     "user_tz": -540
    },
    "id": "IzAncUp1T_pF",
    "outputId": "6df1373d-e98b-49ba-8f51-744e7116232b"
   },
   "outputs": [
    {
     "data": {
      "text/plain": [
       "2.274067979950331"
      ]
     },
     "execution_count": 19,
     "metadata": {},
     "output_type": "execute_result"
    }
   ],
   "source": [
    "one_simulated_difference_of_means()"
   ]
  },
  {
   "cell_type": "markdown",
   "metadata": {
    "id": "IIbNKGTUT_pF"
   },
   "source": [
    "## 순열검정\n",
    "데이터의 무작위 순열에 기반한 검정을 *순열검정*이라고 합니다. 이 예제에서 하나를 수행하고 있습니다. 아래 셀에서, 우리의 검정통계량 - 무작위로 형성된 두 그룹의 평균 출생 체중 간의 차이 - 을 여러 번 시뮬레이션하고 차이를 배열에 수집할 것입니다."
   ]
  },
  {
   "cell_type": "code",
   "execution_count": null,
   "metadata": {
    "id": "DuE2Y7dXT_pG"
   },
   "outputs": [],
   "source": [
    "differences = make_array()\n",
    "\n",
    "repetitions = 5000\n",
    "for i in np.arange(repetitions):\n",
    "    new_difference = one_simulated_difference_of_means()\n",
    "    differences = np.append(differences, new_difference)"
   ]
  },
  {
   "cell_type": "markdown",
   "metadata": {
    "id": "qHjtK_llT_pH"
   },
   "source": [
    "배열 `differences`는 우리의 검정통계량의 5,000개의 시뮬레이션된 값을 포함합니다: 라벨이 무작위로 할당되었을 때 흡연 그룹의 평균 체중과 비흡연 그룹의 평균 체중 간의 차이입니다.\n",
    "\n",
    "## 검정의 결론\n",
    "아래 히스토그램은 이러한 5,000개 값의 분포를 보여줍니다. 이는 귀무가설 하에서 시뮬레이션된 검정통계량의 경험적 분포입니다. 이것은 귀무가설에 기반한 검정통계량에 대한 예측입니다."
   ]
  },
  {
   "cell_type": "code",
   "execution_count": null,
   "metadata": {
    "colab": {
     "base_uri": "https://localhost:8080/",
     "height": 458
    },
    "executionInfo": {
     "elapsed": 352,
     "status": "ok",
     "timestamp": 1759187057059,
     "user": {
      "displayName": "김진욱 (토이젠)",
      "userId": "01411997590264032911"
     },
     "user_tz": -540
    },
    "id": "0kfrIRZHT_pH",
    "outputId": "ac80d6e2-1411-4dce-f515-2bc1e520d466"
   },
   "outputs": [
    {
     "name": "stdout",
     "output_type": "stream",
     "text": [
      "Observed Difference: -9.266142572024918\n"
     ]
    },
    {
     "data": {
      "image/png": "[encoded data removed]",
      "text/plain": [
       "<Figure size 600x400 with 1 Axes>"
      ]
     },
     "metadata": {},
     "output_type": "display_data"
    }
   ],
   "source": [
    "Table().with_column('Difference Between Group Means', differences).hist()\n",
    "print('Observed Difference:', observed_difference)\n",
    "plots.title('Prediction Under the Null Hypothesis');"
   ]
  },
  {
   "cell_type": "markdown",
   "metadata": {
    "id": "L1ZUo2GFT_pH"
   },
   "source": [
    "분포가 대략 0을 중심으로 어떻게 집중되어 있는지 주목하세요. 이는 의미가 있습니다. 왜냐하면 귀무가설 하에서 두 그룹은 대략 같은 평균을 가져야 하기 때문입니다. 따라서 그룹 평균 간의 차이는 0 근처여야 합니다.\n",
    "\n",
    "원래 표본의 관측된 차이는 약 $-9.27$ 온스인데, 이는 히스토그램의 가로축 척도에조차 나타나지 않습니다. 통계량의 관측값과 귀무가설 하에서의 통계량의 예측된 행동은 일관되지 않습니다.\n",
    "\n",
    "검정의 결론은 데이터가 귀무가설보다 대립가설을 지지한다는 것입니다. 이는 흡연하는 산모에게서 태어난 아기의 평균 출생 체중이 비흡연자에게서 태어난 아기의 평균 출생 체중보다 낮다는 가설을 지지합니다.\n",
    "\n",
    "경험적 p-값을 계산하려면, 통계량의 낮은 값이 대립가설을 지지한다는 것을 기억하세요."
   ]
  },
  {
   "cell_type": "code",
   "execution_count": null,
   "metadata": {
    "colab": {
     "base_uri": "https://localhost:8080/"
    },
    "executionInfo": {
     "elapsed": 18,
     "status": "ok",
     "timestamp": 1759187057078,
     "user": {
      "displayName": "김진욱 (토이젠)",
      "userId": "01411997590264032911"
     },
     "user_tz": -540
    },
    "id": "eNGczXOvT_pI",
    "outputId": "3b9ef42f-6b44-460c-a43a-9b7b9ebbcc51"
   },
   "outputs": [
    {
     "data": {
      "text/plain": [
       "0.0"
      ]
     },
     "execution_count": 22,
     "metadata": {},
     "output_type": "execute_result"
    }
   ],
   "source": [
    "empirical_p = np.count_nonzero(differences <= observed_difference) / repetitions\n",
    "empirical_p"
   ]
  },
  {
   "cell_type": "markdown",
   "metadata": {
    "id": "PEwuN71oT_pa"
   },
   "source": [
    "경험적 p-값은 0입니다. 이는 5,000개의 순열된 표본 중 어느 것도 -9.27 이하의 차이를 초래하지 않았다는 것을 의미합니다. 이것은 근사값일 뿐입니다. 그 범위의 차이를 얻을 정확한 확률은 0이 아닙니다. 하지만 우리의 시뮬레이션에 따르면 무시할 수 있을 정도로 작으므로, 귀무가설을 기각할 수 있습니다."
   ]
  },
  {
   "cell_type": "markdown",
   "metadata": {
    "id": "v1CKFFVjT_pa"
   },
   "source": [
    "## Another 순열검정\n",
    "흡연자와 비흡연자의 연령과 같은 다른 속성을 비교하기 위해 같은 방법을 사용할 수 있습니다. 두 그룹의 연령 히스토그램은 표본에서 흡연한 산모들이 더 젊은 경향이 있음을 보여줍니다."
   ]
  },
  {
   "cell_type": "code",
   "execution_count": null,
   "metadata": {
    "colab": {
     "base_uri": "https://localhost:8080/",
     "height": 410
    },
    "executionInfo": {
     "elapsed": 217,
     "status": "ok",
     "timestamp": 1759187172297,
     "user": {
      "displayName": "김진욱 (토이젠)",
      "userId": "01411997590264032911"
     },
     "user_tz": -540
    },
    "id": "TFSg7Sa9T_pa",
    "outputId": "11b86509-f512-40ca-8511-65da1e32db11"
   },
   "outputs": [
    {
     "data": {
      "image/png": "[encoded data removed]",
      "text/plain": [
       "<Figure size 600x400 with 1 Axes>"
      ]
     },
     "metadata": {},
     "output_type": "display_data"
    }
   ],
   "source": [
    "smoking_and_age = births.select('Maternal Smoker', 'Maternal Age')\n",
    "smoking_and_age.hist('Maternal Age', group = 'Maternal Smoker')"
   ]
  },
  {
   "cell_type": "markdown",
   "metadata": {
    "id": "p8gNrRwtT_pb"
   },
   "source": [
    "평균 연령 간의 관측된 차이는 약 $-0.8$년입니다."
   ]
  },
  {
   "cell_type": "markdown",
   "metadata": {
    "id": "tpoho5o4T_pb"
   },
   "source": [
    "출생 체중을 비교한 코드를 다시 작성하여 이제 흡연자와 비흡연자의 연령을 비교하도록 하겠습니다."
   ]
  },
  {
   "cell_type": "code",
   "execution_count": null,
   "metadata": {
    "id": "AJ57Vs6nT_pb"
   },
   "outputs": [],
   "source": [
    "def difference_of_means(table, group_label):\n",
    "    \"\"\"Takes: name of table,\n",
    "    column label that indicates the group to which the row belongs\n",
    "    Returns: Difference of mean ages of the two groups\"\"\"\n",
    "    reduced = table.select('Maternal Age', group_label)\n",
    "    means_table = reduced.group(group_label, np.average)\n",
    "    means = means_table.column(1)\n",
    "    return means.item(1) - means.item(0)"
   ]
  },
  {
   "cell_type": "code",
   "execution_count": null,
   "metadata": {
    "colab": {
     "base_uri": "https://localhost:8080/"
    },
    "executionInfo": {
     "elapsed": 22,
     "status": "ok",
     "timestamp": 1759187183192,
     "user": {
      "displayName": "김진욱 (토이젠)",
      "userId": "01411997590264032911"
     },
     "user_tz": -540
    },
    "id": "lR7egxNZT_pc",
    "outputId": "9073f17f-4771-4751-dc2c-d7e88e6028ee"
   },
   "outputs": [
    {
     "data": {
      "text/plain": [
       "-0.8076725017901509"
      ]
     },
     "execution_count": 25,
     "metadata": {},
     "output_type": "execute_result"
    }
   ],
   "source": [
    "observed_age_difference = difference_of_means(births, 'Maternal Smoker')\n",
    "observed_age_difference"
   ]
  },
  {
   "cell_type": "markdown",
   "metadata": {
    "id": "gHStXWkCT_pc"
   },
   "source": [
    "차이는 흡연자의 평균 연령에서 비흡연자의 평균 연령을 뺀 값으로 계산된다는 것을 기억하세요. 음수 부호는 흡연자가 평균적으로 더 젊다는 것을 보여줍니다.\n",
    "\n",
    "이 차이는 우연 때문인가요, 아니면 모집단의 기저 차이를 반영하는 것인가요?\n",
    "\n",
    "이전과 같이, 이 질문에 답하기 위해 순열검정을 사용할 수 있습니다. 두 그룹의 연령 기저 분포가 동일하다면, 순열된 표본에 기반한 차이의 경험적 분포는 통계량이 우연으로 인해 어떻게 변동해야 하는지 예측할 것입니다.\n",
    "\n",
    "모든 시뮬레이션에서와 같은 과정을 따를 것입니다. 평균 간 차이의 시뮬레이션된 값 하나를 반환하는 함수를 작성하는 것으로 시작한 다음, `for` 루프를 작성하여 그러한 값을 여러 번 시뮬레이션하고 배열에 수집할 것입니다."
   ]
  },
  {
   "cell_type": "code",
   "execution_count": null,
   "metadata": {
    "id": "-7V4TacDT_pc"
   },
   "outputs": [],
   "source": [
    "def one_simulated_difference_of_means():\n",
    "    \"\"\"Returns: Difference between mean ages\n",
    "    of smokers and non-smokers after shuffling labels\"\"\"\n",
    "\n",
    "    # 섞인 라벨의 배열\n",
    "    shuffled_labels = births.sample(with_replacement=False).column('Maternal Smoker')\n",
    "\n",
    "    # 연령과 섞인 라벨의 테이블\n",
    "    shuffled_table = births.select('Maternal Age').with_column(\n",
    "        'Shuffled Label', shuffled_labels)\n",
    "\n",
    "    return difference_of_means(shuffled_table, 'Shuffled Label')"
   ]
  },
  {
   "cell_type": "code",
   "execution_count": null,
   "metadata": {
    "id": "e1cFK5eOT_pc"
   },
   "outputs": [],
   "source": [
    "age_differences = make_array()\n",
    "\n",
    "repetitions = 5000\n",
    "for i in np.arange(repetitions):\n",
    "    new_difference = one_simulated_difference_of_means()\n",
    "    age_differences = np.append(age_differences, new_difference)"
   ]
  },
  {
   "cell_type": "markdown",
   "metadata": {
    "id": "k3xLyxgVT_pd"
   },
   "source": [
    "관측된 차이는 귀무가설 하에서 시뮬레이션된 차이의 경험적 분포의 꼬리에 있습니다."
   ]
  },
  {
   "cell_type": "code",
   "execution_count": null,
   "metadata": {
    "id": "LdXX1McVAM5i"
   },
   "outputs": [],
   "source": [
    "observed_age_difference = -0.8"
   ]
  },
  {
   "cell_type": "code",
   "execution_count": null,
   "metadata": {
    "colab": {
     "base_uri": "https://localhost:8080/",
     "height": 458
    },
    "executionInfo": {
     "elapsed": 229,
     "status": "ok",
     "timestamp": 1759187274259,
     "user": {
      "displayName": "김진욱 (토이젠)",
      "userId": "01411997590264032911"
     },
     "user_tz": -540
    },
    "id": "3sNaEp35T_pd",
    "outputId": "2aaf1960-5e08-4fd6-d372-b57e6dc05578"
   },
   "outputs": [
    {
     "name": "stdout",
     "output_type": "stream",
     "text": [
      "Observed Difference: -0.8\n"
     ]
    },
    {
     "data": {
      "image/png": "[encoded data removed]",
      "text/plain": [
       "<Figure size 600x400 with 1 Axes>"
      ]
     },
     "metadata": {},
     "output_type": "display_data"
    }
   ],
   "source": [
    "Table().with_column(\n",
    "    'Difference Between Group Means', age_differences).hist(\n",
    "    right_end = observed_age_difference)\n",
    "# Plotting parameters; you can ignore the code below\n",
    "plots.ylim(-0.1, 1.2)\n",
    "plots.scatter(observed_age_difference, 0, color='red', s=40, zorder=3)\n",
    "plots.title('Prediction Under the Null Hypothesis')\n",
    "print('Observed Difference:', observed_age_difference)"
   ]
  },
  {
   "cell_type": "markdown",
   "metadata": {
    "id": "7OFVVRn7T_pd"
   },
   "source": [
    "다시 한번, 시뮬레이션된 차이의 경험적 분포는 대략 0을 중심으로 집중되어 있습니다. 왜냐하면 시뮬레이션이 두 그룹의 분포 사이에 차이가 없다는 귀무가설 하에 있기 때문입니다.\n",
    "\n",
    "검정의 경험적 p-값은 관측된 차이 이하인 시뮬레이션된 차이의 비율입니다. 이는 차이의 낮은 값이 흡연자가 평균적으로 더 젊었다는 대립가설을 지지하기 때문입니다."
   ]
  },
  {
   "cell_type": "code",
   "execution_count": null,
   "metadata": {
    "colab": {
     "base_uri": "https://localhost:8080/"
    },
    "executionInfo": {
     "elapsed": 6,
     "status": "ok",
     "timestamp": 1759187274265,
     "user": {
      "displayName": "김진욱 (토이젠)",
      "userId": "01411997590264032911"
     },
     "user_tz": -540
    },
    "id": "PT_o0uFsT_pe",
    "outputId": "5be39fa8-28ae-476b-c2d9-8944eee174de"
   },
   "outputs": [
    {
     "data": {
      "text/plain": [
       "0.0102"
      ]
     },
     "execution_count": 30,
     "metadata": {},
     "output_type": "execute_result"
    }
   ],
   "source": [
    "empirical_p = np.count_nonzero(age_differences <= observed_age_difference) / 5000\n",
    "empirical_p"
   ]
  },
  {
   "cell_type": "markdown",
   "metadata": {
    "id": "TCosLmxJT_pe"
   },
   "source": [
    "경험적 p-값은 약 1%이므로 결과는 통계적으로 유의합니다. 검정은 흡연자가 평균적으로 더 젊었다는 가설을 지지합니다."
   ]
  },
  {
   "cell_type": "code",
   "execution_count": null,
   "metadata": {
    "id": "9WZHdegrT_pf"
   },
   "outputs": [],
   "source": []
  }
 ],
 "metadata": {
  "anaconda-cloud": {},
  "colab": {
   "provenance": []
  },
  "kernelspec": {
   "display_name": "Python 3",
   "language": "python",
   "name": "python3"
  },
  "language_info": {
   "codemirror_mode": {
    "name": "ipython",
    "version": 3
   },
   "file_extension": ".py",
   "mimetype": "text/x-python",
   "name": "python",
   "nbconvert_exporter": "python",
   "pygments_lexer": "ipython3",
   "version": "3.8.3"
  }
 },
 "nbformat": 4,
 "nbformat_minor": 0
}
