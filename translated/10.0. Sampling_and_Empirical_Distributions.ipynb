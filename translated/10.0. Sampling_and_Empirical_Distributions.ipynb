{
 "cells": [
  {
   "cell_type": "code",
   "execution_count": 1,
   "id": "cell-0",
   "metadata": {},
   "outputs": [],
   "source": [
    "from datascience import *\n",
    "#path_data = 'data/'\n",
    "path_data = 'data/'\n",
    "import numpy as np\n",
    "import matplotlib.pyplot as plots\n",
    "plots.style.use('fivethirtyeight')\n",
    "%matplotlib inline"
   ]
  },
  {
   "cell_type": "markdown",
   "id": "cell-2",
   "metadata": {},
   "source": [
    "# \ud45c\ubcf8\ucd94\ucd9c\uacfc \uacbd\ud5d8\uc801 \ubd84\ud3ec\n",
    "\ub370\uc774\ud130 \uacfc\ud559\uc758 \uc911\uc694\ud55c \ubd80\ubd84\uc740 \ubb34\uc791\uc704 \ud45c\ubcf8\uc758 \ub370\uc774\ud130\ub97c \uae30\ubc18\uc73c\ub85c \uacb0\ub860\uc744 \ub3c4\ucd9c\ud558\ub294 \uac83\uc785\ub2c8\ub2e4. \uacb0\uacfc\ub97c \uc62c\ubc14\ub974\uac8c \ud574\uc11d\ud558\uae30 \uc704\ud574 \ub370\uc774\ud130 \uacfc\ud559\uc790\ub4e4\uc740 \uba3c\uc800 \ubb34\uc791\uc704 \ud45c\ubcf8\uc774 \uc815\ud655\ud788 \ubb34\uc5c7\uc778\uc9c0 \uc774\ud574\ud574\uc57c \ud569\ub2c8\ub2e4.\n",
    "\n",
    "\uc774 \uc7a5\uc5d0\uc11c\ub294 \ud45c\ubcf8\ucd94\ucd9c\uc744 \ub354 \uc2e0\uc911\ud558\uac8c \uc0b4\ud3b4\ubcf4\uace0, \ud2b9\ud788 \ub300\uaddc\ubaa8 \ubb34\uc791\uc704 \ud45c\ubcf8\uc758 \uc18d\uc131\uc5d0 \uc8fc\ubaa9\ud560 \uac83\uc785\ub2c8\ub2e4.\n",
    "\n",
    "\uba3c\uc800 \uba87 \uac00\uc9c0 \ud45c\ubcf8\uc744 \ucd94\ucd9c\ud574 \ubcf4\uaca0\uc2b5\ub2c8\ub2e4. \uc6b0\ub9ac\uc758 \uc608\uc81c\ub294 [`top_movies_2017.csv`](https://inferentialthinking.com/chapters/07/1/Visualizing_Categorical_Distributions.html#grouping-categorical-data) \ub370\uc774\ud130\uc14b\uc744 \uae30\ubc18\uc73c\ub85c \ud569\ub2c8\ub2e4."
   ]
  },
  {
   "cell_type": "code",
   "execution_count": 11,
   "id": "cell-3",
   "metadata": {},
   "outputs": [
    {
     "output_type": "execute_result",
     "data": {
      "text/plain": [
       "Row Index | Title                            | Studio          | Gross       | Gross (Adjusted) | Year\n",
       "0         | Gone with the Wind               | MGM             | 198,676,459 | 1,796,176,700    | 1939\n",
       "1         | Star Wars                        | Fox             | 460,998,007 | 1,583,483,200    | 1977\n",
       "2         | The Sound of Music               | Fox             | 158,671,368 | 1,266,072,700    | 1965\n",
       "3         | E.T.: The Extra-Terrestrial      | Universal       | 435,110,554 | 1,261,085,000    | 1982\n",
       "4         | Titanic                          | Paramount       | 658,672,302 | 1,204,368,000    | 1997\n",
       "5         | The Ten Commandments             | Paramount       | 65,500,000  | 1,164,590,000    | 1956\n",
       "6         | Jaws                             | Universal       | 260,000,000 | 1,138,620,700    | 1975\n",
       "7         | Doctor Zhivago                   | MGM             | 111,721,910 | 1,103,564,200    | 1965\n",
       "8         | The Exorcist                     | Warner Brothers | 232,906,145 | 983,226,600      | 1973\n",
       "9         | Snow White and the Seven Dwarves | Disney          | 184,925,486 | 969,010,000      | 1937\n",
       "... (190 rows omitted)"
      ],
      "text/html": [
       "<table border=\"1\" class=\"dataframe\">\n",
       "    <thead>\n",
       "        <tr>\n",
       "            <th>Row Index</th> <th>Title</th> <th>Studio</th> <th>Gross</th> <th>Gross (Adjusted)</th> <th>Year</th>\n",
       "        </tr>\n",
       "    </thead>\n",
       "    <tbody>\n",
       "        <tr>\n",
       "            <td>0        </td> <td>Gone with the Wind              </td> <td>MGM            </td> <td>198,676,459</td> <td>1,796,176,700   </td> <td>1939</td>\n",
       "        </tr>\n",
       "        <tr>\n",
       "            <td>1        </td> <td>Star Wars                       </td> <td>Fox            </td> <td>460,998,007</td> <td>1,583,483,200   </td> <td>1977</td>\n",
       "        </tr>\n",
       "        <tr>\n",
       "            <td>2        </td> <td>The Sound of Music              </td> <td>Fox            </td> <td>158,671,368</td> <td>1,266,072,700   </td> <td>1965</td>\n",
       "        </tr>\n",
       "        <tr>\n",
       "            <td>3        </td> <td>E.T.: The Extra-Terrestrial     </td> <td>Universal      </td> <td>435,110,554</td> <td>1,261,085,000   </td> <td>1982</td>\n",
       "        </tr>\n",
       "        <tr>\n",
       "            <td>4        </td> <td>Titanic                         </td> <td>Paramount      </td> <td>658,672,302</td> <td>1,204,368,000   </td> <td>1997</td>\n",
       "        </tr>\n",
       "        <tr>\n",
       "            <td>5        </td> <td>The Ten Commandments            </td> <td>Paramount      </td> <td>65,500,000 </td> <td>1,164,590,000   </td> <td>1956</td>\n",
       "        </tr>\n",
       "        <tr>\n",
       "            <td>6        </td> <td>Jaws                            </td> <td>Universal      </td> <td>260,000,000</td> <td>1,138,620,700   </td> <td>1975</td>\n",
       "        </tr>\n",
       "        <tr>\n",
       "            <td>7        </td> <td>Doctor Zhivago                  </td> <td>MGM            </td> <td>111,721,910</td> <td>1,103,564,200   </td> <td>1965</td>\n",
       "        </tr>\n",
       "        <tr>\n",
       "            <td>8        </td> <td>The Exorcist                    </td> <td>Warner Brothers</td> <td>232,906,145</td> <td>983,226,600     </td> <td>1973</td>\n",
       "        </tr>\n",
       "        <tr>\n",
       "            <td>9        </td> <td>Snow White and the Seven Dwarves</td> <td>Disney         </td> <td>184,925,486</td> <td>969,010,000     </td> <td>1937</td>\n",
       "        </tr>\n",
       "    </tbody>\n",
       "</table>\n",
       "<p>... (190 rows omitted)</p>"
      ]
     },
     "metadata": {},
     "execution_count": 11
    }
   ],
   "source": [
    "top1 = Table.read_table(path_data + 'top_movies_2017.csv')\n",
    "top2 = top1.with_column('Row Index', np.arange(top1.num_rows))\n",
    "top = top2.move_to_start('Row Index')\n",
    "\n",
    "top.set_format(make_array(3, 4), NumberFormatter)"
   ]
  },
  {
   "cell_type": "code",
   "execution_count": 12,
   "id": "cell-4",
   "metadata": {},
   "outputs": [
    {
     "output_type": "execute_result",
     "data": {
      "text/plain": [
       "Row Index | Title                            | Studio          | Gross       | Gross (Adjusted) | Year\n",
       "0         | Gone with the Wind               | MGM             | 198,676,459 | 1,796,176,700    | 1939\n",
       "1         | Star Wars                        | Fox             | 460,998,007 | 1,583,483,200    | 1977\n",
       "2         | The Sound of Music               | Fox             | 158,671,368 | 1,266,072,700    | 1965\n",
       "3         | E.T.: The Extra-Terrestrial      | Universal       | 435,110,554 | 1,261,085,000    | 1982\n",
       "4         | Titanic                          | Paramount       | 658,672,302 | 1,204,368,000    | 1997\n",
       "5         | The Ten Commandments             | Paramount       | 65,500,000  | 1,164,590,000    | 1956\n",
       "6         | Jaws                             | Universal       | 260,000,000 | 1,138,620,700    | 1975\n",
       "7         | Doctor Zhivago                   | MGM             | 111,721,910 | 1,103,564,200    | 1965\n",
       "8         | The Exorcist                     | Warner Brothers | 232,906,145 | 983,226,600      | 1973\n",
       "9         | Snow White and the Seven Dwarves | Disney          | 184,925,486 | 969,010,000      | 1937\n",
       "... (190 rows omitted)"
      ],
      "text/html": [
       "<table border=\"1\" class=\"dataframe\">\n",
       "    <thead>\n",
       "        <tr>\n",
       "            <th>Row Index</th> <th>Title</th> <th>Studio</th> <th>Gross</th> <th>Gross (Adjusted)</th> <th>Year</th>\n",
       "        </tr>\n",
       "    </thead>\n",
       "    <tbody>\n",
       "        <tr>\n",
       "            <td>0        </td> <td>Gone with the Wind              </td> <td>MGM            </td> <td>198,676,459</td> <td>1,796,176,700   </td> <td>1939</td>\n",
       "        </tr>\n",
       "        <tr>\n",
       "            <td>1        </td> <td>Star Wars                       </td> <td>Fox            </td> <td>460,998,007</td> <td>1,583,483,200   </td> <td>1977</td>\n",
       "        </tr>\n",
       "        <tr>\n",
       "            <td>2        </td> <td>The Sound of Music              </td> <td>Fox            </td> <td>158,671,368</td> <td>1,266,072,700   </td> <td>1965</td>\n",
       "        </tr>\n",
       "        <tr>\n",
       "            <td>3        </td> <td>E.T.: The Extra-Terrestrial     </td> <td>Universal      </td> <td>435,110,554</td> <td>1,261,085,000   </td> <td>1982</td>\n",
       "        </tr>\n",
       "        <tr>\n",
       "            <td>4        </td> <td>Titanic                         </td> <td>Paramount      </td> <td>658,672,302</td> <td>1,204,368,000   </td> <td>1997</td>\n",
       "        </tr>\n",
       "        <tr>\n",
       "            <td>5        </td> <td>The Ten Commandments            </td> <td>Paramount      </td> <td>65,500,000 </td> <td>1,164,590,000   </td> <td>1956</td>\n",
       "        </tr>\n",
       "        <tr>\n",
       "            <td>6        </td> <td>Jaws                            </td> <td>Universal      </td> <td>260,000,000</td> <td>1,138,620,700   </td> <td>1975</td>\n",
       "        </tr>\n",
       "        <tr>\n",
       "            <td>7        </td> <td>Doctor Zhivago                  </td> <td>MGM            </td> <td>111,721,910</td> <td>1,103,564,200   </td> <td>1965</td>\n",
       "        </tr>\n",
       "        <tr>\n",
       "            <td>8        </td> <td>The Exorcist                    </td> <td>Warner Brothers</td> <td>232,906,145</td> <td>983,226,600     </td> <td>1973</td>\n",
       "        </tr>\n",
       "        <tr>\n",
       "            <td>9        </td> <td>Snow White and the Seven Dwarves</td> <td>Disney         </td> <td>184,925,486</td> <td>969,010,000     </td> <td>1937</td>\n",
       "        </tr>\n",
       "    </tbody>\n",
       "</table>\n",
       "<p>... (190 rows omitted)</p>"
      ]
     },
     "metadata": {},
     "execution_count": 12
    }
   ],
   "source": [
    "top"
   ]
  },
  {
   "cell_type": "markdown",
   "id": "cell-5",
   "metadata": {},
   "source": [
    "<h2>\ud14c\uc774\ube14\uc758 \ud589 \ud45c\ubcf8\ucd94\ucd9c</h2>\n",
    "\n",
    "\ub370\uc774\ud130 \ud14c\uc774\ube14\uc758 \uac01 \ud589\uc740 \ud558\ub098\uc758 \uac1c\uccb4\ub97c \ub098\ud0c0\ub0c5\ub2c8\ub2e4. `top`\uc5d0\uc11c \uac01 \uac1c\uccb4\ub294 \uc601\ud654\uc785\ub2c8\ub2e4. \ub530\ub77c\uc11c \uac1c\uccb4\ub97c \ud45c\ubcf8\ucd94\ucd9c\ud558\ub294 \uac83\uc740 \ud14c\uc774\ube14\uc758 \ud589\uc744 \ud45c\ubcf8\ucd94\ucd9c\ud568\uc73c\ub85c\uc368 \ub2ec\uc131\ub420 \uc218 \uc788\uc2b5\ub2c8\ub2e4.\n",
    "\n",
    "\ud589\uc758 \ub0b4\uc6a9\uc740 \ub3d9\uc77c\ud55c \uac1c\uccb4\uc5d0 \ub300\ud574 \uce21\uc815\ub41c \uc11c\ub85c \ub2e4\ub978 \ubcc0\uc218\uc758 \uac12\ub4e4\uc785\ub2c8\ub2e4. \ub530\ub77c\uc11c \ud45c\ubcf8\ucd94\ucd9c\ub41c \ud589\uc758 \ub0b4\uc6a9\uc740 \uac01 \ubcc0\uc218\uc758 \uac12\ub4e4\uc5d0 \ub300\ud55c \ud45c\ubcf8\uc744 \ud615\uc131\ud569\ub2c8\ub2e4."
   ]
  },
  {
   "cell_type": "markdown",
   "id": "cell-6",
   "metadata": {},
   "source": [
    "<h2>\uacb0\uc815\ub860\uc801 \ud45c\ubcf8</h2>\n",
    "\n",
    "\uc5b4\ub5a4 \ud655\ub960\ub3c4 \ud3ec\ud568\ud558\uc9c0 \uc54a\uace0 \uc9d1\ud569\uc758 \uc5b4\ub5a4 \uc694\uc18c\ub97c \uc120\ud0dd\ud560\uc9c0 \ub2e8\uc21c\ud788 \uc9c0\uc815\ud558\uba74 *\uacb0\uc815\ub860\uc801 \ud45c\ubcf8*\uc744 \uc0dd\uc131\ud569\ub2c8\ub2e4.\n",
    "\n",
    "\uc608\ub97c \ub4e4\uc5b4 `take`\ub97c \uc0ac\uc6a9\ud558\uc5ec \uc5ec\ub7ec \ubc88 \uc774\ub807\uac8c \ud574\uc654\uc2b5\ub2c8\ub2e4:"
   ]
  },
  {
   "cell_type": "code",
   "execution_count": 13,
   "id": "cell-7",
   "metadata": {},
   "outputs": [
    {
     "output_type": "execute_result",
     "data": {
      "text/plain": [
       "Row Index | Title                       | Studio      | Gross       | Gross (Adjusted) | Year\n",
       "3         | E.T.: The Extra-Terrestrial | Universal   | 435,110,554 | 1,261,085,000    | 1982\n",
       "18        | The Lion King               | Buena Vista | 422,783,777 | 792,511,700      | 1994\n",
       "100       | The Hunger Games            | Lionsgate   | 408,010,692 | 452,174,400      | 2012"
      ],
      "text/html": [
       "<table border=\"1\" class=\"dataframe\">\n",
       "    <thead>\n",
       "        <tr>\n",
       "            <th>Row Index</th> <th>Title</th> <th>Studio</th> <th>Gross</th> <th>Gross (Adjusted)</th> <th>Year</th>\n",
       "        </tr>\n",
       "    </thead>\n",
       "    <tbody>\n",
       "        <tr>\n",
       "            <td>3        </td> <td>E.T.: The Extra-Terrestrial</td> <td>Universal  </td> <td>435,110,554</td> <td>1,261,085,000   </td> <td>1982</td>\n",
       "        </tr>\n",
       "        <tr>\n",
       "            <td>18       </td> <td>The Lion King              </td> <td>Buena Vista</td> <td>422,783,777</td> <td>792,511,700     </td> <td>1994</td>\n",
       "        </tr>\n",
       "        <tr>\n",
       "            <td>100      </td> <td>The Hunger Games           </td> <td>Lionsgate  </td> <td>408,010,692</td> <td>452,174,400     </td> <td>2012</td>\n",
       "        </tr>\n",
       "    </tbody>\n",
       "</table>"
      ]
     },
     "metadata": {},
     "execution_count": 13
    }
   ],
   "source": [
    "top.take(make_array(3, 18, 100))"
   ]
  },
  {
   "cell_type": "markdown",
   "id": "cell-8",
   "metadata": {},
   "source": [
    "`where`\ub3c4 \uc0ac\uc6a9\ud588\uc2b5\ub2c8\ub2e4:"
   ]
  },
  {
   "cell_type": "code",
   "execution_count": 14,
   "id": "cell-9",
   "metadata": {},
   "outputs": [
    {
     "output_type": "execute_result",
     "data": {
      "text/plain": [
       "Row Index | Title                                       | Studio          | Gross       | Gross (Adjusted) | Year\n",
       "74        | Harry Potter and the Sorcerer's Stone       | Warner Brothers | 317,575,550 | 497,066,400      | 2001\n",
       "114       | Harry Potter and the Deathly Hallows Part 2 | Warner Brothers | 381,011,219 | 426,630,300      | 2011\n",
       "131       | Harry Potter and the Goblet of Fire         | Warner Brothers | 290,013,036 | 401,608,200      | 2005\n",
       "133       | Harry Potter and the Chamber of Secrets     | Warner Brothers | 261,988,482 | 399,302,200      | 2002\n",
       "154       | Harry Potter and the Order of the Phoenix   | Warner Brothers | 292,004,738 | 377,314,200      | 2007\n",
       "175       | Harry Potter and the Half-Blood Prince      | Warner Brothers | 301,959,197 | 359,788,300      | 2009\n",
       "177       | Harry Potter and the Prisoner of Azkaban    | Warner Brothers | 249,541,069 | 357,233,500      | 2004"
      ],
      "text/html": [
       "<table border=\"1\" class=\"dataframe\">\n",
       "    <thead>\n",
       "        <tr>\n",
       "            <th>Row Index</th> <th>Title</th> <th>Studio</th> <th>Gross</th> <th>Gross (Adjusted)</th> <th>Year</th>\n",
       "        </tr>\n",
       "    </thead>\n",
       "    <tbody>\n",
       "        <tr>\n",
       "            <td>74       </td> <td>Harry Potter and the Sorcerer's Stone      </td> <td>Warner Brothers</td> <td>317,575,550</td> <td>497,066,400     </td> <td>2001</td>\n",
       "        </tr>\n",
       "        <tr>\n",
       "            <td>114      </td> <td>Harry Potter and the Deathly Hallows Part 2</td> <td>Warner Brothers</td> <td>381,011,219</td> <td>426,630,300     </td> <td>2011</td>\n",
       "        </tr>\n",
       "        <tr>\n",
       "            <td>131      </td> <td>Harry Potter and the Goblet of Fire        </td> <td>Warner Brothers</td> <td>290,013,036</td> <td>401,608,200     </td> <td>2005</td>\n",
       "        </tr>\n",
       "        <tr>\n",
       "            <td>133      </td> <td>Harry Potter and the Chamber of Secrets    </td> <td>Warner Brothers</td> <td>261,988,482</td> <td>399,302,200     </td> <td>2002</td>\n",
       "        </tr>\n",
       "        <tr>\n",
       "            <td>154      </td> <td>Harry Potter and the Order of the Phoenix  </td> <td>Warner Brothers</td> <td>292,004,738</td> <td>377,314,200     </td> <td>2007</td>\n",
       "        </tr>\n",
       "        <tr>\n",
       "            <td>175      </td> <td>Harry Potter and the Half-Blood Prince     </td> <td>Warner Brothers</td> <td>301,959,197</td> <td>359,788,300     </td> <td>2009</td>\n",
       "        </tr>\n",
       "        <tr>\n",
       "            <td>177      </td> <td>Harry Potter and the Prisoner of Azkaban   </td> <td>Warner Brothers</td> <td>249,541,069</td> <td>357,233,500     </td> <td>2004</td>\n",
       "        </tr>\n",
       "    </tbody>\n",
       "</table>"
      ]
     },
     "metadata": {},
     "execution_count": 14
    }
   ],
   "source": [
    "top.where('Title', are.containing('Harry Potter'))"
   ]
  },
  {
   "cell_type": "markdown",
   "id": "cell-10",
   "metadata": {},
   "source": [
    "\uc774\uac83\ub4e4\uc740 \ud45c\ubcf8\uc774\uc9c0\ub9cc \ubb34\uc791\uc704 \ud45c\ubcf8\uc740 \uc544\ub2d9\ub2c8\ub2e4. \ud655\ub960\uc774 \ud3ec\ud568\ub418\uc9c0 \uc54a\uc2b5\ub2c8\ub2e4."
   ]
  },
  {
   "cell_type": "markdown",
   "id": "cell-11",
   "metadata": {},
   "source": [
    "<h2>\ud655\ub960 \ud45c\ubcf8</h2>"
   ]
  },
  {
   "cell_type": "markdown",
   "id": "cell-12",
   "metadata": {},
   "source": [
    "\ubb34\uc791\uc704 \ud45c\ubcf8\uc744 \uc124\uba85\ud558\uae30 \uc704\ud574 \uba87 \uac00\uc9c0 \uc6a9\uc5b4\uac00 \ub3c4\uc6c0\uc774 \ub420 \uac83\uc785\ub2c8\ub2e4.\n",
    "\n",
    "*\ubaa8\uc9d1\ub2e8*\uc740 \ud45c\ubcf8\uc774 \ucd94\ucd9c\ub420 \ubaa8\ub4e0 \uc694\uc18c\uc758 \uc9d1\ud569\uc785\ub2c8\ub2e4.\n",
    "\n",
    "*\ud655\ub960 \ud45c\ubcf8*\uc740 \ud45c\ubcf8\uc774 \ucd94\ucd9c\ub418\uae30 \uc804\uc5d0 \uc694\uc18c\uc758 \uc5b4\ub5a4 \ubd80\ubd84\uc9d1\ud569\uc774 \ud45c\ubcf8\uc5d0 \ud3ec\ud568\ub420 \ud655\ub960\uc744 \uacc4\uc0b0\ud560 \uc218 \uc788\ub294 \ud45c\ubcf8\uc785\ub2c8\ub2e4.\n",
    "\n",
    "\ud655\ub960 \ud45c\ubcf8\uc5d0\uc11c \ubaa8\ub4e0 \uc694\uc18c\uac00 \ub3d9\uc77c\ud55c \uc120\ud0dd \ud655\ub960\uc744 \uac00\uc9c8 \ud544\uc694\ub294 \uc5c6\uc2b5\ub2c8\ub2e4.\n",
    "\n",
    "<h2>\ubb34\uc791\uc704 \ud45c\ubcf8\ucd94\ucd9c \ubc29\ubc95</h2>\n",
    "\n",
    "\uc608\ub97c \ub4e4\uc5b4, \uc138 \uc0ac\ub78c A, B, C\ub85c \uad6c\uc131\ub41c \ubaa8\uc9d1\ub2e8\uc5d0\uc11c \ub2e4\uc74c \ubc29\ubc95\uc5d0 \ub530\ub77c \ub450 \uc0ac\ub78c\uc744 \uc120\ud0dd\ud55c\ub2e4\uace0 \uac00\uc815\ud569\uc2dc\ub2e4:\n",
    "\n",
    "- \uc0ac\ub78c A\ub294 \ud655\ub960 1\ub85c \uc120\ud0dd\ub429\ub2c8\ub2e4.\n",
    "- \uc0ac\ub78c B \ub610\ub294 C \uc911 \ud55c \uba85\uc740 \ub3d9\uc804 \ub358\uc9c0\uae30\uc5d0 \ub530\ub77c \uc120\ud0dd\ub429\ub2c8\ub2e4: \ub3d9\uc804\uc774 \uc55e\uba74\uc774 \ub098\uc624\uba74 B\ub97c \uc120\ud0dd\ud558\uace0, \ub4b7\uba74\uc774 \ub098\uc624\uba74 C\ub97c \uc120\ud0dd\ud569\ub2c8\ub2e4.\n",
    "\n",
    "\uc774\uac83\uc740 \ud06c\uae30 2\uc758 \ud655\ub960 \ud45c\ubcf8\uc785\ub2c8\ub2e4. \ubaa8\ub4e0 \ube44\uc5b4\uc788\uc9c0 \uc54a\uc740 \ubd80\ubd84\uc9d1\ud569\uc5d0 \ub300\ud55c \uc120\ud0dd \ud655\ub960\uc740 \ub2e4\uc74c\uacfc \uac19\uc2b5\ub2c8\ub2e4:\n",
    "\n",
    "    A: 1\n",
    "    B: 1/2\n",
    "    C: 1/2\n",
    "    AB: 1/2\n",
    "    AC: 1/2\n",
    "    BC: 0\n",
    "    ABC: 0\n",
    "\n",
    "\uc0ac\ub78c A\ub294 \uc0ac\ub78c B\ub098 C\ubcf4\ub2e4 \uc120\ud0dd\ub420 \ud655\ub960\uc774 \ub192\uc2b5\ub2c8\ub2e4. \uc2e4\uc81c\ub85c \uc0ac\ub78c A\ub294 \ud655\uc2e4\ud788 \uc120\ud0dd\ub429\ub2c8\ub2e4. \uc774\ub7ec\ud55c \ucc28\uc774\uac00 \uc54c\ub824\uc838 \uc788\uace0 \uc815\ub7c9\ud654\ub418\uc5b4 \uc788\uc73c\ubbc0\ub85c \ud45c\ubcf8\uc73c\ub85c \uc791\uc5c5\ud560 \ub54c \uc774\ub97c \uace0\ub824\ud560 \uc218 \uc788\uc2b5\ub2c8\ub2e4."
   ]
  },
  {
   "cell_type": "markdown",
   "id": "cell-13",
   "metadata": {},
   "source": [
    "<h2>\uacc4\ud1b5 \ud45c\ubcf8</h2>\n",
    "\n",
    "\ubaa8\uc9d1\ub2e8\uc758 \ubaa8\ub4e0 \uc694\uc18c\uac00 \uc2dc\ud000\uc2a4\ub85c \ub098\uc5f4\ub418\uc5b4 \uc788\ub2e4\uace0 \uc0c1\uc0c1\ud574\ubcf4\uc138\uc694. \ud55c \uac00\uc9c0 \ud45c\ubcf8\ucd94\ucd9c \ubc29\ubc95\uc740 \ub9ac\uc2a4\ud2b8 \ucd08\ubc18\uc5d0 \ubb34\uc791\uc704 \uc704\uce58\ub97c \uc120\ud0dd\ud55c \ub2e4\uc74c, \uadf8 \uc774\ud6c4\ub85c \uade0\ub4f1\ud55c \uac04\uaca9\uc758 \uc704\uce58\ub97c \uc120\ud0dd\ud558\ub294 \uac83\uc785\ub2c8\ub2e4. \ud45c\ubcf8\uc740 \uadf8\ub7ec\ud55c \uc704\uce58\uc5d0 \uc788\ub294 \uc694\uc18c\ub4e4\ub85c \uad6c\uc131\ub429\ub2c8\ub2e4. \uc774\ub7ec\ud55c \ud45c\ubcf8\uc744 *\uacc4\ud1b5 \ud45c\ubcf8*\uc774\ub77c\uace0 \ud569\ub2c8\ub2e4.\n",
    "\n",
    "\uc5ec\uae30\uc11c \uc6b0\ub9ac\ub294 `top`\uc758 \ud589\uc5d0\uc11c \uacc4\ud1b5 \ud45c\ubcf8\uc744 \uc120\ud0dd\ud560 \uac83\uc785\ub2c8\ub2e4. \uba3c\uc800 \ucc98\uc74c 10\uac1c \ud589 \uc911 \ud558\ub098\ub97c \ubb34\uc791\uc704\ub85c \uc120\ud0dd\ud55c \ub2e4\uc74c, \uadf8 \uc774\ud6c4\ub85c 10\ubc88\uc9f8 \ud589\ub9c8\ub2e4 \uc120\ud0dd\ud560 \uac83\uc785\ub2c8\ub2e4."
   ]
  },
  {
   "cell_type": "code",
   "execution_count": 16,
   "id": "cell-14",
   "metadata": {},
   "outputs": [
    {
     "output_type": "execute_result",
     "data": {
      "text/plain": [
       "array([0, 1, 2, 3, 4, 5, 6, 7, 8, 9])"
      ]
     },
     "metadata": {},
     "execution_count": 16
    }
   ],
   "source": [
    "np.arange(10)"
   ]
  },
  {
   "cell_type": "code",
   "execution_count": 17,
   "id": "cell-15",
   "metadata": {},
   "outputs": [
    {
     "output_type": "execute_result",
     "data": {
      "text/plain": [
       "Row Index | Title                                 | Studio          | Gross       | Gross (Adjusted) | Year\n",
       "4         | Titanic                               | Paramount       | 658,672,302 | 1,204,368,000    | 1997\n",
       "14        | Avatar                                | Fox             | 760,507,625 | 865,082,100      | 2009\n",
       "24        | The Godfather                         | Paramount       | 134,966,411 | 701,621,600      | 1972\n",
       "34        | Shrek 2                               | Dreamworks      | 441,226,247 | 631,642,700      | 2004\n",
       "44        | Airport                               | Universal       | 100,489,151 | 587,729,300      | 1970\n",
       "54        | Finding Nemo                          | Buena Vista     | 380,843,261 | 547,504,100      | 2003\n",
       "64        | Back to the Future                    | Universal       | 210,609,762 | 524,960,300      | 1985\n",
       "74        | Harry Potter and the Sorcerer's Stone | Warner Brothers | 317,575,550 | 497,066,400      | 2001\n",
       "84        | Men in Black                          | Sony            | 250,690,539 | 485,542,200      | 1997\n",
       "94        | Mrs. Doubtfire                        | Fox             | 219,195,243 | 468,364,200      | 1993\n",
       "... (10 rows omitted)"
      ],
      "text/html": [
       "<table border=\"1\" class=\"dataframe\">\n",
       "    <thead>\n",
       "        <tr>\n",
       "            <th>Row Index</th> <th>Title</th> <th>Studio</th> <th>Gross</th> <th>Gross (Adjusted)</th> <th>Year</th>\n",
       "        </tr>\n",
       "    </thead>\n",
       "    <tbody>\n",
       "        <tr>\n",
       "            <td>4        </td> <td>Titanic                              </td> <td>Paramount      </td> <td>658,672,302</td> <td>1,204,368,000   </td> <td>1997</td>\n",
       "        </tr>\n",
       "        <tr>\n",
       "            <td>14       </td> <td>Avatar                               </td> <td>Fox            </td> <td>760,507,625</td> <td>865,082,100     </td> <td>2009</td>\n",
       "        </tr>\n",
       "        <tr>\n",
       "            <td>24       </td> <td>The Godfather                        </td> <td>Paramount      </td> <td>134,966,411</td> <td>701,621,600     </td> <td>1972</td>\n",
       "        </tr>\n",
       "        <tr>\n",
       "            <td>34       </td> <td>Shrek 2                              </td> <td>Dreamworks     </td> <td>441,226,247</td> <td>631,642,700     </td> <td>2004</td>\n",
       "        </tr>\n",
       "        <tr>\n",
       "            <td>44       </td> <td>Airport                              </td> <td>Universal      </td> <td>100,489,151</td> <td>587,729,300     </td> <td>1970</td>\n",
       "        </tr>\n",
       "        <tr>\n",
       "            <td>54       </td> <td>Finding Nemo                         </td> <td>Buena Vista    </td> <td>380,843,261</td> <td>547,504,100     </td> <td>2003</td>\n",
       "        </tr>\n",
       "        <tr>\n",
       "            <td>64       </td> <td>Back to the Future                   </td> <td>Universal      </td> <td>210,609,762</td> <td>524,960,300     </td> <td>1985</td>\n",
       "        </tr>\n",
       "        <tr>\n",
       "            <td>74       </td> <td>Harry Potter and the Sorcerer's Stone</td> <td>Warner Brothers</td> <td>317,575,550</td> <td>497,066,400     </td> <td>2001</td>\n",
       "        </tr>\n",
       "        <tr>\n",
       "            <td>84       </td> <td>Men in Black                         </td> <td>Sony           </td> <td>250,690,539</td> <td>485,542,200     </td> <td>1997</td>\n",
       "        </tr>\n",
       "        <tr>\n",
       "            <td>94       </td> <td>Mrs. Doubtfire                       </td> <td>Fox            </td> <td>219,195,243</td> <td>468,364,200     </td> <td>1993</td>\n",
       "        </tr>\n",
       "    </tbody>\n",
       "</table>\n",
       "<p>... (10 rows omitted)</p>"
      ]
     },
     "metadata": {},
     "execution_count": 17
    }
   ],
   "source": [
    "\"\"\"0\ubd80\ud130 9\uae4c\uc9c0\uc758 \ud589 \uc911\uc5d0\uc11c \ubb34\uc791\uc704 \uc2dc\uc791\uc810\uc744 \uc120\ud0dd;\n",
    "\uadf8 \ub2e4\uc74c 10\ubc88\uc9f8 \ud589\ub9c8\ub2e4 \uc120\ud0dd.\"\"\"\n",
    "\n",
    "start = np.random.choice(np.arange(10))\n",
    "top.take(np.arange(start, top.num_rows, 10))"
   ]
  },
  {
   "cell_type": "markdown",
   "id": "cell-16",
   "metadata": {},
   "source": [
    "\uc140\uc744 \uba87 \ubc88 \uc2e4\ud589\ud558\uc5ec \ucd9c\ub825\uc774 \uc5b4\ub5bb\uac8c \ub2ec\ub77c\uc9c0\ub294\uc9c0 \ud655\uc778\ud574\ubcf4\uc138\uc694.\n",
    "\n",
    "\uc774 \uacc4\ud1b5 \ud45c\ubcf8\uc740 \ud655\ub960 \ud45c\ubcf8\uc785\ub2c8\ub2e4. \uc774 \ubc29\ubc95\uc5d0\uc11c \ubaa8\ub4e0 \ud589\uc740 $1/10$\uc758 \ud655\ub960\ub85c \uc120\ud0dd\ub429\ub2c8\ub2e4. \uc608\ub97c \ub4e4\uc5b4, \ud589 23\uc740 \ud589 3\uc774 \uc120\ud0dd\ub420 \ub54c\ub9cc \uc120\ud0dd\ub418\uba70, \uadf8 \ud655\ub960\uc740 $1/10$\uc785\ub2c8\ub2e4.\n",
    "\n",
    "\uadf8\ub7ec\ub098 \ubaa8\ub4e0 \ubd80\ubd84\uc9d1\ud569\uc774 \ub3d9\uc77c\ud55c \uc120\ud0dd \ud655\ub960\uc744 \uac00\uc9c0\ub294 \uac83\uc740 \uc544\ub2d9\ub2c8\ub2e4. \uc120\ud0dd\ub41c \ud589\ub4e4\uc774 \uade0\ub4f1\ud55c \uac04\uaca9\uc73c\ub85c \ubc30\uce58\ub418\uc5b4 \uc788\uae30 \ub54c\ubb38\uc5d0 \ub300\ubd80\ubd84\uc758 \ud589 \ubd80\ubd84\uc9d1\ud569\uc740 \uc120\ud0dd\ub420 \ud655\ub960\uc774 \uc5c6\uc2b5\ub2c8\ub2e4. \uac00\ub2a5\ud55c \ubd80\ubd84\uc9d1\ud569\uc740 10\uc758 \ubc30\uc218\ub85c \ubd84\ub9ac\ub41c \ud589\ub4e4\ub85c \uad6c\uc131\ub41c \ubd80\ubd84\uc9d1\ud569\ubfd0\uc785\ub2c8\ub2e4. \uadf8\ub7ec\ud55c \ubd80\ubd84\uc9d1\ud569 \uc911 \ud558\ub098\ub294 \ud655\ub960 1/10\uc73c\ub85c \uc120\ud0dd\ub429\ub2c8\ub2e4. \ud14c\uc774\ube14\uc758 15\ubc88\uc9f8\uc640 16\ubc88\uc9f8 \ud589\uc744 \ubaa8\ub450 \ud3ec\ud568\ud558\ub294 \ubd80\ubd84\uc9d1\ud569\uc774\ub098 \ud06c\uae30\uac00 10\ubcf4\ub2e4 \ud070 \ubd80\ubd84\uc9d1\ud569\uacfc \uac19\uc740 \ub2e4\ub978 \ubd80\ubd84\uc9d1\ud569\uc740 \ud655\ub960 0\uc73c\ub85c \uc120\ud0dd\ub429\ub2c8\ub2e4."
   ]
  },
  {
   "cell_type": "markdown",
   "id": "cell-17",
   "metadata": {},
   "source": [
    "<h2>\ubcf5\uc6d0\ucd94\ucd9c \ub610\ub294 \ube44\ubcf5\uc6d0\ucd94\ucd9c \ubb34\uc791\uc704 \ud45c\ubcf8</h2>\n",
    "\n",
    "\uc774 \uacfc\uc815\uc5d0\uc11c\ub294 \uc8fc\ub85c \uac00\uc7a5 \uc9c1\uad00\uc801\uc778 \ub450 \uac00\uc9c0 \ud45c\ubcf8\ucd94\ucd9c \ubc29\ubc95\uc744 \ub2e4\ub8f0 \uac83\uc785\ub2c8\ub2e4.\n",
    "\n",
    "\uccab \ubc88\uc9f8\ub294 \ubcf5\uc6d0\ucd94\ucd9c \ubb34\uc791\uc704 \ud45c\ubcf8\ucd94\ucd9c\ub85c, (\uc55e\uc11c \uc0b4\ud3b4\ubcf8 \uac83\ucc98\ub7fc) \ubc30\uc5f4\uc5d0\uc11c \ud45c\ubcf8\ucd94\ucd9c\ud560 \ub54c `np.random.choice`\uc758 \uae30\ubcf8 \ub3d9\uc791\uc785\ub2c8\ub2e4.\n",
    "\n",
    "\ub2e4\ub978 \ud558\ub098\ub294 \"\ub2e8\uc21c \ubb34\uc791\uc704 \ud45c\ubcf8\"\uc774\ub77c\uace0 \ubd88\ub9ac\uba70, *\ube44\ubcf5\uc6d0*\uc73c\ub85c \ubb34\uc791\uc704\ub85c \ucd94\ucd9c\ub41c \ud45c\ubcf8\uc785\ub2c8\ub2e4. \ud45c\ubcf8\ucd94\ucd9c\ub41c \uac1c\uccb4\ub294 \ub2e4\uc74c \uac1c\uccb4\uac00 \ucd94\ucd9c\ub418\uae30 \uc804\uc5d0 \ubaa8\uc9d1\ub2e8\uc5d0 \ub2e4\uc2dc \ub123\uc9c0 \uc54a\uc2b5\ub2c8\ub2e4. \uc774\uac83\uc740 \uc608\ub97c \ub4e4\uc5b4 \uce74\ub4dc \ud55c \ubc8c\uc5d0\uc11c \ud328\ub97c \ub098\ub20c \ub54c \ubc1c\uc0dd\ud558\ub294 \ud45c\ubcf8\ucd94\ucd9c \ubc29\uc2dd\uc785\ub2c8\ub2e4. \ub2e8\uc21c \ubb34\uc791\uc704 \ud45c\ubcf8\ucd94\ucd9c\uc744 \uc704\ud574 `np.random.choice`\ub97c \uc0ac\uc6a9\ud558\ub824\uba74 \uc778\uc218 `replace=False`\ub97c \ud3ec\ud568\ud574\uc57c \ud569\ub2c8\ub2e4.\n",
    "\n",
    "\uc774 \uc7a5\uc5d0\uc11c\ub294 \uc2dc\ubbac\ub808\uc774\uc158\uc744 \uc0ac\uc6a9\ud558\uc5ec \ubcf5\uc6d0\ucd94\ucd9c \ub610\ub294 \ube44\ubcf5\uc6d0\ucd94\ucd9c\ub85c \ubb34\uc791\uc704\ub85c \ucd94\ucd9c\ub41c \ub300\uaddc\ubaa8 \ud45c\ubcf8\uc758 \ub3d9\uc791\uc744 \uc5f0\uad6c\ud560 \uac83\uc785\ub2c8\ub2e4."
   ]
  },
  {
   "cell_type": "markdown",
   "id": "cell-18",
   "metadata": {},
   "source": [
    "<h2>\ud3b8\uc758 \ud45c\ubcf8</h2>\n",
    "\ubb34\uc791\uc704 \ud45c\ubcf8\uc744 \ucd94\ucd9c\ud558\ub824\uba74 \uc8fc\uc758\uc640 \uc815\ubc00\ud568\uc774 \ud544\uc694\ud569\ub2c8\ub2e4. \"\ubb34\uc791\uc704(random)\"\ub77c\ub294 \ub2e8\uc5b4\uc758 \uad6c\uc5b4\uc801 \uc758\ubbf8\uac00 \ubb34\uacc4\ud68d\uc801\uc774\ub77c\ub294 \ub73b\uc774\uc9c0\ub9cc, \uc2e4\uc81c\ub85c\ub294 \uadf8\ub807\uc9c0 \uc54a\uc2b5\ub2c8\ub2e4. \uae38\ubaa8\ud241\uc774\uc5d0 \uc11c\uc11c \uc9c0\ub098\uac00\ub294 \ucc98\uc74c 10\uba85\uc744 \ud45c\ubcf8\uc73c\ub85c \uc0bc\ub294\ub2e4\uba74, \ub204\uac00 \uc9c0\ub098\uac08\uc9c0 \uc120\ud0dd\ud558\uc9c0 \uc54a\uc558\uae30 \ub54c\ubb38\uc5d0 \ubb34\uc791\uc704\ub85c \ud45c\ubcf8\ucd94\ucd9c\ud558\uace0 \uc788\ub2e4\uace0 \uc0dd\uac01\ud560 \uc218 \uc788\uc2b5\ub2c8\ub2e4. \uadf8\ub7ec\ub098 \uc774\uac83\uc740 \ubb34\uc791\uc704 \ud45c\ubcf8\uc774 \uc544\ub2d9\ub2c8\ub2e4 \u2013 *\ud3b8\uc758 \ud45c\ubcf8*\uc785\ub2c8\ub2e4. \uac01 \uc0ac\ub78c\uc774 \ud45c\ubcf8\uc5d0 \ud3ec\ud568\ub420 \ud655\ub960\uc744 \ubbf8\ub9ac \uc54c\uc9c0 \ubabb\ud588\uc73c\uba70, \ubaa8\uc9d1\ub2e8\uc5d0 \uc815\ud655\ud788 \ub204\uac00 \uc788\ub294\uc9c0\uc870\ucc28 \uc9c0\uc815\ud558\uc9c0 \uc54a\uc558\uc744 \uc218\ub3c4 \uc788\uc2b5\ub2c8\ub2e4."
   ]
  },
  {
   "cell_type": "code",
   "execution_count": null,
   "id": "cell-19",
   "metadata": {},
   "outputs": [],
   "source": []
  }
 ],
 "metadata": {
  "kernelspec": {
   "display_name": "Python 3",
   "language": "python",
   "name": "python3"
  },
  "language_info": {
   "codemirror_mode": {
    "name": "ipython",
    "version": 3
   },
   "file_extension": ".py",
   "mimetype": "text/x-python",
   "name": "python",
   "nbconvert_exporter": "python",
   "pygments_lexer": "ipython3",
   "version": "3.8.5"
  }
 },
 "nbformat": 4,
 "nbformat_minor": 5
}