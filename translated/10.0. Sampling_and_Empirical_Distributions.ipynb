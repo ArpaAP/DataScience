{
 "cells": [
  {
   "cell_type": "code",
   "execution_count": 1,
   "id": "cell-0",
   "metadata": {},
   "outputs": [],
   "source": [
    "from datascience import *\n",
    "#path_data = '../../assets/data/'\n",
    "path_data = '/content/gdrive/MyDrive/DataScience/data/'\n",
    "import numpy as np\n",
    "import matplotlib.pyplot as plots\n",
    "plots.style.use('fivethirtyeight')\n",
    "%matplotlib inline"
   ]
  },
  {
   "cell_type": "code",
   "execution_count": 2,
   "id": "cell-1",
   "metadata": {},
   "outputs": [
    {
     "output_type": "stream",
     "name": "stdout",
     "text": [
      "Mounted at /content/gdrive\n"
     ]
    }
   ],
   "source": [
    "from google.colab import drive\n",
    "drive.mount('/content/gdrive')"
   ]
  },
  {
   "cell_type": "markdown",
   "id": "cell-2",
   "metadata": {},
   "source": [
    "# 표본추출과 경험적 분포\n",
    "데이터 과학의 중요한 부분은 무작위 표본의 데이터를 기반으로 결론을 도출하는 것입니다. 결과를 올바르게 해석하기 위해 데이터 과학자들은 먼저 무작위 표본이 정확히 무엇인지 이해해야 합니다.\n",
    "\n",
    "이 장에서는 표본추출을 더 신중하게 살펴보고, 특히 대규모 무작위 표본의 속성에 주목할 것입니다.\n",
    "\n",
    "먼저 몇 가지 표본을 추출해 보겠습니다. 우리의 예제는 [`top_movies_2017.csv`](https://inferentialthinking.com/chapters/07/1/Visualizing_Categorical_Distributions.html#grouping-categorical-data) 데이터셋을 기반으로 합니다."
   ]
  },
  {
   "cell_type": "code",
   "execution_count": 11,
   "id": "cell-3",
   "metadata": {},
   "outputs": [
    {
     "output_type": "execute_result",
     "data": {
      "text/plain": [
       "Row Index | Title                            | Studio          | Gross       | Gross (Adjusted) | Year\n",
       "0         | Gone with the Wind               | MGM             | 198,676,459 | 1,796,176,700    | 1939\n",
       "1         | Star Wars                        | Fox             | 460,998,007 | 1,583,483,200    | 1977\n",
       "2         | The Sound of Music               | Fox             | 158,671,368 | 1,266,072,700    | 1965\n",
       "3         | E.T.: The Extra-Terrestrial      | Universal       | 435,110,554 | 1,261,085,000    | 1982\n",
       "4         | Titanic                          | Paramount       | 658,672,302 | 1,204,368,000    | 1997\n",
       "5         | The Ten Commandments             | Paramount       | 65,500,000  | 1,164,590,000    | 1956\n",
       "6         | Jaws                             | Universal       | 260,000,000 | 1,138,620,700    | 1975\n",
       "7         | Doctor Zhivago                   | MGM             | 111,721,910 | 1,103,564,200    | 1965\n",
       "8         | The Exorcist                     | Warner Brothers | 232,906,145 | 983,226,600      | 1973\n",
       "9         | Snow White and the Seven Dwarves | Disney          | 184,925,486 | 969,010,000      | 1937\n",
       "... (190 rows omitted)"
      ],
      "text/html": [
       "<table border=\"1\" class=\"dataframe\">\n",
       "    <thead>\n",
       "        <tr>\n",
       "            <th>Row Index</th> <th>Title</th> <th>Studio</th> <th>Gross</th> <th>Gross (Adjusted)</th> <th>Year</th>\n",
       "        </tr>\n",
       "    </thead>\n",
       "    <tbody>\n",
       "        <tr>\n",
       "            <td>0        </td> <td>Gone with the Wind              </td> <td>MGM            </td> <td>198,676,459</td> <td>1,796,176,700   </td> <td>1939</td>\n",
       "        </tr>\n",
       "        <tr>\n",
       "            <td>1        </td> <td>Star Wars                       </td> <td>Fox            </td> <td>460,998,007</td> <td>1,583,483,200   </td> <td>1977</td>\n",
       "        </tr>\n",
       "        <tr>\n",
       "            <td>2        </td> <td>The Sound of Music              </td> <td>Fox            </td> <td>158,671,368</td> <td>1,266,072,700   </td> <td>1965</td>\n",
       "        </tr>\n",
       "        <tr>\n",
       "            <td>3        </td> <td>E.T.: The Extra-Terrestrial     </td> <td>Universal      </td> <td>435,110,554</td> <td>1,261,085,000   </td> <td>1982</td>\n",
       "        </tr>\n",
       "        <tr>\n",
       "            <td>4        </td> <td>Titanic                         </td> <td>Paramount      </td> <td>658,672,302</td> <td>1,204,368,000   </td> <td>1997</td>\n",
       "        </tr>\n",
       "        <tr>\n",
       "            <td>5        </td> <td>The Ten Commandments            </td> <td>Paramount      </td> <td>65,500,000 </td> <td>1,164,590,000   </td> <td>1956</td>\n",
       "        </tr>\n",
       "        <tr>\n",
       "            <td>6        </td> <td>Jaws                            </td> <td>Universal      </td> <td>260,000,000</td> <td>1,138,620,700   </td> <td>1975</td>\n",
       "        </tr>\n",
       "        <tr>\n",
       "            <td>7        </td> <td>Doctor Zhivago                  </td> <td>MGM            </td> <td>111,721,910</td> <td>1,103,564,200   </td> <td>1965</td>\n",
       "        </tr>\n",
       "        <tr>\n",
       "            <td>8        </td> <td>The Exorcist                    </td> <td>Warner Brothers</td> <td>232,906,145</td> <td>983,226,600     </td> <td>1973</td>\n",
       "        </tr>\n",
       "        <tr>\n",
       "            <td>9        </td> <td>Snow White and the Seven Dwarves</td> <td>Disney         </td> <td>184,925,486</td> <td>969,010,000     </td> <td>1937</td>\n",
       "        </tr>\n",
       "    </tbody>\n",
       "</table>\n",
       "<p>... (190 rows omitted)</p>"
      ]
     },
     "metadata": {},
     "execution_count": 11
    }
   ],
   "source": [
    "top1 = Table.read_table(path_data + 'top_movies_2017.csv')\n",
    "top2 = top1.with_column('Row Index', np.arange(top1.num_rows))\n",
    "top = top2.move_to_start('Row Index')\n",
    "\n",
    "top.set_format(make_array(3, 4), NumberFormatter)"
   ]
  },
  {
   "cell_type": "code",
   "execution_count": 12,
   "id": "cell-4",
   "metadata": {},
   "outputs": [
    {
     "output_type": "execute_result",
     "data": {
      "text/plain": [
       "Row Index | Title                            | Studio          | Gross       | Gross (Adjusted) | Year\n",
       "0         | Gone with the Wind               | MGM             | 198,676,459 | 1,796,176,700    | 1939\n",
       "1         | Star Wars                        | Fox             | 460,998,007 | 1,583,483,200    | 1977\n",
       "2         | The Sound of Music               | Fox             | 158,671,368 | 1,266,072,700    | 1965\n",
       "3         | E.T.: The Extra-Terrestrial      | Universal       | 435,110,554 | 1,261,085,000    | 1982\n",
       "4         | Titanic                          | Paramount       | 658,672,302 | 1,204,368,000    | 1997\n",
       "5         | The Ten Commandments             | Paramount       | 65,500,000  | 1,164,590,000    | 1956\n",
       "6         | Jaws                             | Universal       | 260,000,000 | 1,138,620,700    | 1975\n",
       "7         | Doctor Zhivago                   | MGM             | 111,721,910 | 1,103,564,200    | 1965\n",
       "8         | The Exorcist                     | Warner Brothers | 232,906,145 | 983,226,600      | 1973\n",
       "9         | Snow White and the Seven Dwarves | Disney          | 184,925,486 | 969,010,000      | 1937\n",
       "... (190 rows omitted)"
      ],
      "text/html": [
       "<table border=\"1\" class=\"dataframe\">\n",
       "    <thead>\n",
       "        <tr>\n",
       "            <th>Row Index</th> <th>Title</th> <th>Studio</th> <th>Gross</th> <th>Gross (Adjusted)</th> <th>Year</th>\n",
       "        </tr>\n",
       "    </thead>\n",
       "    <tbody>\n",
       "        <tr>\n",
       "            <td>0        </td> <td>Gone with the Wind              </td> <td>MGM            </td> <td>198,676,459</td> <td>1,796,176,700   </td> <td>1939</td>\n",
       "        </tr>\n",
       "        <tr>\n",
       "            <td>1        </td> <td>Star Wars                       </td> <td>Fox            </td> <td>460,998,007</td> <td>1,583,483,200   </td> <td>1977</td>\n",
       "        </tr>\n",
       "        <tr>\n",
       "            <td>2        </td> <td>The Sound of Music              </td> <td>Fox            </td> <td>158,671,368</td> <td>1,266,072,700   </td> <td>1965</td>\n",
       "        </tr>\n",
       "        <tr>\n",
       "            <td>3        </td> <td>E.T.: The Extra-Terrestrial     </td> <td>Universal      </td> <td>435,110,554</td> <td>1,261,085,000   </td> <td>1982</td>\n",
       "        </tr>\n",
       "        <tr>\n",
       "            <td>4        </td> <td>Titanic                         </td> <td>Paramount      </td> <td>658,672,302</td> <td>1,204,368,000   </td> <td>1997</td>\n",
       "        </tr>\n",
       "        <tr>\n",
       "            <td>5        </td> <td>The Ten Commandments            </td> <td>Paramount      </td> <td>65,500,000 </td> <td>1,164,590,000   </td> <td>1956</td>\n",
       "        </tr>\n",
       "        <tr>\n",
       "            <td>6        </td> <td>Jaws                            </td> <td>Universal      </td> <td>260,000,000</td> <td>1,138,620,700   </td> <td>1975</td>\n",
       "        </tr>\n",
       "        <tr>\n",
       "            <td>7        </td> <td>Doctor Zhivago                  </td> <td>MGM            </td> <td>111,721,910</td> <td>1,103,564,200   </td> <td>1965</td>\n",
       "        </tr>\n",
       "        <tr>\n",
       "            <td>8        </td> <td>The Exorcist                    </td> <td>Warner Brothers</td> <td>232,906,145</td> <td>983,226,600     </td> <td>1973</td>\n",
       "        </tr>\n",
       "        <tr>\n",
       "            <td>9        </td> <td>Snow White and the Seven Dwarves</td> <td>Disney         </td> <td>184,925,486</td> <td>969,010,000     </td> <td>1937</td>\n",
       "        </tr>\n",
       "    </tbody>\n",
       "</table>\n",
       "<p>... (190 rows omitted)</p>"
      ]
     },
     "metadata": {},
     "execution_count": 12
    }
   ],
   "source": [
    "top"
   ]
  },
  {
   "cell_type": "markdown",
   "id": "cell-5",
   "metadata": {},
   "source": [
    "<h2>테이블의 행 표본추출</h2>\n",
    "\n",
    "데이터 테이블의 각 행은 하나의 개체를 나타냅니다. `top`에서 각 개체는 영화입니다. 따라서 개체를 표본추출하는 것은 테이블의 행을 표본추출함으로써 달성될 수 있습니다.\n",
    "\n",
    "행의 내용은 동일한 개체에 대해 측정된 서로 다른 변수의 값들입니다. 따라서 표본추출된 행의 내용은 각 변수의 값들에 대한 표본을 형성합니다."
   ]
  },
  {
   "cell_type": "markdown",
   "id": "cell-6",
   "metadata": {},
   "source": [
    "<h2>결정론적 표본</h2>\n",
    "\n",
    "어떤 확률도 포함하지 않고 집합의 어떤 요소를 선택할지 단순히 지정하면 *결정론적 표본*을 생성합니다.\n",
    "\n",
    "예를 들어 `take`를 사용하여 여러 번 이렇게 해왔습니다:"
   ]
  },
  {
   "cell_type": "code",
   "execution_count": 13,
   "id": "cell-7",
   "metadata": {},
   "outputs": [
    {
     "output_type": "execute_result",
     "data": {
      "text/plain": [
       "Row Index | Title                       | Studio      | Gross       | Gross (Adjusted) | Year\n",
       "3         | E.T.: The Extra-Terrestrial | Universal   | 435,110,554 | 1,261,085,000    | 1982\n",
       "18        | The Lion King               | Buena Vista | 422,783,777 | 792,511,700      | 1994\n",
       "100       | The Hunger Games            | Lionsgate   | 408,010,692 | 452,174,400      | 2012"
      ],
      "text/html": [
       "<table border=\"1\" class=\"dataframe\">\n",
       "    <thead>\n",
       "        <tr>\n",
       "            <th>Row Index</th> <th>Title</th> <th>Studio</th> <th>Gross</th> <th>Gross (Adjusted)</th> <th>Year</th>\n",
       "        </tr>\n",
       "    </thead>\n",
       "    <tbody>\n",
       "        <tr>\n",
       "            <td>3        </td> <td>E.T.: The Extra-Terrestrial</td> <td>Universal  </td> <td>435,110,554</td> <td>1,261,085,000   </td> <td>1982</td>\n",
       "        </tr>\n",
       "        <tr>\n",
       "            <td>18       </td> <td>The Lion King              </td> <td>Buena Vista</td> <td>422,783,777</td> <td>792,511,700     </td> <td>1994</td>\n",
       "        </tr>\n",
       "        <tr>\n",
       "            <td>100      </td> <td>The Hunger Games           </td> <td>Lionsgate  </td> <td>408,010,692</td> <td>452,174,400     </td> <td>2012</td>\n",
       "        </tr>\n",
       "    </tbody>\n",
       "</table>"
      ]
     },
     "metadata": {},
     "execution_count": 13
    }
   ],
   "source": [
    "top.take(make_array(3, 18, 100))"
   ]
  },
  {
   "cell_type": "markdown",
   "id": "cell-8",
   "metadata": {},
   "source": [
    "`where`도 사용했습니다:"
   ]
  },
  {
   "cell_type": "code",
   "execution_count": 14,
   "id": "cell-9",
   "metadata": {},
   "outputs": [
    {
     "output_type": "execute_result",
     "data": {
      "text/plain": [
       "Row Index | Title                                       | Studio          | Gross       | Gross (Adjusted) | Year\n",
       "74        | Harry Potter and the Sorcerer's Stone       | Warner Brothers | 317,575,550 | 497,066,400      | 2001\n",
       "114       | Harry Potter and the Deathly Hallows Part 2 | Warner Brothers | 381,011,219 | 426,630,300      | 2011\n",
       "131       | Harry Potter and the Goblet of Fire         | Warner Brothers | 290,013,036 | 401,608,200      | 2005\n",
       "133       | Harry Potter and the Chamber of Secrets     | Warner Brothers | 261,988,482 | 399,302,200      | 2002\n",
       "154       | Harry Potter and the Order of the Phoenix   | Warner Brothers | 292,004,738 | 377,314,200      | 2007\n",
       "175       | Harry Potter and the Half-Blood Prince      | Warner Brothers | 301,959,197 | 359,788,300      | 2009\n",
       "177       | Harry Potter and the Prisoner of Azkaban    | Warner Brothers | 249,541,069 | 357,233,500      | 2004"
      ],
      "text/html": [
       "<table border=\"1\" class=\"dataframe\">\n",
       "    <thead>\n",
       "        <tr>\n",
       "            <th>Row Index</th> <th>Title</th> <th>Studio</th> <th>Gross</th> <th>Gross (Adjusted)</th> <th>Year</th>\n",
       "        </tr>\n",
       "    </thead>\n",
       "    <tbody>\n",
       "        <tr>\n",
       "            <td>74       </td> <td>Harry Potter and the Sorcerer's Stone      </td> <td>Warner Brothers</td> <td>317,575,550</td> <td>497,066,400     </td> <td>2001</td>\n",
       "        </tr>\n",
       "        <tr>\n",
       "            <td>114      </td> <td>Harry Potter and the Deathly Hallows Part 2</td> <td>Warner Brothers</td> <td>381,011,219</td> <td>426,630,300     </td> <td>2011</td>\n",
       "        </tr>\n",
       "        <tr>\n",
       "            <td>131      </td> <td>Harry Potter and the Goblet of Fire        </td> <td>Warner Brothers</td> <td>290,013,036</td> <td>401,608,200     </td> <td>2005</td>\n",
       "        </tr>\n",
       "        <tr>\n",
       "            <td>133      </td> <td>Harry Potter and the Chamber of Secrets    </td> <td>Warner Brothers</td> <td>261,988,482</td> <td>399,302,200     </td> <td>2002</td>\n",
       "        </tr>\n",
       "        <tr>\n",
       "            <td>154      </td> <td>Harry Potter and the Order of the Phoenix  </td> <td>Warner Brothers</td> <td>292,004,738</td> <td>377,314,200     </td> <td>2007</td>\n",
       "        </tr>\n",
       "        <tr>\n",
       "            <td>175      </td> <td>Harry Potter and the Half-Blood Prince     </td> <td>Warner Brothers</td> <td>301,959,197</td> <td>359,788,300     </td> <td>2009</td>\n",
       "        </tr>\n",
       "        <tr>\n",
       "            <td>177      </td> <td>Harry Potter and the Prisoner of Azkaban   </td> <td>Warner Brothers</td> <td>249,541,069</td> <td>357,233,500     </td> <td>2004</td>\n",
       "        </tr>\n",
       "    </tbody>\n",
       "</table>"
      ]
     },
     "metadata": {},
     "execution_count": 14
    }
   ],
   "source": [
    "top.where('Title', are.containing('Harry Potter'))"
   ]
  },
  {
   "cell_type": "markdown",
   "id": "cell-10",
   "metadata": {},
   "source": [
    "이것들은 표본이지만 무작위 표본은 아닙니다. 확률이 포함되지 않습니다."
   ]
  },
  {
   "cell_type": "markdown",
   "id": "cell-11",
   "metadata": {},
   "source": [
    "<h2>확률 표본</h2>"
   ]
  },
  {
   "cell_type": "markdown",
   "id": "cell-12",
   "metadata": {},
   "source": [
    "무작위 표본을 설명하기 위해 몇 가지 용어가 도움이 될 것입니다.\n",
    "\n",
    "*모집단*은 표본이 추출될 모든 요소의 집합입니다.\n",
    "\n",
    "*확률 표본*은 표본이 추출되기 전에 요소의 어떤 부분집합이 표본에 포함될 확률을 계산할 수 있는 표본입니다.\n",
    "\n",
    "확률 표본에서 모든 요소가 동일한 선택 확률을 가질 필요는 없습니다.\n",
    "\n",
    "<h2>무작위 표본추출 방법</h2>\n",
    "\n",
    "예를 들어, 세 사람 A, B, C로 구성된 모집단에서 다음 방법에 따라 두 사람을 선택한다고 가정합시다:\n",
    "\n",
    "- 사람 A는 확률 1로 선택됩니다.\n",
    "- 사람 B 또는 C 중 한 명은 동전 던지기에 따라 선택됩니다: 동전이 앞면이 나오면 B를 선택하고, 뒷면이 나오면 C를 선택합니다.\n",
    "\n",
    "이것은 크기 2의 확률 표본입니다. 모든 비어있지 않은 부분집합에 대한 선택 확률은 다음과 같습니다:\n",
    "\n",
    "    A: 1\n",
    "    B: 1/2\n",
    "    C: 1/2\n",
    "    AB: 1/2\n",
    "    AC: 1/2\n",
    "    BC: 0\n",
    "    ABC: 0\n",
    "\n",
    "사람 A는 사람 B나 C보다 선택될 확률이 높습니다. 실제로 사람 A는 확실히 선택됩니다. 이러한 차이가 알려져 있고 정량화되어 있으므로 표본으로 작업할 때 이를 고려할 수 있습니다."
   ]
  },
  {
   "cell_type": "markdown",
   "id": "cell-13",
   "metadata": {},
   "source": [
    "<h2>계통 표본</h2>\n",
    "\n",
    "모집단의 모든 요소가 시퀀스로 나열되어 있다고 상상해보세요. 한 가지 표본추출 방법은 리스트 초반에 무작위 위치를 선택한 다음, 그 이후로 균등한 간격의 위치를 선택하는 것입니다. 표본은 그러한 위치에 있는 요소들로 구성됩니다. 이러한 표본을 *계통 표본*이라고 합니다.\n",
    "\n",
    "여기서 우리는 `top`의 행에서 계통 표본을 선택할 것입니다. 먼저 처음 10개 행 중 하나를 무작위로 선택한 다음, 그 이후로 10번째 행마다 선택할 것입니다."
   ]
  },
  {
   "cell_type": "code",
   "execution_count": 16,
   "id": "cell-14",
   "metadata": {},
   "outputs": [
    {
     "output_type": "execute_result",
     "data": {
      "text/plain": [
       "array([0, 1, 2, 3, 4, 5, 6, 7, 8, 9])"
      ]
     },
     "metadata": {},
     "execution_count": 16
    }
   ],
   "source": [
    "np.arange(10)"
   ]
  },
  {
   "cell_type": "code",
   "execution_count": 17,
   "id": "cell-15",
   "metadata": {},
   "outputs": [
    {
     "output_type": "execute_result",
     "data": {
      "text/plain": [
       "Row Index | Title                                 | Studio          | Gross       | Gross (Adjusted) | Year\n",
       "4         | Titanic                               | Paramount       | 658,672,302 | 1,204,368,000    | 1997\n",
       "14        | Avatar                                | Fox             | 760,507,625 | 865,082,100      | 2009\n",
       "24        | The Godfather                         | Paramount       | 134,966,411 | 701,621,600      | 1972\n",
       "34        | Shrek 2                               | Dreamworks      | 441,226,247 | 631,642,700      | 2004\n",
       "44        | Airport                               | Universal       | 100,489,151 | 587,729,300      | 1970\n",
       "54        | Finding Nemo                          | Buena Vista     | 380,843,261 | 547,504,100      | 2003\n",
       "64        | Back to the Future                    | Universal       | 210,609,762 | 524,960,300      | 1985\n",
       "74        | Harry Potter and the Sorcerer's Stone | Warner Brothers | 317,575,550 | 497,066,400      | 2001\n",
       "84        | Men in Black                          | Sony            | 250,690,539 | 485,542,200      | 1997\n",
       "94        | Mrs. Doubtfire                        | Fox             | 219,195,243 | 468,364,200      | 1993\n",
       "... (10 rows omitted)"
      ],
      "text/html": [
       "<table border=\"1\" class=\"dataframe\">\n",
       "    <thead>\n",
       "        <tr>\n",
       "            <th>Row Index</th> <th>Title</th> <th>Studio</th> <th>Gross</th> <th>Gross (Adjusted)</th> <th>Year</th>\n",
       "        </tr>\n",
       "    </thead>\n",
       "    <tbody>\n",
       "        <tr>\n",
       "            <td>4        </td> <td>Titanic                              </td> <td>Paramount      </td> <td>658,672,302</td> <td>1,204,368,000   </td> <td>1997</td>\n",
       "        </tr>\n",
       "        <tr>\n",
       "            <td>14       </td> <td>Avatar                               </td> <td>Fox            </td> <td>760,507,625</td> <td>865,082,100     </td> <td>2009</td>\n",
       "        </tr>\n",
       "        <tr>\n",
       "            <td>24       </td> <td>The Godfather                        </td> <td>Paramount      </td> <td>134,966,411</td> <td>701,621,600     </td> <td>1972</td>\n",
       "        </tr>\n",
       "        <tr>\n",
       "            <td>34       </td> <td>Shrek 2                              </td> <td>Dreamworks     </td> <td>441,226,247</td> <td>631,642,700     </td> <td>2004</td>\n",
       "        </tr>\n",
       "        <tr>\n",
       "            <td>44       </td> <td>Airport                              </td> <td>Universal      </td> <td>100,489,151</td> <td>587,729,300     </td> <td>1970</td>\n",
       "        </tr>\n",
       "        <tr>\n",
       "            <td>54       </td> <td>Finding Nemo                         </td> <td>Buena Vista    </td> <td>380,843,261</td> <td>547,504,100     </td> <td>2003</td>\n",
       "        </tr>\n",
       "        <tr>\n",
       "            <td>64       </td> <td>Back to the Future                   </td> <td>Universal      </td> <td>210,609,762</td> <td>524,960,300     </td> <td>1985</td>\n",
       "        </tr>\n",
       "        <tr>\n",
       "            <td>74       </td> <td>Harry Potter and the Sorcerer's Stone</td> <td>Warner Brothers</td> <td>317,575,550</td> <td>497,066,400     </td> <td>2001</td>\n",
       "        </tr>\n",
       "        <tr>\n",
       "            <td>84       </td> <td>Men in Black                         </td> <td>Sony           </td> <td>250,690,539</td> <td>485,542,200     </td> <td>1997</td>\n",
       "        </tr>\n",
       "        <tr>\n",
       "            <td>94       </td> <td>Mrs. Doubtfire                       </td> <td>Fox            </td> <td>219,195,243</td> <td>468,364,200     </td> <td>1993</td>\n",
       "        </tr>\n",
       "    </tbody>\n",
       "</table>\n",
       "<p>... (10 rows omitted)</p>"
      ]
     },
     "metadata": {},
     "execution_count": 17
    }
   ],
   "source": [
    "\"\"\"0부터 9까지의 행 중에서 무작위 시작점을 선택;\n",
    "그 다음 10번째 행마다 선택.\"\"\"\n",
    "\n",
    "start = np.random.choice(np.arange(10))\n",
    "top.take(np.arange(start, top.num_rows, 10))"
   ]
  },
  {
   "cell_type": "markdown",
   "id": "cell-16",
   "metadata": {},
   "source": [
    "셀을 몇 번 실행하여 출력이 어떻게 달라지는지 확인해보세요.\n",
    "\n",
    "이 계통 표본은 확률 표본입니다. 이 방법에서 모든 행은 $1/10$의 확률로 선택됩니다. 예를 들어, 행 23은 행 3이 선택될 때만 선택되며, 그 확률은 $1/10$입니다.\n",
    "\n",
    "그러나 모든 부분집합이 동일한 선택 확률을 가지는 것은 아닙니다. 선택된 행들이 균등한 간격으로 배치되어 있기 때문에 대부분의 행 부분집합은 선택될 확률이 없습니다. 가능한 부분집합은 10의 배수로 분리된 행들로 구성된 부분집합뿐입니다. 그러한 부분집합 중 하나는 확률 1/10으로 선택됩니다. 테이블의 15번째와 16번째 행을 모두 포함하는 부분집합이나 크기가 10보다 큰 부분집합과 같은 다른 부분집합은 확률 0으로 선택됩니다."
   ]
  },
  {
   "cell_type": "markdown",
   "id": "cell-17",
   "metadata": {},
   "source": [
    "<h2>복원추출 또는 비복원추출 무작위 표본</h2>\n",
    "\n",
    "이 과정에서는 주로 가장 직관적인 두 가지 표본추출 방법을 다룰 것입니다.\n",
    "\n",
    "첫 번째는 복원추출 무작위 표본추출로, (앞서 살펴본 것처럼) 배열에서 표본추출할 때 `np.random.choice`의 기본 동작입니다.\n",
    "\n",
    "다른 하나는 \"단순 무작위 표본\"이라고 불리며, *비복원*으로 무작위로 추출된 표본입니다. 표본추출된 개체는 다음 개체가 추출되기 전에 모집단에 다시 넣지 않습니다. 이것은 예를 들어 카드 한 벌에서 패를 나눌 때 발생하는 표본추출 방식입니다. 단순 무작위 표본추출을 위해 `np.random.choice`를 사용하려면 인수 `replace=False`를 포함해야 합니다.\n",
    "\n",
    "이 장에서는 시뮬레이션을 사용하여 복원추출 또는 비복원추출로 무작위로 추출된 대규모 표본의 동작을 연구할 것입니다."
   ]
  },
  {
   "cell_type": "markdown",
   "id": "cell-18",
   "metadata": {},
   "source": [
    "<h2>편의 표본</h2>\n",
    "무작위 표본을 추출하려면 주의와 정밀함이 필요합니다. \"무작위(random)\"라는 단어의 구어적 의미가 무계획적이라는 뜻이지만, 실제로는 그렇지 않습니다. 길모퉁이에 서서 지나가는 처음 10명을 표본으로 삼는다면, 누가 지나갈지 선택하지 않았기 때문에 무작위로 표본추출하고 있다고 생각할 수 있습니다. 그러나 이것은 무작위 표본이 아닙니다 – *편의 표본*입니다. 각 사람이 표본에 포함될 확률을 미리 알지 못했으며, 모집단에 정확히 누가 있는지조차 지정하지 않았을 수도 있습니다."
   ]
  },
  {
   "cell_type": "code",
   "execution_count": null,
   "id": "cell-19",
   "metadata": {},
   "outputs": [],
   "source": []
  }
 ],
 "metadata": {
  "kernelspec": {
   "display_name": "Python 3",
   "language": "python",
   "name": "python3"
  },
  "language_info": {
   "codemirror_mode": {
    "name": "ipython",
    "version": 3
   },
   "file_extension": ".py",
   "mimetype": "text/x-python",
   "name": "python",
   "nbconvert_exporter": "python",
   "pygments_lexer": "ipython3",
   "version": "3.8.5"
  }
 },
 "nbformat": 4,
 "nbformat_minor": 5
}