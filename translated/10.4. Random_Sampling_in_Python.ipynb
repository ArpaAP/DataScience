{
 "cells": [
  {
   "cell_type": "code",
   "execution_count": 1,
   "id": "cell-0",
   "metadata": {},
   "outputs": [],
   "source": [
    "from datascience import *\n",
    "#path_data = '../data/'\n",
    "path_data = 'data/'\n",
    "import matplotlib\n",
    "matplotlib.use('Agg')\n",
    "%matplotlib inline\n",
    "import matplotlib.pyplot as plots\n",
    "plots.style.use('fivethirtyeight')\n",
    "import numpy as np"
   ]
  },
  {
   "cell_type": "markdown",
   "id": "cell-2",
   "metadata": {},
   "source": [
    "# Python\uc5d0\uc11c\uc758 \ubb34\uc791\uc704 \ud45c\ubcf8\ucd94\ucd9c\n",
    "\n",
    "\uc774 \uc808\uc740 Python\uc744 \uc0ac\uc6a9\ud558\uc5ec \ubb34\uc791\uc704\ub85c \ud45c\ubcf8\ucd94\ucd9c\ud558\ub294 \ubc29\ubc95\uc744 \uc694\uc57d\ud558\uace0 \uc0c8\ub85c\uc6b4 \ubc29\ubc95\uc744 \uc18c\uac1c\ud569\ub2c8\ub2e4.\n",
    "\n",
    "## \ubcf5\uc2b5: \ud14c\uc774\ube14\uc758 \ubaa8\uc9d1\ub2e8\uc5d0\uc11c \ud45c\ubcf8\ucd94\ucd9c\n",
    "\ub370\uc774\ud130\uac00 \ud14c\uc774\ube14\uc758 \ud589\uc73c\ub85c \ud45c\ud604\ub41c \uac1c\uccb4 \ubaa8\uc9d1\ub2e8\uc5d0\uc11c \ud45c\ubcf8\ucd94\ucd9c\ud558\ub294 \uacbd\uc6b0 \ud14c\uc774\ube14 \uba54\uc11c\ub4dc `sample`\uc744 \uc0ac\uc6a9\ud558\uc5ec \ud14c\uc774\ube14\uc758 \ud589\uc744 [\ubb34\uc791\uc704\ub85c \uc120\ud0dd](https://inferentialthinking.com/chapters/10/1/Empirical_Distributions.html#id1)\ud560 \uc218 \uc788\uc2b5\ub2c8\ub2e4. \uc989, `sample`\uc744 \uc0ac\uc6a9\ud558\uc5ec \uac1c\uccb4\uc758 \ubb34\uc791\uc704 \ud45c\ubcf8\uc744 \uc120\ud0dd\ud560 \uc218 \uc788\uc2b5\ub2c8\ub2e4.\n",
    "\n",
    "\uae30\ubcf8\uc801\uc73c\ub85c `sample`\uc740 \ubcf5\uc6d0\ucd94\ucd9c\ub85c \uade0\ub4f1\ud558\uac8c \ubb34\uc791\uc704\ub85c \ucd94\ucd9c\ud569\ub2c8\ub2e4. \uc774\uac83\uc740 \uc8fc\uc0ac\uc704 \uad74\ub9ac\uae30\uc640 \uac19\uc740 \uc6b0\uc5f0 \uc2e4\ud5d8\uc5d0 \ub300\ud55c \uc790\uc5f0\uc2a4\ub7ec\uc6b4 \ubaa8\ub378\uc785\ub2c8\ub2e4."
   ]
  },
  {
   "cell_type": "code",
   "execution_count": 3,
   "id": "cell-3",
   "metadata": {},
   "outputs": [
    {
     "output_type": "execute_result",
     "data": {
      "text/plain": [
       "Face\n",
       "1\n",
       "2\n",
       "3\n",
       "4\n",
       "5\n",
       "6"
      ],
      "text/html": [
       "<table border=\"1\" class=\"dataframe\">\n",
       "    <thead>\n",
       "        <tr>\n",
       "            <th>Face</th>\n",
       "        </tr>\n",
       "    </thead>\n",
       "    <tbody>\n",
       "        <tr>\n",
       "            <td>1   </td>\n",
       "        </tr>\n",
       "        <tr>\n",
       "            <td>2   </td>\n",
       "        </tr>\n",
       "        <tr>\n",
       "            <td>3   </td>\n",
       "        </tr>\n",
       "        <tr>\n",
       "            <td>4   </td>\n",
       "        </tr>\n",
       "        <tr>\n",
       "            <td>5   </td>\n",
       "        </tr>\n",
       "        <tr>\n",
       "            <td>6   </td>\n",
       "        </tr>\n",
       "    </tbody>\n",
       "</table>"
      ]
     },
     "metadata": {},
     "execution_count": 3
    }
   ],
   "source": [
    "faces = np.arange(1, 7)\n",
    "die = Table().with_columns('Face', faces)\n",
    "die"
   ]
  },
  {
   "cell_type": "markdown",
   "id": "cell-4",
   "metadata": {},
   "source": [
    "\uc544\ub798 \uc140\uc744 \uc2e4\ud589\ud558\uc5ec \uc8fc\uc0ac\uc704\ub97c 7\ubc88 \uad74\ub9b0 \uac83\uc744 \uc2dc\ubbac\ub808\uc774\uc158\ud558\uc138\uc694."
   ]
  },
  {
   "cell_type": "code",
   "execution_count": 7,
   "id": "cell-5",
   "metadata": {},
   "outputs": [
    {
     "output_type": "execute_result",
     "data": {
      "text/plain": [
       "Face\n",
       "1\n",
       "3\n",
       "4\n",
       "3\n",
       "6\n",
       "2"
      ],
      "text/html": [
       "<table border=\"1\" class=\"dataframe\">\n",
       "    <thead>\n",
       "        <tr>\n",
       "            <th>Face</th>\n",
       "        </tr>\n",
       "    </thead>\n",
       "    <tbody>\n",
       "        <tr>\n",
       "            <td>1   </td>\n",
       "        </tr>\n",
       "        <tr>\n",
       "            <td>3   </td>\n",
       "        </tr>\n",
       "        <tr>\n",
       "            <td>4   </td>\n",
       "        </tr>\n",
       "        <tr>\n",
       "            <td>3   </td>\n",
       "        </tr>\n",
       "        <tr>\n",
       "            <td>6   </td>\n",
       "        </tr>\n",
       "        <tr>\n",
       "            <td>2   </td>\n",
       "        </tr>\n",
       "    </tbody>\n",
       "</table>"
      ]
     },
     "metadata": {},
     "execution_count": 7
    }
   ],
   "source": [
    "die.sample(6)"
   ]
  },
  {
   "cell_type": "markdown",
   "id": "cell-6",
   "metadata": {},
   "source": [
    "\ub54c\ub85c\ub294 \ube44\ubcf5\uc6d0\ucd94\ucd9c\ub85c \uac1c\uccb4\ub97c \ubb34\uc791\uc704\ub85c \ud45c\ubcf8\ucd94\ucd9c\ud558\ub294 \uac83\uc774 \ub354 \uc790\uc5f0\uc2a4\ub7fd\uc2b5\ub2c8\ub2e4. \uc774\uac83\uc744 \ub2e8\uc21c \ubb34\uc791\uc704 \ud45c\ubcf8\uc774\ub77c\uace0 \ud569\ub2c8\ub2e4. \uc778\uc218 `with_replacement=False`\ub97c \uc0ac\uc6a9\ud558\uba74 \uc774\ub807\uac8c \ud560 \uc218 \uc788\uc2b5\ub2c8\ub2e4."
   ]
  },
  {
   "cell_type": "code",
   "execution_count": 8,
   "id": "cell-7",
   "metadata": {},
   "outputs": [
    {
     "output_type": "execute_result",
     "data": {
      "text/plain": [
       "Actor              | Total Gross | Number of Movies | Average per Movie | #1 Movie                     | Gross\n",
       "Harrison Ford      | 4871.7      | 41               | 118.8             | Star Wars: The Force Awakens | 936.7\n",
       "Samuel L. Jackson  | 4772.8      | 69               | 69.2              | The Avengers                 | 623.4\n",
       "Morgan Freeman     | 4468.3      | 61               | 73.3              | The Dark Knight              | 534.9\n",
       "Tom Hanks          | 4340.8      | 44               | 98.7              | Toy Story 3                  | 415\n",
       "Robert Downey, Jr. | 3947.3      | 53               | 74.5              | The Avengers                 | 623.4\n",
       "Eddie Murphy       | 3810.4      | 38               | 100.3             | Shrek 2                      | 441.2\n",
       "Tom Cruise         | 3587.2      | 36               | 99.6              | War of the Worlds            | 234.3\n",
       "Johnny Depp        | 3368.6      | 45               | 74.9              | Dead Man's Chest             | 423.3\n",
       "Michael Caine      | 3351.5      | 58               | 57.8              | The Dark Knight              | 534.9\n",
       "Scarlett Johansson | 3341.2      | 37               | 90.3              | The Avengers                 | 623.4\n",
       "... (40 rows omitted)"
      ],
      "text/html": [
       "<table border=\"1\" class=\"dataframe\">\n",
       "    <thead>\n",
       "        <tr>\n",
       "            <th>Actor</th> <th>Total Gross</th> <th>Number of Movies</th> <th>Average per Movie</th> <th>#1 Movie</th> <th>Gross</th>\n",
       "        </tr>\n",
       "    </thead>\n",
       "    <tbody>\n",
       "        <tr>\n",
       "            <td>Harrison Ford     </td> <td>4871.7     </td> <td>41              </td> <td>118.8            </td> <td>Star Wars: The Force Awakens</td> <td>936.7</td>\n",
       "        </tr>\n",
       "        <tr>\n",
       "            <td>Samuel L. Jackson </td> <td>4772.8     </td> <td>69              </td> <td>69.2             </td> <td>The Avengers                </td> <td>623.4</td>\n",
       "        </tr>\n",
       "        <tr>\n",
       "            <td>Morgan Freeman    </td> <td>4468.3     </td> <td>61              </td> <td>73.3             </td> <td>The Dark Knight             </td> <td>534.9</td>\n",
       "        </tr>\n",
       "        <tr>\n",
       "            <td>Tom Hanks         </td> <td>4340.8     </td> <td>44              </td> <td>98.7             </td> <td>Toy Story 3                 </td> <td>415  </td>\n",
       "        </tr>\n",
       "        <tr>\n",
       "            <td>Robert Downey, Jr.</td> <td>3947.3     </td> <td>53              </td> <td>74.5             </td> <td>The Avengers                </td> <td>623.4</td>\n",
       "        </tr>\n",
       "        <tr>\n",
       "            <td>Eddie Murphy      </td> <td>3810.4     </td> <td>38              </td> <td>100.3            </td> <td>Shrek 2                     </td> <td>441.2</td>\n",
       "        </tr>\n",
       "        <tr>\n",
       "            <td>Tom Cruise        </td> <td>3587.2     </td> <td>36              </td> <td>99.6             </td> <td>War of the Worlds           </td> <td>234.3</td>\n",
       "        </tr>\n",
       "        <tr>\n",
       "            <td>Johnny Depp       </td> <td>3368.6     </td> <td>45              </td> <td>74.9             </td> <td>Dead Man's Chest            </td> <td>423.3</td>\n",
       "        </tr>\n",
       "        <tr>\n",
       "            <td>Michael Caine     </td> <td>3351.5     </td> <td>58              </td> <td>57.8             </td> <td>The Dark Knight             </td> <td>534.9</td>\n",
       "        </tr>\n",
       "        <tr>\n",
       "            <td>Scarlett Johansson</td> <td>3341.2     </td> <td>37              </td> <td>90.3             </td> <td>The Avengers                </td> <td>623.4</td>\n",
       "        </tr>\n",
       "    </tbody>\n",
       "</table>\n",
       "<p>... (40 rows omitted)</p>"
      ]
     },
     "metadata": {},
     "execution_count": 8
    }
   ],
   "source": [
    "actors = Table.read_table(path_data + 'actors.csv')\n",
    "actors"
   ]
  },
  {
   "cell_type": "code",
   "execution_count": 9,
   "id": "cell-8",
   "metadata": {},
   "outputs": [
    {
     "output_type": "execute_result",
     "data": {
      "text/plain": [
       "Actor                  | Total Gross | Number of Movies | Average per Movie | #1 Movie                            | Gross\n",
       "Daniel Radcliffe       | 2634.4      | 17               | 155               | Harry Potter / Deathly Hallows (P2) | 381\n",
       "Robert DeNiro          | 3081.3      | 79               | 39                | Meet the Fockers                    | 279.3\n",
       "Michael Caine          | 3351.5      | 58               | 57.8              | The Dark Knight                     | 534.9\n",
       "Jeremy Renner          | 2500.3      | 21               | 119.1             | The Avengers                        | 623.4\n",
       "Philip Seymour Hoffman | 2463.7      | 40               | 61.6              | Catching Fire                       | 424.7"
      ],
      "text/html": [
       "<table border=\"1\" class=\"dataframe\">\n",
       "    <thead>\n",
       "        <tr>\n",
       "            <th>Actor</th> <th>Total Gross</th> <th>Number of Movies</th> <th>Average per Movie</th> <th>#1 Movie</th> <th>Gross</th>\n",
       "        </tr>\n",
       "    </thead>\n",
       "    <tbody>\n",
       "        <tr>\n",
       "            <td>Daniel Radcliffe      </td> <td>2634.4     </td> <td>17              </td> <td>155              </td> <td>Harry Potter / Deathly Hallows (P2)</td> <td>381  </td>\n",
       "        </tr>\n",
       "        <tr>\n",
       "            <td>Robert DeNiro         </td> <td>3081.3     </td> <td>79              </td> <td>39               </td> <td>Meet the Fockers                   </td> <td>279.3</td>\n",
       "        </tr>\n",
       "        <tr>\n",
       "            <td>Michael Caine         </td> <td>3351.5     </td> <td>58              </td> <td>57.8             </td> <td>The Dark Knight                    </td> <td>534.9</td>\n",
       "        </tr>\n",
       "        <tr>\n",
       "            <td>Jeremy Renner         </td> <td>2500.3     </td> <td>21              </td> <td>119.1            </td> <td>The Avengers                       </td> <td>623.4</td>\n",
       "        </tr>\n",
       "        <tr>\n",
       "            <td>Philip Seymour Hoffman</td> <td>2463.7     </td> <td>40              </td> <td>61.6             </td> <td>Catching Fire                      </td> <td>424.7</td>\n",
       "        </tr>\n",
       "    </tbody>\n",
       "</table>"
      ]
     },
     "metadata": {},
     "execution_count": 9
    }
   ],
   "source": [
    "# 5\uac1c \ud589\uc758 \ub2e8\uc21c \ubb34\uc791\uc704 \ud45c\ubcf8\n",
    "actors.sample(5, with_replacement=False)"
   ]
  },
  {
   "cell_type": "markdown",
   "id": "cell-9",
   "metadata": {},
   "source": [
    "`sample`\uc740 \ud589\uc774 \uc120\ud0dd\ub41c \uc21c\uc11c\ub300\ub85c \uc804\uccb4 \ud45c\ubcf8\uc744 \uc81c\uacf5\ud558\ubbc0\ub85c \ud45c\ubcf8\ucd94\ucd9c\ub41c \ud14c\uc774\ube14\uc5d0 \ub300\ud574 \ud14c\uc774\ube14 \uba54\uc11c\ub4dc\ub97c \uc0ac\uc6a9\ud558\uc5ec \ud45c\ubcf8\uc5d0 \ub300\ud55c \ub9ce\uc740 \uc9c8\ubb38\uc5d0 \ub2f5\ud560 \uc218 \uc788\uc2b5\ub2c8\ub2e4. \uc608\ub97c \ub4e4\uc5b4, \uc8fc\uc0ac\uc704\uac00 6\uac1c\uc758 \uc810\uc744 \ubcf4\uc5ec\uc900 \ud69f\uc218, \ud45c\ubcf8\ucd94\ucd9c\ub41c \ubc30\uc6b0\ub4e4\uc774 \ucd9c\uc5f0\ud55c \ud3c9\uade0 \uc601\ud654 \uc218, \ud2b9\uc815 \ub450 \ubc30\uc6b0\uac00 \ud45c\ubcf8\uc5d0 \ub098\ud0c0\ub0ac\ub294\uc9c0 \uc5ec\ubd80\ub97c \ucc3e\uc744 \uc218 \uc788\uc2b5\ub2c8\ub2e4. \uc774 \uc815\ubcf4 \uc911 \uc77c\ubd80\ub97c \uc5bb\uc73c\ub824\uba74 \uc5ec\ub7ec \uc904\uc758 \ucf54\ub4dc\uac00 \ud544\uc694\ud560 \uc218 \uc788\uc2b5\ub2c8\ub2e4."
   ]
  },
  {
   "cell_type": "markdown",
   "id": "cell-10",
   "metadata": {},
   "source": [
    "## \ubcf5\uc2b5: \ubc30\uc5f4\uc758 \ubaa8\uc9d1\ub2e8\uc5d0\uc11c \ud45c\ubcf8\ucd94\ucd9c\n",
    "\n",
    "\ub370\uc774\ud130\uac00 \ubc30\uc5f4\ub85c \ud45c\ud604\ub41c \uac1c\uccb4 \ubaa8\uc9d1\ub2e8\uc5d0\uc11c \ud45c\ubcf8\ucd94\ucd9c\ud558\ub294 \uacbd\uc6b0 NumPy \ud568\uc218 `np.random.choice`\ub97c \uc0ac\uc6a9\ud558\uc5ec \ubc30\uc5f4\uc758 \uc694\uc18c\ub97c [\ubb34\uc791\uc704\ub85c \uc120\ud0dd](https://inferentialthinking.com/chapters/09/3/Simulation.html#example-number-of-heads-in-100-tosses)\ud560 \uc218 \uc788\uc2b5\ub2c8\ub2e4.\n",
    "\n",
    "\uae30\ubcf8\uc801\uc73c\ub85c `np.random.choice`\ub294 \ubcf5\uc6d0\ucd94\ucd9c\ub85c \ubb34\uc791\uc704\ub85c \ud45c\ubcf8\ucd94\ucd9c\ud569\ub2c8\ub2e4."
   ]
  },
  {
   "cell_type": "code",
   "execution_count": 10,
   "id": "cell-11",
   "metadata": {},
   "outputs": [
    {
     "output_type": "execute_result",
     "data": {
      "text/plain": [
       "array([1, 2, 3, 4, 5, 6])"
      ]
     },
     "metadata": {},
     "execution_count": 10
    }
   ],
   "source": [
    "# \uc8fc\uc0ac\uc704\uc758 \uba74\ub4e4, \ubc30\uc5f4\ub85c\n",
    "faces"
   ]
  },
  {
   "cell_type": "code",
   "execution_count": 11,
   "id": "cell-12",
   "metadata": {},
   "outputs": [
    {
     "output_type": "execute_result",
     "data": {
      "text/plain": [
       "array([3, 5, 2, 6, 1, 6, 3])"
      ]
     },
     "metadata": {},
     "execution_count": 11
    }
   ],
   "source": [
    "# \uc8fc\uc0ac\uc704\ub97c 7\ubc88 \uad74\ub9bc\n",
    "np.random.choice(faces, 7)"
   ]
  },
  {
   "cell_type": "markdown",
   "id": "cell-13",
   "metadata": {},
   "source": [
    "\uc778\uc218 `replace=False`\ub97c \uc0ac\uc6a9\ud558\uba74 \ube44\ubcf5\uc6d0\ucd94\ucd9c\ub85c \ucd94\ucd9c\ub41c \ub2e8\uc21c \ubb34\uc791\uc704 \ud45c\ubcf8\uc744 \uc5bb\uc744 \uc218 \uc788\uc2b5\ub2c8\ub2e4."
   ]
  },
  {
   "cell_type": "code",
   "execution_count": 12,
   "id": "cell-14",
   "metadata": {},
   "outputs": [],
   "source": [
    "# \ubc30\uc6b0 \uc774\ub984 \ubc30\uc5f4\n",
    "actor_names = actors.column('Actor')"
   ]
  },
  {
   "cell_type": "code",
   "execution_count": 13,
   "id": "cell-15",
   "metadata": {},
   "outputs": [
    {
     "output_type": "execute_result",
     "data": {
      "text/plain": [
       "array(['Cameron Diaz', 'Ben Stiller', 'Tom Hanks', 'Cate Blanchett',\n",
       "       'Eddie Murphy'],\n",
       "      dtype='<U22')"
      ]
     },
     "metadata": {},
     "execution_count": 13
    }
   ],
   "source": [
    "# 5\uac1c \ubc30\uc6b0 \uc774\ub984\uc758 \ub2e8\uc21c \ubb34\uc791\uc704 \ud45c\ubcf8\n",
    "np.random.choice(actor_names, 5, replace=False)"
   ]
  },
  {
   "cell_type": "markdown",
   "id": "cell-16",
   "metadata": {},
   "source": [
    "`sample`\uc774 \uadf8\ub7ac\ub358 \uac83\ucc98\ub7fc `np.random.choice`\ub3c4 \ud45c\ubcf8\ucd94\ucd9c\ub41c \uc694\uc18c\uc758 \uc804\uccb4 \uc2dc\ud000\uc2a4\ub97c \uc81c\uacf5\ud569\ub2c8\ub2e4. \ubc30\uc5f4 \uc5f0\uc0b0\uc744 \uc0ac\uc6a9\ud558\uc5ec \ud45c\ubcf8\uc5d0 \ub300\ud55c \ub9ce\uc740 \uc9c8\ubb38\uc5d0 \ub2f5\ud560 \uc218 \uc788\uc2b5\ub2c8\ub2e4. \uc608\ub97c \ub4e4\uc5b4, \ub450 \ubc88\uc9f8\ub85c \ucd94\ucd9c\ub41c \ubc30\uc6b0\uac00 \ub204\uad6c\uc778\uc9c0, \ub450 \ubc88 \uc774\uc0c1 \ub098\ud0c0\ub09c \uc8fc\uc0ac\uc704\uc758 \uba74\uc758 \uc218\ub97c \ucc3e\uc744 \uc218 \uc788\uc2b5\ub2c8\ub2e4. \uc77c\ubd80 \ub2f5\ubcc0\uc740 \uc5ec\ub7ec \uc904\uc758 \ucf54\ub4dc\uac00 \ud544\uc694\ud560 \uc218 \uc788\uc2b5\ub2c8\ub2e4."
   ]
  },
  {
   "cell_type": "markdown",
   "id": "cell-17",
   "metadata": {},
   "source": [
    "## \ubc94\uc8fc\ud615 \ubd84\ud3ec\uc5d0\uc11c \ud45c\ubcf8\ucd94\ucd9c\n",
    "\ub54c\ub85c\ub294 \ud45c\ubcf8\ucd94\ucd9c\ub41c \uac1c\uccb4\uc758 \ubc94\uc8fc\ud615 \uc18d\uc131\uc5d0 \uad00\uc2ec\uc774 \uc788\uc2b5\ub2c8\ub2e4. \uc608\ub97c \ub4e4\uc5b4, \ub3d9\uc804\uc774 \uc55e\uba74 \ub610\ub294 \ub4b7\uba74\uc73c\ub85c \ub5a8\uc5b4\uc9c0\ub294\uc9c0 \ubcf4\uace0 \uc788\uc744 \uc218 \uc788\uc2b5\ub2c8\ub2e4. \ub610\ub294 \ubb34\uc791\uc704\ub85c \uc120\ud0dd\ub41c \uc720\uad8c\uc790\uc758 \uc815\ub2f9\uc5d0 \uad00\uc2ec\uc774 \uc788\uc744 \uc218 \uc788\uc2b5\ub2c8\ub2e4.\n",
    "\n",
    "\uc774\ub7ec\ud55c \uacbd\uc6b0 \ub2e4\ub978 \ubc94\uc8fc\uc5d0\uc11c \ud45c\ubcf8\ucd94\ucd9c\ub41c \uc720\uad8c\uc790\uc758 \ube44\uc728\uc774 \uc790\uc8fc \ud544\uc694\ud569\ub2c8\ub2e4. \uc804\uccb4 \ud45c\ubcf8\uc774 \uc788\uc73c\uba74 \uc774\ub7ec\ud55c \ube44\uc728\uc744 \uacc4\uc0b0\ud560 \uc218 \uc788\uc2b5\ub2c8\ub2e4. `datascience` \ub77c\uc774\ube0c\ub7ec\ub9ac\uc758 `sample_proportions` \ud568\uc218\uac00 \uc6b0\ub9ac\ub97c \uc704\ud574 \uadf8 \uc791\uc5c5\uc744 \uc218\ud589\ud569\ub2c8\ub2e4. \ubc94\uc8fc\ud615 \ubd84\ud3ec\uc5d0\uc11c \ubcf5\uc6d0\ucd94\ucd9c\ub85c \ubb34\uc791\uc704\ub85c \ud45c\ubcf8\ucd94\ucd9c\ud558\uace0 \uac01 \ubc94\uc8fc\uc5d0\uc11c \ud45c\ubcf8\ucd94\ucd9c\ub41c \uc694\uc18c\uc758 \ube44\uc728\uc744 \ubc18\ud658\ud558\ub3c4\ub85d \ud2b9\ubcc4\ud788 \uc124\uacc4\ub418\uc5c8\uc2b5\ub2c8\ub2e4.\n",
    "\n",
    "`sample_proportions` \ud568\uc218\ub294 \ub450 \uac1c\uc758 \uc778\uc218\ub97c \ubc1b\uc2b5\ub2c8\ub2e4:\n",
    "- \ud45c\ubcf8 \ud06c\uae30\n",
    "- \ubaa8\uc9d1\ub2e8\uc758 \ubc94\uc8fc \ubd84\ud3ec, \ud569\uc774 1\uc774 \ub418\ub294 \ube44\uc728\uc758 \ub9ac\uc2a4\ud2b8 \ub610\ub294 \ubc30\uc5f4\ub85c\n",
    "\n",
    "\ubaa8\uc9d1\ub2e8\uc5d0\uc11c \ucd94\ucd9c\ub41c \uc8fc\uc5b4\uc9c4 \ud06c\uae30\uc758 \ubb34\uc791\uc704 \ud45c\ubcf8\uc5d0\uc11c \ubc94\uc8fc\uc758 \ubd84\ud3ec\ub97c \ud3ec\ud568\ud558\ub294 \ubc30\uc5f4\uc744 \ubc18\ud658\ud569\ub2c8\ub2e4. \uc989, \ubaa8\uc9d1\ub2e8 \ubd84\ud3ec\uc5d0 \ub098\ud0c0\ub09c \uac83\uacfc \ub3d9\uc77c\ud55c \uc21c\uc11c\ub85c \ubaa8\ub4e0 \ub2e4\ub978 \ubc94\uc8fc\uc758 \ud45c\ubcf8 \ube44\uc728\ub85c \uad6c\uc131\ub41c \ubc30\uc5f4\uc785\ub2c8\ub2e4.\n",
    "\n",
    "\uc608\ub97c \ub4e4\uc5b4, \uc5b4\ub5a4 \uc885\uc758 \uac01 \uc2dd\ubb3c\uc774 25%\uc758 \ud655\ub960\ub85c \ube68\uac04 \uaf43\uc744 \ud53c\uc6b0\uace0, 50%\uc758 \ud655\ub960\ub85c \ubd84\ud64d \uaf43\uc744 \ud53c\uc6b0\uace0, 25%\uc758 \ud655\ub960\ub85c \ud770 \uaf43\uc744 \ud53c\uc6b4\ub2e4\uace0 \uac00\uc815\ud574\ubd05\uc2dc\ub2e4. \uc774\ub294 \ub2e4\ub978 \ubaa8\ub4e0 \uc2dd\ubb3c\uc758 \uaf43 \uc0c9\uae54\uacfc \ubb34\uad00\ud569\ub2c8\ub2e4. `sample_proportions`\ub97c \uc0ac\uc6a9\ud558\uc5ec \uc885\uc758 300\uac1c \uc2dd\ubb3c \uc911 \ub2e4\ub978 \uc0c9\uae54\uc758 \ube44\uc728\uc744 \ubcfc \uc218 \uc788\uc2b5\ub2c8\ub2e4."
   ]
  },
  {
   "cell_type": "code",
   "execution_count": 87,
   "id": "cell-18",
   "metadata": {},
   "outputs": [
    {
     "output_type": "execute_result",
     "data": {
      "text/plain": [
       "array([ 0.29,  0.55,  0.16])"
      ]
     },
     "metadata": {},
     "execution_count": 87
    }
   ],
   "source": [
    "# \uc885\uc758 \uaf43 \uc0c9\uae54 \ubd84\ud3ec:\n",
    "# \ube44\uc728\uc740 \ube68\uac15, \ubd84\ud64d, \ud770\uc0c9 \uc21c\uc11c\n",
    "species_proportions = [0.25, 0.5, .25]\n",
    "#species_proportions = [0.2, 0.8]\n",
    "\n",
    "sample_size = 100\n",
    "\n",
    "# \ud45c\ubcf8\uc758 \ubd84\ud3ec\n",
    "sample_distribution = sample_proportions(sample_size, species_proportions)\n",
    "sample_distribution"
   ]
  },
  {
   "cell_type": "markdown",
   "id": "cell-19",
   "metadata": {},
   "source": [
    "\uc608\uc0c1\ub300\ub85c \ud45c\ubcf8\uc758 \ube44\uc728 \ud569\uc740 1\uc785\ub2c8\ub2e4."
   ]
  },
  {
   "cell_type": "code",
   "execution_count": 88,
   "id": "cell-20",
   "metadata": {},
   "outputs": [
    {
     "output_type": "execute_result",
     "data": {
      "text/plain": [
       "1.0"
      ]
     },
     "metadata": {},
     "execution_count": 88
    }
   ],
   "source": [
    "sum(sample_distribution)"
   ]
  },
  {
   "cell_type": "markdown",
   "id": "cell-21",
   "metadata": {},
   "source": [
    "`species_proportions`\uc758 \ubc94\uc8fc\ub294 \ube68\uac15, \ubd84\ud64d, \ud770\uc0c9 \uc21c\uc11c\uc785\ub2c8\ub2e4. \uc774 \uc21c\uc11c\ub294 `sample_proportions`\uc5d0 \uc758\ud574 \uc720\uc9c0\ub429\ub2c8\ub2e4. \ud45c\ubcf8\uc5d0\uc11c \ubd84\ud64d \uaf43 \uc2dd\ubb3c\uc758 \ube44\uc728\ub9cc \uc6d0\ud55c\ub2e4\uba74 `item`\uc744 \uc0ac\uc6a9\ud560 \uc218 \uc788\uc2b5\ub2c8\ub2e4:"
   ]
  },
  {
   "cell_type": "code",
   "execution_count": 89,
   "id": "cell-22",
   "metadata": {},
   "outputs": [
    {
     "output_type": "execute_result",
     "data": {
      "text/plain": [
       "0.55"
      ]
     },
     "metadata": {},
     "execution_count": 89
    }
   ],
   "source": [
    "# \uc55e\uba74\uc758 \ud45c\ubcf8 \ube44\uc728\n",
    "sample_distribution.item(1)"
   ]
  },
  {
   "cell_type": "markdown",
   "id": "cell-23",
   "metadata": {},
   "source": [
    "`sample_proportions`\uc640 \ubc30\uc5f4 \uc5f0\uc0b0\uc744 \uc0ac\uc6a9\ud558\uc5ec \ub2e4\ub978 \ubc94\uc8fc\uc5d0\uc11c \ud45c\ubcf8\ucd94\ucd9c\ub41c \uac1c\uccb4\uc758 \ube44\uc728\ub9cc\uc744 \uae30\ubc18\uc73c\ub85c \ud558\ub294 \uc9c8\ubb38\uc5d0 \ub2f5\ud560 \uc218 \uc788\uc2b5\ub2c8\ub2e4. \ud45c\ubcf8\ucd94\ucd9c\ub41c \uc2dd\ubb3c \uc911 \uc5b4\ub290 \uac83\uc774 \ub2e4\ub978 \uc0c9\uae54\uc744 \uac00\uc84c\ub294\uc9c0\uc640 \uac19\uc774 \ud45c\ubcf8\uc5d0 \ub300\ud55c \ub354 \uc790\uc138\ud55c \uc815\ubcf4\uac00 \ud544\uc694\ud55c \uc9c8\ubb38\uc5d0\ub294 \ub2f5\ud560 \uc218 \uc5c6\uc2b5\ub2c8\ub2e4."
   ]
  },
  {
   "cell_type": "code",
   "execution_count": null,
   "id": "cell-24",
   "metadata": {},
   "outputs": [],
   "source": []
  }
 ],
 "metadata": {
  "kernelspec": {
   "display_name": "Python 3",
   "language": "python",
   "name": "python3"
  },
  "language_info": {
   "codemirror_mode": {
    "name": "ipython",
    "version": 3
   },
   "file_extension": ".py",
   "mimetype": "text/x-python",
   "name": "python",
   "nbconvert_exporter": "python",
   "pygments_lexer": "ipython3",
   "version": "3.8.5"
  }
 },
 "nbformat": 4,
 "nbformat_minor": 5
}