{
 "cells": [
  {
   "cell_type": "code",
   "execution_count": 1,
   "id": "cell-0",
   "metadata": {},
   "outputs": [],
   "source": [
    "from datascience import *\n",
    "#path_data = '../../../assets/data/'\n",
    "path_data = '/content/gdrive/MyDrive/DataScience/data/'\n",
    "import matplotlib\n",
    "matplotlib.use('Agg')\n",
    "%matplotlib inline\n",
    "import matplotlib.pyplot as plots\n",
    "plots.style.use('fivethirtyeight')\n",
    "import numpy as np"
   ]
  },
  {
   "cell_type": "code",
   "execution_count": 2,
   "id": "cell-1",
   "metadata": {},
   "outputs": [
    {
     "output_type": "stream",
     "name": "stdout",
     "text": [
      "Mounted at /content/gdrive\n"
     ]
    }
   ],
   "source": [
    "from google.colab import drive\n",
    "drive.mount('/content/gdrive')"
   ]
  },
  {
   "cell_type": "markdown",
   "id": "cell-2",
   "metadata": {},
   "source": [
    "# Python에서의 무작위 표본추출\n",
    "\n",
    "이 절은 Python을 사용하여 무작위로 표본추출하는 방법을 요약하고 새로운 방법을 소개합니다.\n",
    "\n",
    "## 복습: 테이블의 모집단에서 표본추출\n",
    "데이터가 테이블의 행으로 표현된 개체 모집단에서 표본추출하는 경우 테이블 메서드 `sample`을 사용하여 테이블의 행을 [무작위로 선택](https://inferentialthinking.com/chapters/10/1/Empirical_Distributions.html#id1)할 수 있습니다. 즉, `sample`을 사용하여 개체의 무작위 표본을 선택할 수 있습니다.\n",
    "\n",
    "기본적으로 `sample`은 복원추출로 균등하게 무작위로 추출합니다. 이것은 주사위 굴리기와 같은 우연 실험에 대한 자연스러운 모델입니다."
   ]
  },
  {
   "cell_type": "code",
   "execution_count": 3,
   "id": "cell-3",
   "metadata": {},
   "outputs": [
    {
     "output_type": "execute_result",
     "data": {
      "text/plain": [
       "Face\n",
       "1\n",
       "2\n",
       "3\n",
       "4\n",
       "5\n",
       "6"
      ],
      "text/html": [
       "<table border=\"1\" class=\"dataframe\">\n",
       "    <thead>\n",
       "        <tr>\n",
       "            <th>Face</th>\n",
       "        </tr>\n",
       "    </thead>\n",
       "    <tbody>\n",
       "        <tr>\n",
       "            <td>1   </td>\n",
       "        </tr>\n",
       "        <tr>\n",
       "            <td>2   </td>\n",
       "        </tr>\n",
       "        <tr>\n",
       "            <td>3   </td>\n",
       "        </tr>\n",
       "        <tr>\n",
       "            <td>4   </td>\n",
       "        </tr>\n",
       "        <tr>\n",
       "            <td>5   </td>\n",
       "        </tr>\n",
       "        <tr>\n",
       "            <td>6   </td>\n",
       "        </tr>\n",
       "    </tbody>\n",
       "</table>"
      ]
     },
     "metadata": {},
     "execution_count": 3
    }
   ],
   "source": [
    "faces = np.arange(1, 7)\n",
    "die = Table().with_columns('Face', faces)\n",
    "die"
   ]
  },
  {
   "cell_type": "markdown",
   "id": "cell-4",
   "metadata": {},
   "source": [
    "아래 셀을 실행하여 주사위를 7번 굴린 것을 시뮬레이션하세요."
   ]
  },
  {
   "cell_type": "code",
   "execution_count": 7,
   "id": "cell-5",
   "metadata": {},
   "outputs": [
    {
     "output_type": "execute_result",
     "data": {
      "text/plain": [
       "Face\n",
       "1\n",
       "3\n",
       "4\n",
       "3\n",
       "6\n",
       "2"
      ],
      "text/html": [
       "<table border=\"1\" class=\"dataframe\">\n",
       "    <thead>\n",
       "        <tr>\n",
       "            <th>Face</th>\n",
       "        </tr>\n",
       "    </thead>\n",
       "    <tbody>\n",
       "        <tr>\n",
       "            <td>1   </td>\n",
       "        </tr>\n",
       "        <tr>\n",
       "            <td>3   </td>\n",
       "        </tr>\n",
       "        <tr>\n",
       "            <td>4   </td>\n",
       "        </tr>\n",
       "        <tr>\n",
       "            <td>3   </td>\n",
       "        </tr>\n",
       "        <tr>\n",
       "            <td>6   </td>\n",
       "        </tr>\n",
       "        <tr>\n",
       "            <td>2   </td>\n",
       "        </tr>\n",
       "    </tbody>\n",
       "</table>"
      ]
     },
     "metadata": {},
     "execution_count": 7
    }
   ],
   "source": [
    "die.sample(6)"
   ]
  },
  {
   "cell_type": "markdown",
   "id": "cell-6",
   "metadata": {},
   "source": [
    "때로는 비복원추출로 개체를 무작위로 표본추출하는 것이 더 자연스럽습니다. 이것을 단순 무작위 표본이라고 합니다. 인수 `with_replacement=False`를 사용하면 이렇게 할 수 있습니다."
   ]
  },
  {
   "cell_type": "code",
   "execution_count": 8,
   "id": "cell-7",
   "metadata": {},
   "outputs": [
    {
     "output_type": "execute_result",
     "data": {
      "text/plain": [
       "Actor              | Total Gross | Number of Movies | Average per Movie | #1 Movie                     | Gross\n",
       "Harrison Ford      | 4871.7      | 41               | 118.8             | Star Wars: The Force Awakens | 936.7\n",
       "Samuel L. Jackson  | 4772.8      | 69               | 69.2              | The Avengers                 | 623.4\n",
       "Morgan Freeman     | 4468.3      | 61               | 73.3              | The Dark Knight              | 534.9\n",
       "Tom Hanks          | 4340.8      | 44               | 98.7              | Toy Story 3                  | 415\n",
       "Robert Downey, Jr. | 3947.3      | 53               | 74.5              | The Avengers                 | 623.4\n",
       "Eddie Murphy       | 3810.4      | 38               | 100.3             | Shrek 2                      | 441.2\n",
       "Tom Cruise         | 3587.2      | 36               | 99.6              | War of the Worlds            | 234.3\n",
       "Johnny Depp        | 3368.6      | 45               | 74.9              | Dead Man's Chest             | 423.3\n",
       "Michael Caine      | 3351.5      | 58               | 57.8              | The Dark Knight              | 534.9\n",
       "Scarlett Johansson | 3341.2      | 37               | 90.3              | The Avengers                 | 623.4\n",
       "... (40 rows omitted)"
      ],
      "text/html": [
       "<table border=\"1\" class=\"dataframe\">\n",
       "    <thead>\n",
       "        <tr>\n",
       "            <th>Actor</th> <th>Total Gross</th> <th>Number of Movies</th> <th>Average per Movie</th> <th>#1 Movie</th> <th>Gross</th>\n",
       "        </tr>\n",
       "    </thead>\n",
       "    <tbody>\n",
       "        <tr>\n",
       "            <td>Harrison Ford     </td> <td>4871.7     </td> <td>41              </td> <td>118.8            </td> <td>Star Wars: The Force Awakens</td> <td>936.7</td>\n",
       "        </tr>\n",
       "        <tr>\n",
       "            <td>Samuel L. Jackson </td> <td>4772.8     </td> <td>69              </td> <td>69.2             </td> <td>The Avengers                </td> <td>623.4</td>\n",
       "        </tr>\n",
       "        <tr>\n",
       "            <td>Morgan Freeman    </td> <td>4468.3     </td> <td>61              </td> <td>73.3             </td> <td>The Dark Knight             </td> <td>534.9</td>\n",
       "        </tr>\n",
       "        <tr>\n",
       "            <td>Tom Hanks         </td> <td>4340.8     </td> <td>44              </td> <td>98.7             </td> <td>Toy Story 3                 </td> <td>415  </td>\n",
       "        </tr>\n",
       "        <tr>\n",
       "            <td>Robert Downey, Jr.</td> <td>3947.3     </td> <td>53              </td> <td>74.5             </td> <td>The Avengers                </td> <td>623.4</td>\n",
       "        </tr>\n",
       "        <tr>\n",
       "            <td>Eddie Murphy      </td> <td>3810.4     </td> <td>38              </td> <td>100.3            </td> <td>Shrek 2                     </td> <td>441.2</td>\n",
       "        </tr>\n",
       "        <tr>\n",
       "            <td>Tom Cruise        </td> <td>3587.2     </td> <td>36              </td> <td>99.6             </td> <td>War of the Worlds           </td> <td>234.3</td>\n",
       "        </tr>\n",
       "        <tr>\n",
       "            <td>Johnny Depp       </td> <td>3368.6     </td> <td>45              </td> <td>74.9             </td> <td>Dead Man's Chest            </td> <td>423.3</td>\n",
       "        </tr>\n",
       "        <tr>\n",
       "            <td>Michael Caine     </td> <td>3351.5     </td> <td>58              </td> <td>57.8             </td> <td>The Dark Knight             </td> <td>534.9</td>\n",
       "        </tr>\n",
       "        <tr>\n",
       "            <td>Scarlett Johansson</td> <td>3341.2     </td> <td>37              </td> <td>90.3             </td> <td>The Avengers                </td> <td>623.4</td>\n",
       "        </tr>\n",
       "    </tbody>\n",
       "</table>\n",
       "<p>... (40 rows omitted)</p>"
      ]
     },
     "metadata": {},
     "execution_count": 8
    }
   ],
   "source": [
    "actors = Table.read_table(path_data + 'actors.csv')\n",
    "actors"
   ]
  },
  {
   "cell_type": "code",
   "execution_count": 9,
   "id": "cell-8",
   "metadata": {},
   "outputs": [
    {
     "output_type": "execute_result",
     "data": {
      "text/plain": [
       "Actor                  | Total Gross | Number of Movies | Average per Movie | #1 Movie                            | Gross\n",
       "Daniel Radcliffe       | 2634.4      | 17               | 155               | Harry Potter / Deathly Hallows (P2) | 381\n",
       "Robert DeNiro          | 3081.3      | 79               | 39                | Meet the Fockers                    | 279.3\n",
       "Michael Caine          | 3351.5      | 58               | 57.8              | The Dark Knight                     | 534.9\n",
       "Jeremy Renner          | 2500.3      | 21               | 119.1             | The Avengers                        | 623.4\n",
       "Philip Seymour Hoffman | 2463.7      | 40               | 61.6              | Catching Fire                       | 424.7"
      ],
      "text/html": [
       "<table border=\"1\" class=\"dataframe\">\n",
       "    <thead>\n",
       "        <tr>\n",
       "            <th>Actor</th> <th>Total Gross</th> <th>Number of Movies</th> <th>Average per Movie</th> <th>#1 Movie</th> <th>Gross</th>\n",
       "        </tr>\n",
       "    </thead>\n",
       "    <tbody>\n",
       "        <tr>\n",
       "            <td>Daniel Radcliffe      </td> <td>2634.4     </td> <td>17              </td> <td>155              </td> <td>Harry Potter / Deathly Hallows (P2)</td> <td>381  </td>\n",
       "        </tr>\n",
       "        <tr>\n",
       "            <td>Robert DeNiro         </td> <td>3081.3     </td> <td>79              </td> <td>39               </td> <td>Meet the Fockers                   </td> <td>279.3</td>\n",
       "        </tr>\n",
       "        <tr>\n",
       "            <td>Michael Caine         </td> <td>3351.5     </td> <td>58              </td> <td>57.8             </td> <td>The Dark Knight                    </td> <td>534.9</td>\n",
       "        </tr>\n",
       "        <tr>\n",
       "            <td>Jeremy Renner         </td> <td>2500.3     </td> <td>21              </td> <td>119.1            </td> <td>The Avengers                       </td> <td>623.4</td>\n",
       "        </tr>\n",
       "        <tr>\n",
       "            <td>Philip Seymour Hoffman</td> <td>2463.7     </td> <td>40              </td> <td>61.6             </td> <td>Catching Fire                      </td> <td>424.7</td>\n",
       "        </tr>\n",
       "    </tbody>\n",
       "</table>"
      ]
     },
     "metadata": {},
     "execution_count": 9
    }
   ],
   "source": [
    "# 5개 행의 단순 무작위 표본\n",
    "actors.sample(5, with_replacement=False)"
   ]
  },
  {
   "cell_type": "markdown",
   "id": "cell-9",
   "metadata": {},
   "source": [
    "`sample`은 행이 선택된 순서대로 전체 표본을 제공하므로 표본추출된 테이블에 대해 테이블 메서드를 사용하여 표본에 대한 많은 질문에 답할 수 있습니다. 예를 들어, 주사위가 6개의 점을 보여준 횟수, 표본추출된 배우들이 출연한 평균 영화 수, 특정 두 배우가 표본에 나타났는지 여부를 찾을 수 있습니다. 이 정보 중 일부를 얻으려면 여러 줄의 코드가 필요할 수 있습니다."
   ]
  },
  {
   "cell_type": "markdown",
   "id": "cell-10",
   "metadata": {},
   "source": [
    "## 복습: 배열의 모집단에서 표본추출\n",
    "\n",
    "데이터가 배열로 표현된 개체 모집단에서 표본추출하는 경우 NumPy 함수 `np.random.choice`를 사용하여 배열의 요소를 [무작위로 선택](https://inferentialthinking.com/chapters/09/3/Simulation.html#example-number-of-heads-in-100-tosses)할 수 있습니다.\n",
    "\n",
    "기본적으로 `np.random.choice`는 복원추출로 무작위로 표본추출합니다."
   ]
  },
  {
   "cell_type": "code",
   "execution_count": 10,
   "id": "cell-11",
   "metadata": {},
   "outputs": [
    {
     "output_type": "execute_result",
     "data": {
      "text/plain": [
       "array([1, 2, 3, 4, 5, 6])"
      ]
     },
     "metadata": {},
     "execution_count": 10
    }
   ],
   "source": [
    "# 주사위의 면들, 배열로\n",
    "faces"
   ]
  },
  {
   "cell_type": "code",
   "execution_count": 11,
   "id": "cell-12",
   "metadata": {},
   "outputs": [
    {
     "output_type": "execute_result",
     "data": {
      "text/plain": [
       "array([3, 5, 2, 6, 1, 6, 3])"
      ]
     },
     "metadata": {},
     "execution_count": 11
    }
   ],
   "source": [
    "# 주사위를 7번 굴림\n",
    "np.random.choice(faces, 7)"
   ]
  },
  {
   "cell_type": "markdown",
   "id": "cell-13",
   "metadata": {},
   "source": [
    "인수 `replace=False`를 사용하면 비복원추출로 추출된 단순 무작위 표본을 얻을 수 있습니다."
   ]
  },
  {
   "cell_type": "code",
   "execution_count": 12,
   "id": "cell-14",
   "metadata": {},
   "outputs": [],
   "source": [
    "# 배우 이름 배열\n",
    "actor_names = actors.column('Actor')"
   ]
  },
  {
   "cell_type": "code",
   "execution_count": 13,
   "id": "cell-15",
   "metadata": {},
   "outputs": [
    {
     "output_type": "execute_result",
     "data": {
      "text/plain": [
       "array(['Cameron Diaz', 'Ben Stiller', 'Tom Hanks', 'Cate Blanchett',\n",
       "       'Eddie Murphy'],\n",
       "      dtype='<U22')"
      ]
     },
     "metadata": {},
     "execution_count": 13
    }
   ],
   "source": [
    "# 5개 배우 이름의 단순 무작위 표본\n",
    "np.random.choice(actor_names, 5, replace=False)"
   ]
  },
  {
   "cell_type": "markdown",
   "id": "cell-16",
   "metadata": {},
   "source": [
    "`sample`이 그랬던 것처럼 `np.random.choice`도 표본추출된 요소의 전체 시퀀스를 제공합니다. 배열 연산을 사용하여 표본에 대한 많은 질문에 답할 수 있습니다. 예를 들어, 두 번째로 추출된 배우가 누구인지, 두 번 이상 나타난 주사위의 면의 수를 찾을 수 있습니다. 일부 답변은 여러 줄의 코드가 필요할 수 있습니다."
   ]
  },
  {
   "cell_type": "markdown",
   "id": "cell-17",
   "metadata": {},
   "source": [
    "## 범주형 분포에서 표본추출\n",
    "때로는 표본추출된 개체의 범주형 속성에 관심이 있습니다. 예를 들어, 동전이 앞면 또는 뒷면으로 떨어지는지 보고 있을 수 있습니다. 또는 무작위로 선택된 유권자의 정당에 관심이 있을 수 있습니다.\n",
    "\n",
    "이러한 경우 다른 범주에서 표본추출된 유권자의 비율이 자주 필요합니다. 전체 표본이 있으면 이러한 비율을 계산할 수 있습니다. `datascience` 라이브러리의 `sample_proportions` 함수가 우리를 위해 그 작업을 수행합니다. 범주형 분포에서 복원추출로 무작위로 표본추출하고 각 범주에서 표본추출된 요소의 비율을 반환하도록 특별히 설계되었습니다.\n",
    "\n",
    "`sample_proportions` 함수는 두 개의 인수를 받습니다:\n",
    "- 표본 크기\n",
    "- 모집단의 범주 분포, 합이 1이 되는 비율의 리스트 또는 배열로\n",
    "\n",
    "모집단에서 추출된 주어진 크기의 무작위 표본에서 범주의 분포를 포함하는 배열을 반환합니다. 즉, 모집단 분포에 나타난 것과 동일한 순서로 모든 다른 범주의 표본 비율로 구성된 배열입니다.\n",
    "\n",
    "예를 들어, 어떤 종의 각 식물이 25%의 확률로 빨간 꽃을 피우고, 50%의 확률로 분홍 꽃을 피우고, 25%의 확률로 흰 꽃을 피운다고 가정해봅시다. 이는 다른 모든 식물의 꽃 색깔과 무관합니다. `sample_proportions`를 사용하여 종의 300개 식물 중 다른 색깔의 비율을 볼 수 있습니다."
   ]
  },
  {
   "cell_type": "code",
   "execution_count": 87,
   "id": "cell-18",
   "metadata": {},
   "outputs": [
    {
     "output_type": "execute_result",
     "data": {
      "text/plain": [
       "array([ 0.29,  0.55,  0.16])"
      ]
     },
     "metadata": {},
     "execution_count": 87
    }
   ],
   "source": [
    "# 종의 꽃 색깔 분포:\n",
    "# 비율은 빨강, 분홍, 흰색 순서\n",
    "species_proportions = [0.25, 0.5, .25]\n",
    "#species_proportions = [0.2, 0.8]\n",
    "\n",
    "sample_size = 100\n",
    "\n",
    "# 표본의 분포\n",
    "sample_distribution = sample_proportions(sample_size, species_proportions)\n",
    "sample_distribution"
   ]
  },
  {
   "cell_type": "markdown",
   "id": "cell-19",
   "metadata": {},
   "source": [
    "예상대로 표본의 비율 합은 1입니다."
   ]
  },
  {
   "cell_type": "code",
   "execution_count": 88,
   "id": "cell-20",
   "metadata": {},
   "outputs": [
    {
     "output_type": "execute_result",
     "data": {
      "text/plain": [
       "1.0"
      ]
     },
     "metadata": {},
     "execution_count": 88
    }
   ],
   "source": [
    "sum(sample_distribution)"
   ]
  },
  {
   "cell_type": "markdown",
   "id": "cell-21",
   "metadata": {},
   "source": [
    "`species_proportions`의 범주는 빨강, 분홍, 흰색 순서입니다. 이 순서는 `sample_proportions`에 의해 유지됩니다. 표본에서 분홍 꽃 식물의 비율만 원한다면 `item`을 사용할 수 있습니다:"
   ]
  },
  {
   "cell_type": "code",
   "execution_count": 89,
   "id": "cell-22",
   "metadata": {},
   "outputs": [
    {
     "output_type": "execute_result",
     "data": {
      "text/plain": [
       "0.55"
      ]
     },
     "metadata": {},
     "execution_count": 89
    }
   ],
   "source": [
    "# 앞면의 표본 비율\n",
    "sample_distribution.item(1)"
   ]
  },
  {
   "cell_type": "markdown",
   "id": "cell-23",
   "metadata": {},
   "source": [
    "`sample_proportions`와 배열 연산을 사용하여 다른 범주에서 표본추출된 개체의 비율만을 기반으로 하는 질문에 답할 수 있습니다. 표본추출된 식물 중 어느 것이 다른 색깔을 가졌는지와 같이 표본에 대한 더 자세한 정보가 필요한 질문에는 답할 수 없습니다."
   ]
  },
  {
   "cell_type": "code",
   "execution_count": null,
   "id": "cell-24",
   "metadata": {},
   "outputs": [],
   "source": []
  }
 ],
 "metadata": {
  "kernelspec": {
   "display_name": "Python 3",
   "language": "python",
   "name": "python3"
  },
  "language_info": {
   "codemirror_mode": {
    "name": "ipython",
    "version": 3
   },
   "file_extension": ".py",
   "mimetype": "text/x-python",
   "name": "python",
   "nbconvert_exporter": "python",
   "pygments_lexer": "ipython3",
   "version": "3.8.5"
  }
 },
 "nbformat": 4,
 "nbformat_minor": 5
}