{
  "cells": [
    {
      "cell_type": "code",
      "source": [
        "!pip install datascience"
      ],
      "metadata": {
        "id": "KlSl9r0hG-hR"
      },
      "execution_count": null,
      "outputs": []
    },
    {
      "cell_type": "code",
      "execution_count": null,
      "metadata": {
        "tags": [
          "remove-input"
        ],
        "id": "P14_QkUaanK-"
      },
      "outputs": [],
      "source": [
        "from datascience import *\n",
        "%matplotlib inline\n",
        "path_data = '/content/gdrive/MyDrive/DataScience/data/'\n",
        "import matplotlib.pyplot as plots\n",
        "plots.style.use('fivethirtyeight')\n",
        "import numpy as np"
      ]
    },
    {
      "cell_type": "markdown",
      "metadata": {
        "id": "0o_zL07aanLB"
      },
      "source": [
        "# Deflategate\n",
        "On January 18, 2015, the Indianapolis Colts and the New England Patriots played the American Football Conference (AFC) championship game to determine which of those teams would play in the Super Bowl. After the game, there were allegations that the Patriots' footballs had not been inflated as much as the regulations required; they were softer. This could be an advantage, as softer balls might be easier to catch.\n",
        "\n",
        "For several weeks, the world of American football was consumed by accusations, denials, theories, and suspicions: the press labeled the topic Deflategate, after the Watergate political scandal of the 1970's. The National Football League (NFL) commissioned an independent analysis. In this example, we will perform our own analysis of the data.\n",
        "\n",
        "Pressure is often measured in pounds per square inch (psi). NFL rules stipulate that game balls must be inflated to have pressures in the range 12.5 psi and 13.5 psi. Each team plays with 12 balls. Teams have the responsibility of maintaining the pressure in their own footballs, but game officials inspect the balls. Before the start of the AFC game, all the Patriots' balls were at about 12.5 psi. Most of the Colts' balls were at about 13.0 psi. However, these pre-game data were not recorded.\n",
        "\n",
        "During the second quarter, the Colts intercepted a Patriots ball. On the sidelines, they measured the pressure of the ball and determined that it was below the 12.5 psi threshold. Promptly, they informed officials.\n",
        "\n",
        "At half-time, all the game balls were collected for inspection. Two officials, Clete Blakeman and Dyrol Prioleau, measured the pressure in each of the balls.\n",
        "\n",
        "Here are the data. Each row corresponds to one football. Pressure is measured in psi. The Patriots ball that had been intercepted by the Colts was not inspected at half-time. Nor were most of the Colts' balls – the officials simply ran out of time and had to relinquish the balls for the start of second half play."
      ]
    },
    {
      "cell_type": "code",
      "source": [
        "from google.colab import drive\n",
        "drive.mount('/content/gdrive')"
      ],
      "metadata": {
        "id": "fQzO_rusazTg",
        "colab": {
          "base_uri": "https://localhost:8080/"
        },
        "outputId": "a8fc2547-3d52-476a-e8a2-f42fd07dc6ce"
      },
      "execution_count": null,
      "outputs": [
        {
          "output_type": "stream",
          "name": "stdout",
          "text": [
            "Mounted at /content/gdrive\n"
          ]
        }
      ]
    },
    {
      "cell_type": "code",
      "execution_count": null,
      "metadata": {
        "id": "LO2lD9VxanLE",
        "outputId": "a1e3aa37-bf68-45ff-aa2e-bc8e0827ae05",
        "colab": {
          "base_uri": "https://localhost:8080/",
          "height": 520
        }
      },
      "outputs": [
        {
          "output_type": "display_data",
          "data": {
            "text/plain": [
              "<IPython.core.display.HTML object>"
            ],
            "text/html": [
              "<table border=\"1\" class=\"dataframe\">\n",
              "    <thead>\n",
              "        <tr>\n",
              "            <th>Team</th> <th>Blakeman</th> <th>Prioleau</th>\n",
              "        </tr>\n",
              "    </thead>\n",
              "    <tbody>\n",
              "        <tr>\n",
              "            <td>Patriots</td> <td>11.5    </td> <td>11.8    </td>\n",
              "        </tr>\n",
              "        <tr>\n",
              "            <td>Patriots</td> <td>10.85   </td> <td>11.2    </td>\n",
              "        </tr>\n",
              "        <tr>\n",
              "            <td>Patriots</td> <td>11.15   </td> <td>11.5    </td>\n",
              "        </tr>\n",
              "        <tr>\n",
              "            <td>Patriots</td> <td>10.7    </td> <td>11      </td>\n",
              "        </tr>\n",
              "        <tr>\n",
              "            <td>Patriots</td> <td>11.1    </td> <td>11.45   </td>\n",
              "        </tr>\n",
              "        <tr>\n",
              "            <td>Patriots</td> <td>11.6    </td> <td>11.95   </td>\n",
              "        </tr>\n",
              "        <tr>\n",
              "            <td>Patriots</td> <td>11.85   </td> <td>12.3    </td>\n",
              "        </tr>\n",
              "        <tr>\n",
              "            <td>Patriots</td> <td>11.1    </td> <td>11.55   </td>\n",
              "        </tr>\n",
              "        <tr>\n",
              "            <td>Patriots</td> <td>10.95   </td> <td>11.35   </td>\n",
              "        </tr>\n",
              "        <tr>\n",
              "            <td>Patriots</td> <td>10.5    </td> <td>10.9    </td>\n",
              "        </tr>\n",
              "        <tr>\n",
              "            <td>Patriots</td> <td>10.9    </td> <td>11.35   </td>\n",
              "        </tr>\n",
              "        <tr>\n",
              "            <td>Colts   </td> <td>12.7    </td> <td>12.35   </td>\n",
              "        </tr>\n",
              "        <tr>\n",
              "            <td>Colts   </td> <td>12.75   </td> <td>12.3    </td>\n",
              "        </tr>\n",
              "        <tr>\n",
              "            <td>Colts   </td> <td>12.5    </td> <td>12.95   </td>\n",
              "        </tr>\n",
              "        <tr>\n",
              "            <td>Colts   </td> <td>12.55   </td> <td>12.15   </td>\n",
              "        </tr>\n",
              "    </tbody>\n",
              "</table>"
            ]
          },
          "metadata": {}
        }
      ],
      "source": [
        "football = Table.read_table(path_data + 'deflategate.csv')\n",
        "football.show()"
      ]
    },
    {
      "cell_type": "markdown",
      "metadata": {
        "id": "zOFUeSDaanLG"
      },
      "source": [
        "For each of the 15 balls that were inspected, the two officials got different results. It is not uncommon that repeated measurements on the same object yield different results, especially when the measurements are performed by different people. So we will assign to each the ball the average of the two measurements made on that ball."
      ]
    },
    {
      "cell_type": "code",
      "execution_count": null,
      "metadata": {
        "id": "P6Lsv--danLG",
        "outputId": "cc25b001-93d0-4221-9dc4-743340c2811a",
        "colab": {
          "base_uri": "https://localhost:8080/",
          "height": 520
        }
      },
      "outputs": [
        {
          "output_type": "display_data",
          "data": {
            "text/plain": [
              "<IPython.core.display.HTML object>"
            ],
            "text/html": [
              "<table border=\"1\" class=\"dataframe\">\n",
              "    <thead>\n",
              "        <tr>\n",
              "            <th>Team</th> <th>Combined</th>\n",
              "        </tr>\n",
              "    </thead>\n",
              "    <tbody>\n",
              "        <tr>\n",
              "            <td>Patriots</td> <td>11.65   </td>\n",
              "        </tr>\n",
              "        <tr>\n",
              "            <td>Patriots</td> <td>11.025  </td>\n",
              "        </tr>\n",
              "        <tr>\n",
              "            <td>Patriots</td> <td>11.325  </td>\n",
              "        </tr>\n",
              "        <tr>\n",
              "            <td>Patriots</td> <td>10.85   </td>\n",
              "        </tr>\n",
              "        <tr>\n",
              "            <td>Patriots</td> <td>11.275  </td>\n",
              "        </tr>\n",
              "        <tr>\n",
              "            <td>Patriots</td> <td>11.775  </td>\n",
              "        </tr>\n",
              "        <tr>\n",
              "            <td>Patriots</td> <td>12.075  </td>\n",
              "        </tr>\n",
              "        <tr>\n",
              "            <td>Patriots</td> <td>11.325  </td>\n",
              "        </tr>\n",
              "        <tr>\n",
              "            <td>Patriots</td> <td>11.15   </td>\n",
              "        </tr>\n",
              "        <tr>\n",
              "            <td>Patriots</td> <td>10.7    </td>\n",
              "        </tr>\n",
              "        <tr>\n",
              "            <td>Patriots</td> <td>11.125  </td>\n",
              "        </tr>\n",
              "        <tr>\n",
              "            <td>Colts   </td> <td>12.525  </td>\n",
              "        </tr>\n",
              "        <tr>\n",
              "            <td>Colts   </td> <td>12.525  </td>\n",
              "        </tr>\n",
              "        <tr>\n",
              "            <td>Colts   </td> <td>12.725  </td>\n",
              "        </tr>\n",
              "        <tr>\n",
              "            <td>Colts   </td> <td>12.35   </td>\n",
              "        </tr>\n",
              "    </tbody>\n",
              "</table>"
            ]
          },
          "metadata": {}
        }
      ],
      "source": [
        "football = football.with_column(\n",
        "    'Combined', (football.column(1)+football.column(2))/2\n",
        "    ).drop(1, 2)\n",
        "football.show()"
      ]
    },
    {
      "cell_type": "markdown",
      "metadata": {
        "id": "gx4zB6kQanLH"
      },
      "source": [
        "At a glance, it seems apparent that the Patriots' footballs were at a lower pressure than the Colts' balls. Because some deflation is normal during the course of a game, the independent analysts decided to calculate the drop in pressure from the start of the game. Recall that the Patriots' balls had all started out at about 12.5 psi, and the Colts' balls at about 13.0 psi. Therefore the drop in pressure for the Patriots' balls was computed as 12.5 minus the pressure at half-time, and the drop in pressure for the Colts' balls was 13.0 minus the pressure at half-time.\n",
        "\n",
        "We can calculate the drop in pressure for each football, by first setting up an array of the starting values. For this we will need an array consisting of 11 values each of which is 12.5, and another consisting of four values each of which is all 13. We will use the NumPy function `np.ones`, which takes a count as its argument and returns an array of that many elements, each of which is 1."
      ]
    },
    {
      "cell_type": "code",
      "execution_count": null,
      "metadata": {
        "id": "owohaTU5anLH",
        "outputId": "9dfafa30-bcbf-4e22-be60-9b95e2deabe7",
        "colab": {
          "base_uri": "https://localhost:8080/"
        }
      },
      "outputs": [
        {
          "output_type": "execute_result",
          "data": {
            "text/plain": [
              "array([ 1.,  1.,  1.,  1.,  1.,  1.,  1.,  1.,  1.,  1.,  1.])"
            ]
          },
          "metadata": {},
          "execution_count": 5
        }
      ],
      "source": [
        "np.ones(11)"
      ]
    },
    {
      "cell_type": "code",
      "execution_count": null,
      "metadata": {
        "id": "4yx8eGdYanLI",
        "outputId": "b4db8e43-2e94-4a59-ec25-be76d8cac921",
        "colab": {
          "base_uri": "https://localhost:8080/"
        }
      },
      "outputs": [
        {
          "output_type": "execute_result",
          "data": {
            "text/plain": [
              "array([ 12.5,  12.5,  12.5,  12.5,  12.5,  12.5,  12.5,  12.5,  12.5,\n",
              "        12.5,  12.5,  13. ,  13. ,  13. ,  13. ])"
            ]
          },
          "metadata": {},
          "execution_count": 6
        }
      ],
      "source": [
        "patriots_start = 12.5 * np.ones(11)\n",
        "colts_start = 13 * np.ones(4)\n",
        "start = np.append(patriots_start, colts_start)\n",
        "start"
      ]
    },
    {
      "cell_type": "markdown",
      "metadata": {
        "id": "tZMINVJ1anLJ"
      },
      "source": [
        "The drop in pressure for each football is the difference between the starting pressure and the combined pressure measurement."
      ]
    },
    {
      "cell_type": "code",
      "execution_count": null,
      "metadata": {
        "id": "JqpwoH1BanLJ",
        "outputId": "ae743f86-b0af-4efa-b4d3-7ae50f0bac31",
        "colab": {
          "base_uri": "https://localhost:8080/",
          "height": 520
        }
      },
      "outputs": [
        {
          "output_type": "display_data",
          "data": {
            "text/plain": [
              "<IPython.core.display.HTML object>"
            ],
            "text/html": [
              "<table border=\"1\" class=\"dataframe\">\n",
              "    <thead>\n",
              "        <tr>\n",
              "            <th>Team</th> <th>Combined</th> <th>Pressure Drop</th>\n",
              "        </tr>\n",
              "    </thead>\n",
              "    <tbody>\n",
              "        <tr>\n",
              "            <td>Patriots</td> <td>11.65   </td> <td>0.85         </td>\n",
              "        </tr>\n",
              "        <tr>\n",
              "            <td>Patriots</td> <td>11.025  </td> <td>1.475        </td>\n",
              "        </tr>\n",
              "        <tr>\n",
              "            <td>Patriots</td> <td>11.325  </td> <td>1.175        </td>\n",
              "        </tr>\n",
              "        <tr>\n",
              "            <td>Patriots</td> <td>10.85   </td> <td>1.65         </td>\n",
              "        </tr>\n",
              "        <tr>\n",
              "            <td>Patriots</td> <td>11.275  </td> <td>1.225        </td>\n",
              "        </tr>\n",
              "        <tr>\n",
              "            <td>Patriots</td> <td>11.775  </td> <td>0.725        </td>\n",
              "        </tr>\n",
              "        <tr>\n",
              "            <td>Patriots</td> <td>12.075  </td> <td>0.425        </td>\n",
              "        </tr>\n",
              "        <tr>\n",
              "            <td>Patriots</td> <td>11.325  </td> <td>1.175        </td>\n",
              "        </tr>\n",
              "        <tr>\n",
              "            <td>Patriots</td> <td>11.15   </td> <td>1.35         </td>\n",
              "        </tr>\n",
              "        <tr>\n",
              "            <td>Patriots</td> <td>10.7    </td> <td>1.8          </td>\n",
              "        </tr>\n",
              "        <tr>\n",
              "            <td>Patriots</td> <td>11.125  </td> <td>1.375        </td>\n",
              "        </tr>\n",
              "        <tr>\n",
              "            <td>Colts   </td> <td>12.525  </td> <td>0.475        </td>\n",
              "        </tr>\n",
              "        <tr>\n",
              "            <td>Colts   </td> <td>12.525  </td> <td>0.475        </td>\n",
              "        </tr>\n",
              "        <tr>\n",
              "            <td>Colts   </td> <td>12.725  </td> <td>0.275        </td>\n",
              "        </tr>\n",
              "        <tr>\n",
              "            <td>Colts   </td> <td>12.35   </td> <td>0.65         </td>\n",
              "        </tr>\n",
              "    </tbody>\n",
              "</table>"
            ]
          },
          "metadata": {}
        }
      ],
      "source": [
        "drop = start - football.column('Combined')\n",
        "football = football.with_column('Pressure Drop', drop)\n",
        "football.show()"
      ]
    },
    {
      "cell_type": "markdown",
      "metadata": {
        "id": "z60t_kKqanLK"
      },
      "source": [
        "It looks as though the Patriots' drops were larger than the Colts'. Let's look at the average drop in each of the two groups. We no longer need the combined scores."
      ]
    },
    {
      "cell_type": "code",
      "execution_count": null,
      "metadata": {
        "id": "HDTdW3RkanLL",
        "outputId": "5563402b-6a60-4185-bca0-41b0f61ab400",
        "colab": {
          "base_uri": "https://localhost:8080/",
          "height": 112
        }
      },
      "outputs": [
        {
          "output_type": "execute_result",
          "data": {
            "text/plain": [
              "Team     | Pressure Drop average\n",
              "Colts    | 0.46875\n",
              "Patriots | 1.20227"
            ],
            "text/html": [
              "<table border=\"1\" class=\"dataframe\">\n",
              "    <thead>\n",
              "        <tr>\n",
              "            <th>Team</th> <th>Pressure Drop average</th>\n",
              "        </tr>\n",
              "    </thead>\n",
              "    <tbody>\n",
              "        <tr>\n",
              "            <td>Colts   </td> <td>0.46875              </td>\n",
              "        </tr>\n",
              "        <tr>\n",
              "            <td>Patriots</td> <td>1.20227              </td>\n",
              "        </tr>\n",
              "    </tbody>\n",
              "</table>"
            ]
          },
          "metadata": {},
          "execution_count": 8
        }
      ],
      "source": [
        "football = football.drop('Combined')\n",
        "football.group('Team', np.average)"
      ]
    },
    {
      "cell_type": "markdown",
      "metadata": {
        "id": "HZHzqxFkanLL"
      },
      "source": [
        "The average drop for the Patriots was about 1.2 psi compared to about 0.47 psi for the Colts.\n",
        "\n",
        "The question now is why the Patriots' footballs had a larger drop in pressure, on average, than the Colts footballs. Could it be due to chance?\n",
        "\n",
        "## The Hypotheses\n",
        "How does chance come in here? Nothing was being selected at random. But we can make a chance model by hypothesizing that the 11 Patriots' drops look like a random sample of 11 out of all the 15 drops, with the Colts' drops being the remaining four. That's a completely specified chance model under which we can simulate data. So it's the **null hypothesis**.\n",
        "\n",
        "For the alternative, we can take the position that the Patriots' drops are too large, on average, to resemble a random sample drawn from all the drops.\n",
        "\n",
        "## Test Statistic\n",
        "A natural statistic is the difference between the two average drops, which we will compute as \"average drop for Patriots - average drop for Colts\". Large values of this statistic will favor the alternative hypothesis."
      ]
    },
    {
      "cell_type": "code",
      "execution_count": null,
      "metadata": {
        "id": "1OTQHq06anLM",
        "outputId": "04dca9c8-e28c-4826-b722-3de135aacddb",
        "colab": {
          "base_uri": "https://localhost:8080/"
        }
      },
      "outputs": [
        {
          "output_type": "execute_result",
          "data": {
            "text/plain": [
              "0.733522727272728"
            ]
          },
          "metadata": {},
          "execution_count": 9
        }
      ],
      "source": [
        "observed_means = football.group('Team', np.average).column(1)\n",
        "\n",
        "observed_difference = observed_means.item(1) - observed_means.item(0)\n",
        "observed_difference"
      ]
    },
    {
      "cell_type": "markdown",
      "metadata": {
        "id": "g5722GbvanLN"
      },
      "source": [
        "This positive difference reflects the fact that the average drop in pressure of the Patriots' footballs was greater than that of the Colts."
      ]
    },
    {
      "cell_type": "markdown",
      "metadata": {
        "id": "VnztYJYPanLN"
      },
      "source": [
        "Just as we did in the previous section, we will write a function to calculate the difference between the mean drops in the two groups. The function `difference_of_means` takes two arguments:\n",
        "\n",
        "- the name of the table of data\n",
        "- the label of the column containing the two group labels\n",
        "\n",
        "It returns the difference between the mean drops of the two groups. We will calculate the difference as the Patriots' drops minus the Colts' drops as before."
      ]
    },
    {
      "cell_type": "code",
      "execution_count": null,
      "metadata": {
        "id": "nWk5nlInanLN"
      },
      "outputs": [],
      "source": [
        "def difference_of_means(table, group_label):\n",
        "    reduced = table.select('Pressure Drop', group_label)\n",
        "    means_table = reduced.group(group_label, np.average)\n",
        "    means = means_table.column(1)\n",
        "    return means.item(1) - means.item(0)"
      ]
    },
    {
      "cell_type": "code",
      "execution_count": null,
      "metadata": {
        "id": "VBI-ahNLanLO",
        "outputId": "0769e8b4-949a-4880-e559-377ea534ccad",
        "colab": {
          "base_uri": "https://localhost:8080/"
        }
      },
      "outputs": [
        {
          "output_type": "execute_result",
          "data": {
            "text/plain": [
              "0.733522727272728"
            ]
          },
          "metadata": {},
          "execution_count": 11
        }
      ],
      "source": [
        "difference_of_means(football, 'Team')"
      ]
    },
    {
      "cell_type": "markdown",
      "metadata": {
        "id": "gQ7FLOB6anLO"
      },
      "source": [
        "This is the same as the value we found earlier as the `observed_difference`."
      ]
    },
    {
      "cell_type": "markdown",
      "metadata": {
        "id": "3A__zA-JanLO"
      },
      "source": [
        "## Predicting the Statistic Under the Null Hypothesis\n",
        "If the null hypothesis were true, then it shouldn't matter which footballs are labeled Patriots and which are labeled Colts. The distributions of the two sets of drops would be the same. We can simulate this by randomly shuffling the team labels."
      ]
    },
    {
      "cell_type": "code",
      "execution_count": null,
      "metadata": {
        "id": "L_B8K4BTanLP",
        "outputId": "3626f09c-a59c-45dd-d04d-01f59e64a960",
        "colab": {
          "base_uri": "https://localhost:8080/",
          "height": 520
        }
      },
      "outputs": [
        {
          "output_type": "display_data",
          "data": {
            "text/plain": [
              "<IPython.core.display.HTML object>"
            ],
            "text/html": [
              "<table border=\"1\" class=\"dataframe\">\n",
              "    <thead>\n",
              "        <tr>\n",
              "            <th>Team</th> <th>Pressure Drop</th> <th>Shuffled Label</th>\n",
              "        </tr>\n",
              "    </thead>\n",
              "    <tbody>\n",
              "        <tr>\n",
              "            <td>Patriots</td> <td>0.85         </td> <td>Patriots      </td>\n",
              "        </tr>\n",
              "        <tr>\n",
              "            <td>Patriots</td> <td>1.475        </td> <td>Colts         </td>\n",
              "        </tr>\n",
              "        <tr>\n",
              "            <td>Patriots</td> <td>1.175        </td> <td>Patriots      </td>\n",
              "        </tr>\n",
              "        <tr>\n",
              "            <td>Patriots</td> <td>1.65         </td> <td>Patriots      </td>\n",
              "        </tr>\n",
              "        <tr>\n",
              "            <td>Patriots</td> <td>1.225        </td> <td>Patriots      </td>\n",
              "        </tr>\n",
              "        <tr>\n",
              "            <td>Patriots</td> <td>0.725        </td> <td>Patriots      </td>\n",
              "        </tr>\n",
              "        <tr>\n",
              "            <td>Patriots</td> <td>0.425        </td> <td>Patriots      </td>\n",
              "        </tr>\n",
              "        <tr>\n",
              "            <td>Patriots</td> <td>1.175        </td> <td>Patriots      </td>\n",
              "        </tr>\n",
              "        <tr>\n",
              "            <td>Patriots</td> <td>1.35         </td> <td>Colts         </td>\n",
              "        </tr>\n",
              "        <tr>\n",
              "            <td>Patriots</td> <td>1.8          </td> <td>Patriots      </td>\n",
              "        </tr>\n",
              "        <tr>\n",
              "            <td>Patriots</td> <td>1.375        </td> <td>Patriots      </td>\n",
              "        </tr>\n",
              "        <tr>\n",
              "            <td>Colts   </td> <td>0.475        </td> <td>Colts         </td>\n",
              "        </tr>\n",
              "        <tr>\n",
              "            <td>Colts   </td> <td>0.475        </td> <td>Colts         </td>\n",
              "        </tr>\n",
              "        <tr>\n",
              "            <td>Colts   </td> <td>0.275        </td> <td>Patriots      </td>\n",
              "        </tr>\n",
              "        <tr>\n",
              "            <td>Colts   </td> <td>0.65         </td> <td>Patriots      </td>\n",
              "        </tr>\n",
              "    </tbody>\n",
              "</table>"
            ]
          },
          "metadata": {}
        }
      ],
      "source": [
        "shuffled_labels = football.sample(with_replacement=False).column(0)\n",
        "original_and_shuffled = football.with_column('Shuffled Label', shuffled_labels)\n",
        "original_and_shuffled.show()"
      ]
    },
    {
      "cell_type": "markdown",
      "metadata": {
        "id": "EExpimnoanLP"
      },
      "source": [
        "How do all the group averages compare?"
      ]
    },
    {
      "cell_type": "code",
      "execution_count": null,
      "metadata": {
        "id": "1BBMMgeJanLP",
        "outputId": "0bcc987e-cc80-4f31-eaf6-61165edccee9",
        "colab": {
          "base_uri": "https://localhost:8080/"
        }
      },
      "outputs": [
        {
          "output_type": "execute_result",
          "data": {
            "text/plain": [
              "0.08579545454545401"
            ]
          },
          "metadata": {},
          "execution_count": 13
        }
      ],
      "source": [
        "difference_of_means(original_and_shuffled, 'Shuffled Label')"
      ]
    },
    {
      "cell_type": "code",
      "execution_count": null,
      "metadata": {
        "id": "DDEsDDK-anLP",
        "outputId": "211778e9-3a9c-4740-d5f7-9d6b73c04fd4",
        "colab": {
          "base_uri": "https://localhost:8080/"
        }
      },
      "outputs": [
        {
          "output_type": "execute_result",
          "data": {
            "text/plain": [
              "0.733522727272728"
            ]
          },
          "metadata": {},
          "execution_count": 14
        }
      ],
      "source": [
        "difference_of_means(original_and_shuffled, 'Team')"
      ]
    },
    {
      "cell_type": "markdown",
      "metadata": {
        "id": "kIc1wDFVanLQ"
      },
      "source": [
        "The two teams' average drop values are closer when the team labels are randomly assigned to the footballs than they were for the two groups actually used in the game.\n",
        "\n",
        "## Permutation Test\n",
        "It's time for a step that is now familiar. We will repeatedly simulate of the test statistic under the null hypothesis.\n",
        "\n",
        "by repeatedly permuting the footballs and assigning random sets to the two teams.\n",
        "\n",
        "As usual, we  will start by writing a function `one_simulated_difference` that returns one simulated value of the difference between the mean pressure drops of the groups labeled Patriots and Colts after randomly permuting the team labels of the footballs."
      ]
    },
    {
      "cell_type": "code",
      "execution_count": null,
      "metadata": {
        "id": "voadIb29anLQ"
      },
      "outputs": [],
      "source": [
        "def one_simulated_difference():\n",
        "    shuffled_labels = football.sample(with_replacement = False\n",
        "                                                    ).column('Team')\n",
        "    shuffled_table = football.select('Pressure Drop').with_column(\n",
        "        'Shuffled Label', shuffled_labels)\n",
        "    return difference_of_means(shuffled_table, 'Shuffled Label')"
      ]
    },
    {
      "cell_type": "markdown",
      "metadata": {
        "id": "Pm6VSBdOanLQ"
      },
      "source": [
        "We can now use a `for` loop and this function to create an array `differences` that contains 10,000 values of the test statistic simulated under the null hypothesis."
      ]
    },
    {
      "cell_type": "code",
      "execution_count": null,
      "metadata": {
        "id": "czIJq7GPanLR"
      },
      "outputs": [],
      "source": [
        "differences = make_array()\n",
        "\n",
        "repetitions = 10000\n",
        "for i in np.arange(repetitions):\n",
        "    new_difference = one_simulated_difference()\n",
        "    differences = np.append(differences, new_difference)"
      ]
    },
    {
      "cell_type": "markdown",
      "metadata": {
        "id": "KuV2pDF6anLR"
      },
      "source": [
        "## Conclusion of the Test\n",
        "To calculate the empirical P-value, it's important to recall the alternative hypothesis, which is that the Patriots' drops are too large to be the result of chance variation alone.\n",
        "\n",
        "Larger drops for the Patriots favor the alternative hypothesis. So the p-value is the chance (computed under the null hypothesis) of getting a test statistic equal to our observed value of 0.733522727272728 or larger.\n",
        "\n",
        "The figure below visualizes this calculation. It consists of the empirical distribution of the test statistic under the null hypothesis, with the observed statistic marked in red on the horizontal axis and the area corresponding to the p-value shaded in gold."
      ]
    },
    {
      "cell_type": "code",
      "execution_count": null,
      "metadata": {
        "id": "Q9GV1FjBanLS",
        "outputId": "2203d329-4642-476f-9081-2d9b6520ac48",
        "colab": {
          "base_uri": "https://localhost:8080/",
          "height": 458
        }
      },
      "outputs": [
        {
          "output_type": "stream",
          "name": "stdout",
          "text": [
            "Observed Difference: 0.733522727272728\n"
          ]
        },
        {
          "output_type": "display_data",
          "data": {
            "text/plain": [
              "<Figure size 600x400 with 1 Axes>"
            ],
            "image/png": "[encoded data removed]"
          },
          "metadata": {}
        }
      ],
      "source": [
        "Table().with_column(\n",
        "    'Difference Between Group Averages', differences).hist(\n",
        "    left_end = observed_difference\n",
        ")\n",
        "plots.ylim(-0.1, 1.4)\n",
        "plots.scatter(observed_difference, 0, color='red', s=30, zorder=3)\n",
        "plots.title('Prediction Under the Null Hypothesis')\n",
        "print('Observed Difference:', observed_difference)"
      ]
    },
    {
      "cell_type": "markdown",
      "metadata": {
        "id": "kfMOTL3AanLS"
      },
      "source": [
        "By eye, the p-value looks pretty small. We can confirm this by a calculation."
      ]
    },
    {
      "cell_type": "code",
      "execution_count": null,
      "metadata": {
        "id": "djlTZ3OKanLS",
        "outputId": "67e96b28-0474-4222-c0df-ff5583e24b40",
        "colab": {
          "base_uri": "https://localhost:8080/"
        }
      },
      "outputs": [
        {
          "output_type": "execute_result",
          "data": {
            "text/plain": [
              "0.0031"
            ]
          },
          "metadata": {},
          "execution_count": 18
        }
      ],
      "source": [
        "empirical_p = np.count_nonzero(differences >= observed_difference) / 10000\n",
        "empirical_p"
      ]
    },
    {
      "cell_type": "markdown",
      "metadata": {
        "id": "jUdMk-ydanLT"
      },
      "source": [
        "As in previous examples of this test, the bulk of the distribution is centered around 0. Under the null hypothesis, the Patriots' drops are a random sample of all 15 drops, and therefore so are the Colts'. Therefore the two sets of drops should be about equal on average, and therefore their difference should be around 0.\n",
        "\n",
        "But the observed value of the test statistic is quite far away from the heart of the distribution. By any reasonable cutoff for what is \"small\", the empirical P-value is small. So we end up rejecting the null hypothesis of randomness, and conclude that the Patriots drops were too large to reflect chance variation alone.\n",
        "\n",
        "The independent investigative team analyzed the data in several different ways, taking into account the laws of physics. The final report said,\n",
        "\n",
        "> \"[T]he average pressure drop of the Patriots game balls exceeded the average pressure drop of the Colts balls by 0.45 to 1.02 psi, depending on various possible assumptions regarding the gauges used, and assuming an initial pressure of 12.5 psi for the Patriots balls and 13.0 for the Colts balls.\"\n",
        ">\n",
        "> -- *Investigative report commissioned by the NFL regarding the AFC Championship game on January 18, 2015*\n",
        "\n",
        "Our analysis shows an average pressure drop of about 0.73 psi, which is close to the center of the interval \"0.45 to 1.02 psi\" and therefore consistent with the official analysis."
      ]
    },
    {
      "cell_type": "markdown",
      "metadata": {
        "id": "kJxP9l9LanLU"
      },
      "source": [
        "Remember that our test of hypotheses does not establish the reason *why* the difference is not due to chance. Establishing causality is usually more complex than running a test of hypotheses.\n",
        "\n",
        "But the all-important question in the football world was about causation: the question was whether the excess drop of pressure in the Patriots' footballs was deliberate. If you are curious about the answer given by the investigators, here is the [full report](https://nfllabor.files.wordpress.com/2015/05/investigative-and-expert-reports-re-footballs-used-during-afc-championsh.pdf)."
      ]
    }
  ],
  "metadata": {
    "anaconda-cloud": {},
    "kernelspec": {
      "display_name": "Python 3",
      "language": "python",
      "name": "python3"
    },
    "language_info": {
      "codemirror_mode": {
        "name": "ipython",
        "version": 3
      },
      "file_extension": ".py",
      "mimetype": "text/x-python",
      "name": "python",
      "nbconvert_exporter": "python",
      "pygments_lexer": "ipython3",
      "version": "3.8.3"
    },
    "colab": {
      "provenance": []
    }
  },
  "nbformat": 4,
  "nbformat_minor": 0
}